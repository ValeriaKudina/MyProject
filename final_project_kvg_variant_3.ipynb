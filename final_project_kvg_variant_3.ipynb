{
 "cells": [
  {
   "cell_type": "markdown",
   "metadata": {},
   "source": [
    "# Проект: вариант 3\n",
    "Описание"
   ]
  },
  {
   "cell_type": "markdown",
   "metadata": {},
   "source": [
    "Представьте, что вы работаете в крупном дейтинговом приложении.\n",
    "\n",
    "Помимо базовых функций, в приложении также имеется премиум-подписка, которая дает доступ к ряду важных дополнительных возможностей. Был проведен A/B тест, в рамках которого для новых пользователей из нескольких стран была изменена стоимость премиум-подписки* при покупке через две новые платежные системы. При этом стоимость пробного периода оставалась прежней.\n",
    "\n",
    "Проверьте:\n",
    "\n",
    "Был ли эксперимент успешен в целом.\n",
    "*Деньги за подписку списываются ежемесячно до тех пор, пока пользователь её не отменит."
   ]
  },
  {
   "cell_type": "markdown",
   "metadata": {},
   "source": [
    "# Данные"
   ]
  },
  {
   "cell_type": "markdown",
   "metadata": {},
   "source": [
    "Всего есть три группы: тестовая (test), контрольная 1 (control_1) и контрольная 2 (control_2). Для каждой из них:\n",
    "\n",
    "users_*.csv – информация о пользователях:\n",
    "\n",
    "uid – идентификатор пользователя\n",
    "age – возраст\n",
    "attraction_coeff – коэффициент привлекательности (от 0 до 1000,{лайки}/{просмотры}*1000)\n",
    "coins – число монеток (внутренняя валюта)\n",
    "country – страна  \n",
    "visit_days – в какие дни после регистрации пользователь посещал приложение (напр. в 1, затем в 7)\n",
    "gender – пол\n",
    "age_filter_start  – фильтр поиска, мин. значение \n",
    "age_filter_end  – фильтр поиска, макс. значение \n",
    "views_count – число полученных оценок \n",
    "was_premium – был ли когда-либо премиум (либо пробный период премиум-статуса, либо купленный за деньги)\n",
    "is_premium –  является ли премиум\n",
    "total_revenue – нормированная выручка \n",
    "\n",
    "transactions_*.csv – информация о платежах пользователей:\n",
    "\n",
    "uid – идентификатор пользователя\n",
    "country – страна\n",
    "joined_at – дата и время регистрации\n",
    "paid_at – дата и время покупки\n",
    "revenue – нормированная выручка\n",
    "payment_id – идентификатор платежа\n",
    "from_page – откуда пользователь перешел на страницу оплаты\n",
    "product_type – тип продукта (trial_premium – пробная премиум-подписка, premium_no_trial – премиум-подписка без пробной, coins – подписка за внутреннюю валюту, other_type – другое)"
   ]
  },
  {
   "cell_type": "markdown",
   "metadata": {},
   "source": [
    "# Файлы"
   ]
  },
  {
   "cell_type": "markdown",
   "metadata": {},
   "source": [
    "users_test – информация о пользователях в тестовой группе. \n",
    "users_control_1 – информация о пользователях в первой контрольной группе. \n",
    "users_control_2 – информация о пользователях во второй контрольной группе . \n",
    "transactions_test – информация о платежах пользователей в тестовой группе. \n",
    "transactions_control_1 – информация о платежах пользователей в первой контрольной группе. \n",
    "transactions_control_2 – информация о платежах пользователей во второй контрольной группе "
   ]
  },
  {
   "cell_type": "markdown",
   "metadata": {},
   "source": [
    "# 1.Подключение библиотек, загрузка файлов и их преобразование"
   ]
  },
  {
   "cell_type": "markdown",
   "metadata": {},
   "source": [
    "Для начала посмотрим на данные и проверим:\n",
    "-есть ли пропущение значения в колонках, \n",
    "-пустые строки, \n",
    "-дубликаты в данных (несколько одинаковых строчек),\n",
    "-один пользователь относится только к одной группе"
   ]
  },
  {
   "cell_type": "code",
   "execution_count": 1,
   "metadata": {},
   "outputs": [],
   "source": [
    "import pandas as pd\n",
    "import seaborn as sns\n",
    "import matplotlib.pyplot as plt\n",
    "import pingouin as pg\n",
    "import scipy.stats as st\n",
    "import numpy as np \n",
    "\n",
    "import warnings\n",
    "warnings.simplefilter(action='ignore')"
   ]
  },
  {
   "cell_type": "code",
   "execution_count": 2,
   "metadata": {},
   "outputs": [],
   "source": [
    "users_test = pd.read_csv('/mnt/HC_Volume_18315164/home-jupyter/jupyter-v-kudina/final_project_my/project_3_users_test.csv', sep = ';')\n",
    "users_control_1 = pd.read_csv('/mnt/HC_Volume_18315164/home-jupyter/jupyter-v-kudina/final_project_my/project_3_users_control_1.csv', sep = ';')\n",
    "users_control_2 = pd.read_csv('/mnt/HC_Volume_18315164/home-jupyter/jupyter-v-kudina/final_project_my/project_3_users_control_2.csv', sep = ';')\n",
    "\n",
    "transactions_test = pd.read_csv('/mnt/HC_Volume_18315164/home-jupyter/jupyter-v-kudina/final_project_my/project_3_transactions_test.csv', sep = ';')\n",
    "transactions_control_1 = pd.read_csv('/mnt/HC_Volume_18315164/home-jupyter/jupyter-v-kudina/final_project_my/project_3_transactions_control_1.csv', sep = ';')\n",
    "transactions_control_2 = pd.read_csv('/mnt/HC_Volume_18315164/home-jupyter/jupyter-v-kudina/final_project_my/project_3_transactions_control_2.csv', sep = ';')"
   ]
  },
  {
   "cell_type": "markdown",
   "metadata": {},
   "source": [
    "посмотрим как выглядят данные и их размер"
   ]
  },
  {
   "cell_type": "code",
   "execution_count": 3,
   "metadata": {},
   "outputs": [
    {
     "data": {
      "text/html": [
       "<div>\n",
       "<style scoped>\n",
       "    .dataframe tbody tr th:only-of-type {\n",
       "        vertical-align: middle;\n",
       "    }\n",
       "\n",
       "    .dataframe tbody tr th {\n",
       "        vertical-align: top;\n",
       "    }\n",
       "\n",
       "    .dataframe thead th {\n",
       "        text-align: right;\n",
       "    }\n",
       "</style>\n",
       "<table border=\"1\" class=\"dataframe\">\n",
       "  <thead>\n",
       "    <tr style=\"text-align: right;\">\n",
       "      <th></th>\n",
       "      <th>uid</th>\n",
       "      <th>age</th>\n",
       "      <th>attraction_coeff</th>\n",
       "      <th>coins</th>\n",
       "      <th>country</th>\n",
       "      <th>visit_days</th>\n",
       "      <th>gender</th>\n",
       "      <th>age_filter_start</th>\n",
       "      <th>age_filter_end</th>\n",
       "      <th>views_count</th>\n",
       "      <th>was_premium</th>\n",
       "      <th>is_premium</th>\n",
       "      <th>total_revenue</th>\n",
       "    </tr>\n",
       "  </thead>\n",
       "  <tbody>\n",
       "    <tr>\n",
       "      <th>0</th>\n",
       "      <td>892309896</td>\n",
       "      <td>27</td>\n",
       "      <td>685</td>\n",
       "      <td>NaN</td>\n",
       "      <td>United States of America</td>\n",
       "      <td>1,2,3,4,5,6,7,8,9,10,11,12,16,17</td>\n",
       "      <td>1</td>\n",
       "      <td>24</td>\n",
       "      <td>30</td>\n",
       "      <td>89</td>\n",
       "      <td>NaN</td>\n",
       "      <td>NaN</td>\n",
       "      <td>0</td>\n",
       "    </tr>\n",
       "    <tr>\n",
       "      <th>1</th>\n",
       "      <td>892044516</td>\n",
       "      <td>27</td>\n",
       "      <td>0</td>\n",
       "      <td>NaN</td>\n",
       "      <td>Germany</td>\n",
       "      <td>NaN</td>\n",
       "      <td>1</td>\n",
       "      <td>24</td>\n",
       "      <td>30</td>\n",
       "      <td>0</td>\n",
       "      <td>NaN</td>\n",
       "      <td>NaN</td>\n",
       "      <td>0</td>\n",
       "    </tr>\n",
       "    <tr>\n",
       "      <th>2</th>\n",
       "      <td>892185708</td>\n",
       "      <td>45</td>\n",
       "      <td>44</td>\n",
       "      <td>NaN</td>\n",
       "      <td>Israel</td>\n",
       "      <td>1,3,4,6,7,8,10,11,12,13,14,15,16,17,18,19,20,2...</td>\n",
       "      <td>1</td>\n",
       "      <td>42</td>\n",
       "      <td>48</td>\n",
       "      <td>68</td>\n",
       "      <td>NaN</td>\n",
       "      <td>NaN</td>\n",
       "      <td>0</td>\n",
       "    </tr>\n",
       "  </tbody>\n",
       "</table>\n",
       "</div>"
      ],
      "text/plain": [
       "         uid  age  attraction_coeff  coins                   country  \\\n",
       "0  892309896   27               685    NaN  United States of America   \n",
       "1  892044516   27                 0    NaN                   Germany   \n",
       "2  892185708   45                44    NaN                    Israel   \n",
       "\n",
       "                                          visit_days  gender  \\\n",
       "0                   1,2,3,4,5,6,7,8,9,10,11,12,16,17       1   \n",
       "1                                                NaN       1   \n",
       "2  1,3,4,6,7,8,10,11,12,13,14,15,16,17,18,19,20,2...       1   \n",
       "\n",
       "   age_filter_start  age_filter_end  views_count  was_premium  is_premium  \\\n",
       "0                24              30           89          NaN         NaN   \n",
       "1                24              30            0          NaN         NaN   \n",
       "2                42              48           68          NaN         NaN   \n",
       "\n",
       "   total_revenue  \n",
       "0              0  \n",
       "1              0  \n",
       "2              0  "
      ]
     },
     "execution_count": 3,
     "metadata": {},
     "output_type": "execute_result"
    }
   ],
   "source": [
    "users_test.head(3)"
   ]
  },
  {
   "cell_type": "code",
   "execution_count": 4,
   "metadata": {},
   "outputs": [
    {
     "data": {
      "text/html": [
       "<div>\n",
       "<style scoped>\n",
       "    .dataframe tbody tr th:only-of-type {\n",
       "        vertical-align: middle;\n",
       "    }\n",
       "\n",
       "    .dataframe tbody tr th {\n",
       "        vertical-align: top;\n",
       "    }\n",
       "\n",
       "    .dataframe thead th {\n",
       "        text-align: right;\n",
       "    }\n",
       "</style>\n",
       "<table border=\"1\" class=\"dataframe\">\n",
       "  <thead>\n",
       "    <tr style=\"text-align: right;\">\n",
       "      <th></th>\n",
       "      <th>uid</th>\n",
       "      <th>age</th>\n",
       "      <th>attraction_coeff</th>\n",
       "      <th>coins</th>\n",
       "      <th>country</th>\n",
       "      <th>visit_days</th>\n",
       "      <th>gender</th>\n",
       "      <th>age_filter_start</th>\n",
       "      <th>age_filter_end</th>\n",
       "      <th>views_count</th>\n",
       "      <th>was_premium</th>\n",
       "      <th>is_premium</th>\n",
       "      <th>total_revenue</th>\n",
       "    </tr>\n",
       "  </thead>\n",
       "  <tbody>\n",
       "    <tr>\n",
       "      <th>0</th>\n",
       "      <td>892319115</td>\n",
       "      <td>25</td>\n",
       "      <td>435</td>\n",
       "      <td>NaN</td>\n",
       "      <td>United States of America</td>\n",
       "      <td>1,2,3,4,5,6</td>\n",
       "      <td>0</td>\n",
       "      <td>22</td>\n",
       "      <td>32</td>\n",
       "      <td>982</td>\n",
       "      <td>NaN</td>\n",
       "      <td>NaN</td>\n",
       "      <td>0</td>\n",
       "    </tr>\n",
       "    <tr>\n",
       "      <th>1</th>\n",
       "      <td>891248523</td>\n",
       "      <td>29</td>\n",
       "      <td>500</td>\n",
       "      <td>NaN</td>\n",
       "      <td>United States of America</td>\n",
       "      <td>1,2</td>\n",
       "      <td>1</td>\n",
       "      <td>26</td>\n",
       "      <td>32</td>\n",
       "      <td>12</td>\n",
       "      <td>NaN</td>\n",
       "      <td>NaN</td>\n",
       "      <td>0</td>\n",
       "    </tr>\n",
       "    <tr>\n",
       "      <th>2</th>\n",
       "      <td>891670932</td>\n",
       "      <td>33</td>\n",
       "      <td>800</td>\n",
       "      <td>NaN</td>\n",
       "      <td>France</td>\n",
       "      <td>1,2,3,5,6,8,9,11,13,16</td>\n",
       "      <td>1</td>\n",
       "      <td>30</td>\n",
       "      <td>36</td>\n",
       "      <td>5</td>\n",
       "      <td>NaN</td>\n",
       "      <td>NaN</td>\n",
       "      <td>0</td>\n",
       "    </tr>\n",
       "  </tbody>\n",
       "</table>\n",
       "</div>"
      ],
      "text/plain": [
       "         uid  age  attraction_coeff  coins                   country  \\\n",
       "0  892319115   25               435    NaN  United States of America   \n",
       "1  891248523   29               500    NaN  United States of America   \n",
       "2  891670932   33               800    NaN                    France   \n",
       "\n",
       "               visit_days  gender  age_filter_start  age_filter_end  \\\n",
       "0             1,2,3,4,5,6       0                22              32   \n",
       "1                     1,2       1                26              32   \n",
       "2  1,2,3,5,6,8,9,11,13,16       1                30              36   \n",
       "\n",
       "   views_count  was_premium  is_premium  total_revenue  \n",
       "0          982          NaN         NaN              0  \n",
       "1           12          NaN         NaN              0  \n",
       "2            5          NaN         NaN              0  "
      ]
     },
     "execution_count": 4,
     "metadata": {},
     "output_type": "execute_result"
    }
   ],
   "source": [
    "users_control_1.head(3)"
   ]
  },
  {
   "cell_type": "code",
   "execution_count": 5,
   "metadata": {},
   "outputs": [
    {
     "data": {
      "text/html": [
       "<div>\n",
       "<style scoped>\n",
       "    .dataframe tbody tr th:only-of-type {\n",
       "        vertical-align: middle;\n",
       "    }\n",
       "\n",
       "    .dataframe tbody tr th {\n",
       "        vertical-align: top;\n",
       "    }\n",
       "\n",
       "    .dataframe thead th {\n",
       "        text-align: right;\n",
       "    }\n",
       "</style>\n",
       "<table border=\"1\" class=\"dataframe\">\n",
       "  <thead>\n",
       "    <tr style=\"text-align: right;\">\n",
       "      <th></th>\n",
       "      <th>uid</th>\n",
       "      <th>age</th>\n",
       "      <th>attraction_coeff</th>\n",
       "      <th>coins</th>\n",
       "      <th>country</th>\n",
       "      <th>visit_days</th>\n",
       "      <th>gender</th>\n",
       "      <th>age_filter_start</th>\n",
       "      <th>age_filter_end</th>\n",
       "      <th>views_count</th>\n",
       "      <th>was_premium</th>\n",
       "      <th>is_premium</th>\n",
       "      <th>total_revenue</th>\n",
       "    </tr>\n",
       "  </thead>\n",
       "  <tbody>\n",
       "    <tr>\n",
       "      <th>0</th>\n",
       "      <td>892035504</td>\n",
       "      <td>37</td>\n",
       "      <td>137</td>\n",
       "      <td>NaN</td>\n",
       "      <td>Israel</td>\n",
       "      <td>1,2,3,4,5,6,7,8,9,11,13</td>\n",
       "      <td>1</td>\n",
       "      <td>30</td>\n",
       "      <td>40</td>\n",
       "      <td>51</td>\n",
       "      <td>NaN</td>\n",
       "      <td>NaN</td>\n",
       "      <td>0</td>\n",
       "    </tr>\n",
       "    <tr>\n",
       "      <th>1</th>\n",
       "      <td>891782112</td>\n",
       "      <td>57</td>\n",
       "      <td>0</td>\n",
       "      <td>NaN</td>\n",
       "      <td>Italy</td>\n",
       "      <td>1</td>\n",
       "      <td>1</td>\n",
       "      <td>54</td>\n",
       "      <td>60</td>\n",
       "      <td>0</td>\n",
       "      <td>NaN</td>\n",
       "      <td>NaN</td>\n",
       "      <td>0</td>\n",
       "    </tr>\n",
       "    <tr>\n",
       "      <th>2</th>\n",
       "      <td>891110337</td>\n",
       "      <td>30</td>\n",
       "      <td>769</td>\n",
       "      <td>NaN</td>\n",
       "      <td>France</td>\n",
       "      <td>1,2,3,4,5</td>\n",
       "      <td>1</td>\n",
       "      <td>27</td>\n",
       "      <td>33</td>\n",
       "      <td>13</td>\n",
       "      <td>NaN</td>\n",
       "      <td>NaN</td>\n",
       "      <td>0</td>\n",
       "    </tr>\n",
       "  </tbody>\n",
       "</table>\n",
       "</div>"
      ],
      "text/plain": [
       "         uid  age  attraction_coeff  coins country               visit_days  \\\n",
       "0  892035504   37               137    NaN  Israel  1,2,3,4,5,6,7,8,9,11,13   \n",
       "1  891782112   57                 0    NaN   Italy                        1   \n",
       "2  891110337   30               769    NaN  France                1,2,3,4,5   \n",
       "\n",
       "   gender  age_filter_start  age_filter_end  views_count  was_premium  \\\n",
       "0       1                30              40           51          NaN   \n",
       "1       1                54              60            0          NaN   \n",
       "2       1                27              33           13          NaN   \n",
       "\n",
       "   is_premium  total_revenue  \n",
       "0         NaN              0  \n",
       "1         NaN              0  \n",
       "2         NaN              0  "
      ]
     },
     "execution_count": 5,
     "metadata": {},
     "output_type": "execute_result"
    }
   ],
   "source": [
    "users_control_2.head(3)"
   ]
  },
  {
   "cell_type": "code",
   "execution_count": 6,
   "metadata": {},
   "outputs": [
    {
     "name": "stdout",
     "output_type": "stream",
     "text": [
      "df size in test group:\n",
      " (4308, 13) \n",
      "\n",
      " df size in control1 group:\n",
      " (4340, 13) \n",
      "\n",
      " df size in control2 group:\n",
      " (4264, 13)\n"
     ]
    }
   ],
   "source": [
    "print('df size in test group:\\n',\n",
    "      users_test.shape,\n",
    "      '\\n\\n df size in control1 group:\\n',\n",
    "      users_control_1.shape,\n",
    "      '\\n\\n df size in control2 group:\\n',\n",
    "      users_control_2.shape)"
   ]
  },
  {
   "cell_type": "code",
   "execution_count": 7,
   "metadata": {},
   "outputs": [
    {
     "data": {
      "text/html": [
       "<div>\n",
       "<style scoped>\n",
       "    .dataframe tbody tr th:only-of-type {\n",
       "        vertical-align: middle;\n",
       "    }\n",
       "\n",
       "    .dataframe tbody tr th {\n",
       "        vertical-align: top;\n",
       "    }\n",
       "\n",
       "    .dataframe thead th {\n",
       "        text-align: right;\n",
       "    }\n",
       "</style>\n",
       "<table border=\"1\" class=\"dataframe\">\n",
       "  <thead>\n",
       "    <tr style=\"text-align: right;\">\n",
       "      <th></th>\n",
       "      <th>uid</th>\n",
       "      <th>age</th>\n",
       "      <th>attraction_coeff</th>\n",
       "      <th>coins</th>\n",
       "      <th>country</th>\n",
       "      <th>visit_days</th>\n",
       "      <th>gender</th>\n",
       "      <th>age_filter_start</th>\n",
       "      <th>age_filter_end</th>\n",
       "      <th>views_count</th>\n",
       "      <th>was_premium</th>\n",
       "      <th>is_premium</th>\n",
       "      <th>total_revenue</th>\n",
       "      <th>group</th>\n",
       "    </tr>\n",
       "  </thead>\n",
       "  <tbody>\n",
       "    <tr>\n",
       "      <th>0</th>\n",
       "      <td>892309896</td>\n",
       "      <td>27</td>\n",
       "      <td>685</td>\n",
       "      <td>NaN</td>\n",
       "      <td>United States of America</td>\n",
       "      <td>1,2,3,4,5,6,7,8,9,10,11,12,16,17</td>\n",
       "      <td>1</td>\n",
       "      <td>24</td>\n",
       "      <td>30</td>\n",
       "      <td>89</td>\n",
       "      <td>NaN</td>\n",
       "      <td>NaN</td>\n",
       "      <td>0</td>\n",
       "      <td>test</td>\n",
       "    </tr>\n",
       "    <tr>\n",
       "      <th>1</th>\n",
       "      <td>892044516</td>\n",
       "      <td>27</td>\n",
       "      <td>0</td>\n",
       "      <td>NaN</td>\n",
       "      <td>Germany</td>\n",
       "      <td>NaN</td>\n",
       "      <td>1</td>\n",
       "      <td>24</td>\n",
       "      <td>30</td>\n",
       "      <td>0</td>\n",
       "      <td>NaN</td>\n",
       "      <td>NaN</td>\n",
       "      <td>0</td>\n",
       "      <td>test</td>\n",
       "    </tr>\n",
       "    <tr>\n",
       "      <th>2</th>\n",
       "      <td>892185708</td>\n",
       "      <td>45</td>\n",
       "      <td>44</td>\n",
       "      <td>NaN</td>\n",
       "      <td>Israel</td>\n",
       "      <td>1,3,4,6,7,8,10,11,12,13,14,15,16,17,18,19,20,2...</td>\n",
       "      <td>1</td>\n",
       "      <td>42</td>\n",
       "      <td>48</td>\n",
       "      <td>68</td>\n",
       "      <td>NaN</td>\n",
       "      <td>NaN</td>\n",
       "      <td>0</td>\n",
       "      <td>test</td>\n",
       "    </tr>\n",
       "  </tbody>\n",
       "</table>\n",
       "</div>"
      ],
      "text/plain": [
       "         uid  age  attraction_coeff  coins                   country  \\\n",
       "0  892309896   27               685    NaN  United States of America   \n",
       "1  892044516   27                 0    NaN                   Germany   \n",
       "2  892185708   45                44    NaN                    Israel   \n",
       "\n",
       "                                          visit_days  gender  \\\n",
       "0                   1,2,3,4,5,6,7,8,9,10,11,12,16,17       1   \n",
       "1                                                NaN       1   \n",
       "2  1,3,4,6,7,8,10,11,12,13,14,15,16,17,18,19,20,2...       1   \n",
       "\n",
       "   age_filter_start  age_filter_end  views_count  was_premium  is_premium  \\\n",
       "0                24              30           89          NaN         NaN   \n",
       "1                24              30            0          NaN         NaN   \n",
       "2                42              48           68          NaN         NaN   \n",
       "\n",
       "   total_revenue group  \n",
       "0              0  test  \n",
       "1              0  test  \n",
       "2              0  test  "
      ]
     },
     "execution_count": 7,
     "metadata": {},
     "output_type": "execute_result"
    }
   ],
   "source": [
    "#добавим колонки для обозначения группы пользователя и создадим один общий датафрейм \n",
    "#для более удобного анализирования\n",
    "users_test['group']='test'\n",
    "users_control_1['group']='control1'\n",
    "users_control_2['group']='control2'\n",
    "\n",
    "users_info_full_df = pd.concat([users_test, users_control_1,users_control_2], sort=False, axis=0)\n",
    "users_info_full_df.head(3)"
   ]
  },
  {
   "cell_type": "code",
   "execution_count": 8,
   "metadata": {},
   "outputs": [
    {
     "data": {
      "text/plain": [
       "(12912, 14)"
      ]
     },
     "execution_count": 8,
     "metadata": {},
     "output_type": "execute_result"
    }
   ],
   "source": [
    "users_info_full_df.shape"
   ]
  },
  {
   "cell_type": "code",
   "execution_count": 9,
   "metadata": {},
   "outputs": [
    {
     "name": "stdout",
     "output_type": "stream",
     "text": [
      "ВСЁ ОК\n"
     ]
    }
   ],
   "source": [
    "#проверка данных на полноту\n",
    "if users_test.shape[0]+users_control_1.shape[0]+users_control_2.shape[0]-users_info_full_df.shape[0] == 0:\n",
    "    print('ВСЁ ОК')\n",
    "else:\n",
    "    print('каких-то строчек не хватает')"
   ]
  },
  {
   "cell_type": "code",
   "execution_count": 10,
   "metadata": {},
   "outputs": [
    {
     "name": "stdout",
     "output_type": "stream",
     "text": [
      "все строки уникальны, дублирующихся нет\n"
     ]
    }
   ],
   "source": [
    "#по описанию таблиц с юзерами мы видим, что это должен быть dimension и строки должны быть уникальны\n",
    "#поэтому посчитаем кол-во уникальных юзеров и таким образом убедимся, \n",
    "# что один пользователь входит только в одну группу \n",
    "if users_info_full_df.uid.nunique()-users_info_full_df.shape[0] == 0:\n",
    "    print('все строки уникальны, дублирующихся нет')\n",
    "else:\n",
    "    print('обнаружены дубликаты строк')"
   ]
  },
  {
   "cell_type": "code",
   "execution_count": 11,
   "metadata": {},
   "outputs": [
    {
     "data": {
      "text/plain": [
       "uid                   int64\n",
       "age                   int64\n",
       "attraction_coeff      int64\n",
       "coins               float64\n",
       "country              object\n",
       "visit_days           object\n",
       "gender                int64\n",
       "age_filter_start      int64\n",
       "age_filter_end        int64\n",
       "views_count           int64\n",
       "was_premium         float64\n",
       "is_premium          float64\n",
       "total_revenue         int64\n",
       "group                object\n",
       "dtype: object"
      ]
     },
     "execution_count": 11,
     "metadata": {},
     "output_type": "execute_result"
    }
   ],
   "source": [
    "users_info_full_df.dtypes"
   ]
  },
  {
   "cell_type": "code",
   "execution_count": 12,
   "metadata": {},
   "outputs": [
    {
     "data": {
      "text/html": [
       "<div>\n",
       "<style scoped>\n",
       "    .dataframe tbody tr th:only-of-type {\n",
       "        vertical-align: middle;\n",
       "    }\n",
       "\n",
       "    .dataframe tbody tr th {\n",
       "        vertical-align: top;\n",
       "    }\n",
       "\n",
       "    .dataframe thead th {\n",
       "        text-align: right;\n",
       "    }\n",
       "</style>\n",
       "<table border=\"1\" class=\"dataframe\">\n",
       "  <thead>\n",
       "    <tr style=\"text-align: right;\">\n",
       "      <th></th>\n",
       "      <th>uid</th>\n",
       "      <th>age</th>\n",
       "      <th>attraction_coeff</th>\n",
       "      <th>coins</th>\n",
       "      <th>gender</th>\n",
       "      <th>age_filter_start</th>\n",
       "      <th>age_filter_end</th>\n",
       "      <th>views_count</th>\n",
       "      <th>was_premium</th>\n",
       "      <th>is_premium</th>\n",
       "      <th>total_revenue</th>\n",
       "    </tr>\n",
       "  </thead>\n",
       "  <tbody>\n",
       "    <tr>\n",
       "      <th>count</th>\n",
       "      <td>1.291200e+04</td>\n",
       "      <td>12912.000000</td>\n",
       "      <td>12912.000000</td>\n",
       "      <td>170.000000</td>\n",
       "      <td>12912.000000</td>\n",
       "      <td>12912.000000</td>\n",
       "      <td>12912.000000</td>\n",
       "      <td>12912.000000</td>\n",
       "      <td>1255.0</td>\n",
       "      <td>540.0</td>\n",
       "      <td>12912.000000</td>\n",
       "    </tr>\n",
       "    <tr>\n",
       "      <th>mean</th>\n",
       "      <td>8.917569e+08</td>\n",
       "      <td>32.010378</td>\n",
       "      <td>315.455545</td>\n",
       "      <td>688.958824</td>\n",
       "      <td>0.955158</td>\n",
       "      <td>26.815985</td>\n",
       "      <td>38.568463</td>\n",
       "      <td>46.641032</td>\n",
       "      <td>1.0</td>\n",
       "      <td>1.0</td>\n",
       "      <td>526.837283</td>\n",
       "    </tr>\n",
       "    <tr>\n",
       "      <th>std</th>\n",
       "      <td>1.610285e+06</td>\n",
       "      <td>10.224415</td>\n",
       "      <td>323.488766</td>\n",
       "      <td>7690.943033</td>\n",
       "      <td>0.206965</td>\n",
       "      <td>9.447197</td>\n",
       "      <td>15.511204</td>\n",
       "      <td>285.324194</td>\n",
       "      <td>0.0</td>\n",
       "      <td>0.0</td>\n",
       "      <td>5524.662716</td>\n",
       "    </tr>\n",
       "    <tr>\n",
       "      <th>min</th>\n",
       "      <td>8.910509e+08</td>\n",
       "      <td>16.000000</td>\n",
       "      <td>0.000000</td>\n",
       "      <td>1.000000</td>\n",
       "      <td>0.000000</td>\n",
       "      <td>13.000000</td>\n",
       "      <td>19.000000</td>\n",
       "      <td>0.000000</td>\n",
       "      <td>1.0</td>\n",
       "      <td>1.0</td>\n",
       "      <td>0.000000</td>\n",
       "    </tr>\n",
       "    <tr>\n",
       "      <th>25%</th>\n",
       "      <td>8.913565e+08</td>\n",
       "      <td>25.000000</td>\n",
       "      <td>0.000000</td>\n",
       "      <td>6.000000</td>\n",
       "      <td>1.000000</td>\n",
       "      <td>19.000000</td>\n",
       "      <td>28.000000</td>\n",
       "      <td>1.000000</td>\n",
       "      <td>1.0</td>\n",
       "      <td>1.0</td>\n",
       "      <td>0.000000</td>\n",
       "    </tr>\n",
       "    <tr>\n",
       "      <th>50%</th>\n",
       "      <td>8.917255e+08</td>\n",
       "      <td>30.000000</td>\n",
       "      <td>250.000000</td>\n",
       "      <td>10.000000</td>\n",
       "      <td>1.000000</td>\n",
       "      <td>25.000000</td>\n",
       "      <td>35.000000</td>\n",
       "      <td>6.000000</td>\n",
       "      <td>1.0</td>\n",
       "      <td>1.0</td>\n",
       "      <td>0.000000</td>\n",
       "    </tr>\n",
       "    <tr>\n",
       "      <th>75%</th>\n",
       "      <td>8.920860e+08</td>\n",
       "      <td>38.000000</td>\n",
       "      <td>529.000000</td>\n",
       "      <td>28.000000</td>\n",
       "      <td>1.000000</td>\n",
       "      <td>32.000000</td>\n",
       "      <td>45.000000</td>\n",
       "      <td>21.000000</td>\n",
       "      <td>1.0</td>\n",
       "      <td>1.0</td>\n",
       "      <td>0.000000</td>\n",
       "    </tr>\n",
       "    <tr>\n",
       "      <th>max</th>\n",
       "      <td>1.053059e+09</td>\n",
       "      <td>99.000000</td>\n",
       "      <td>1000.000000</td>\n",
       "      <td>99958.000000</td>\n",
       "      <td>1.000000</td>\n",
       "      <td>96.000000</td>\n",
       "      <td>102.000000</td>\n",
       "      <td>16157.000000</td>\n",
       "      <td>1.0</td>\n",
       "      <td>1.0</td>\n",
       "      <td>486330.000000</td>\n",
       "    </tr>\n",
       "  </tbody>\n",
       "</table>\n",
       "</div>"
      ],
      "text/plain": [
       "                uid           age  attraction_coeff         coins  \\\n",
       "count  1.291200e+04  12912.000000      12912.000000    170.000000   \n",
       "mean   8.917569e+08     32.010378        315.455545    688.958824   \n",
       "std    1.610285e+06     10.224415        323.488766   7690.943033   \n",
       "min    8.910509e+08     16.000000          0.000000      1.000000   \n",
       "25%    8.913565e+08     25.000000          0.000000      6.000000   \n",
       "50%    8.917255e+08     30.000000        250.000000     10.000000   \n",
       "75%    8.920860e+08     38.000000        529.000000     28.000000   \n",
       "max    1.053059e+09     99.000000       1000.000000  99958.000000   \n",
       "\n",
       "             gender  age_filter_start  age_filter_end   views_count  \\\n",
       "count  12912.000000      12912.000000    12912.000000  12912.000000   \n",
       "mean       0.955158         26.815985       38.568463     46.641032   \n",
       "std        0.206965          9.447197       15.511204    285.324194   \n",
       "min        0.000000         13.000000       19.000000      0.000000   \n",
       "25%        1.000000         19.000000       28.000000      1.000000   \n",
       "50%        1.000000         25.000000       35.000000      6.000000   \n",
       "75%        1.000000         32.000000       45.000000     21.000000   \n",
       "max        1.000000         96.000000      102.000000  16157.000000   \n",
       "\n",
       "       was_premium  is_premium  total_revenue  \n",
       "count       1255.0       540.0   12912.000000  \n",
       "mean           1.0         1.0     526.837283  \n",
       "std            0.0         0.0    5524.662716  \n",
       "min            1.0         1.0       0.000000  \n",
       "25%            1.0         1.0       0.000000  \n",
       "50%            1.0         1.0       0.000000  \n",
       "75%            1.0         1.0       0.000000  \n",
       "max            1.0         1.0  486330.000000  "
      ]
     },
     "execution_count": 12,
     "metadata": {},
     "output_type": "execute_result"
    }
   ],
   "source": [
    "users_info_full_df.describe()"
   ]
  },
  {
   "cell_type": "code",
   "execution_count": 13,
   "metadata": {},
   "outputs": [
    {
     "data": {
      "text/plain": [
       "uid                     0\n",
       "age                     0\n",
       "attraction_coeff        0\n",
       "coins               12742\n",
       "country                 0\n",
       "visit_days           4018\n",
       "gender                  0\n",
       "age_filter_start        0\n",
       "age_filter_end          0\n",
       "views_count             0\n",
       "was_premium         11657\n",
       "is_premium          12372\n",
       "total_revenue           0\n",
       "group                   0\n",
       "dtype: int64"
      ]
     },
     "execution_count": 13,
     "metadata": {},
     "output_type": "execute_result"
    }
   ],
   "source": [
    "#проверим датафрейм на пропущенные значения\n",
    "users_info_full_df.isna().sum()"
   ]
  },
  {
   "cell_type": "markdown",
   "metadata": {},
   "source": [
    "Мы видим, что у нас есть пропущенные значения в колонках coins, visit_days,was_premium,is_premium.\n",
    "Это не будет считаться багом, т.к.:\n",
    "монеток может не быть, \n",
    "пользователь может ни разу не зайти в приложение после регистрации (хотя кажется, что 31% пользователей без данных о посещениях приложения- это довольно много, возможно всё же какие-то данные не сохранились), \n",
    "также премиум подписки тоже может не быть и это ок, большинство людей хочет пользоваться приложениями бесплатно :)"
   ]
  },
  {
   "cell_type": "code",
   "execution_count": 14,
   "metadata": {},
   "outputs": [
    {
     "name": "stdout",
     "output_type": "stream",
     "text": [
      "number of unique rows in test group:\n",
      " uid                 4308\n",
      "age                   57\n",
      "attraction_coeff     600\n",
      "coins                 28\n",
      "country               51\n",
      "visit_days           891\n",
      "gender                 2\n",
      "age_filter_start      51\n",
      "age_filter_end        78\n",
      "views_count          331\n",
      "was_premium            1\n",
      "is_premium             1\n",
      "total_revenue        105\n",
      "group                  1\n",
      "dtype: int64 \n",
      "\n",
      " number of unique rows in control1 group:\n",
      " uid                 4340\n",
      "age                   56\n",
      "attraction_coeff     587\n",
      "coins                 22\n",
      "country               40\n",
      "visit_days           880\n",
      "gender                 2\n",
      "age_filter_start      53\n",
      "age_filter_end        78\n",
      "views_count          339\n",
      "was_premium            1\n",
      "is_premium             1\n",
      "total_revenue        128\n",
      "group                  1\n",
      "dtype: int64 \n",
      "\n",
      " number of unique rows in control2 group:\n",
      " uid                 4264\n",
      "age                   59\n",
      "attraction_coeff     585\n",
      "coins                 23\n",
      "country               45\n",
      "visit_days           837\n",
      "gender                 2\n",
      "age_filter_start      56\n",
      "age_filter_end        79\n",
      "views_count          328\n",
      "was_premium            1\n",
      "is_premium             1\n",
      "total_revenue        128\n",
      "group                  1\n",
      "dtype: int64\n"
     ]
    }
   ],
   "source": [
    "#посмотрим также на кол-во уникальнрых значений в каждой группе отдельно\n",
    "print('number of unique rows in test group:\\n',\n",
    "      users_info_full_df.query('group == \"test\"').nunique(),\n",
    "      '\\n\\n number of unique rows in control1 group:\\n',\n",
    "      users_info_full_df.query('group == \"control1\"').nunique(),\n",
    "     '\\n\\n number of unique rows in control2 group:\\n',\n",
    "      users_info_full_df.query('group == \"control2\"').nunique())"
   ]
  },
  {
   "cell_type": "code",
   "execution_count": 15,
   "metadata": {},
   "outputs": [],
   "source": [
    "#записи уникальны для каждого юзера в своей группе; \n",
    "#стран всего 51 в тестовой группе, 40 - в первой контрольной и 45-во второй контрольной группе"
   ]
  },
  {
   "cell_type": "code",
   "execution_count": 16,
   "metadata": {},
   "outputs": [
    {
     "name": "stdout",
     "output_type": "stream",
     "text": [
      "number of unique countries in test group:\n",
      " 51 \n",
      "\n",
      " number of unique countries in control groups:\n",
      " 58\n"
     ]
    }
   ],
   "source": [
    "#посмотрим на кол-во уникальных стран, если мы объединим контрольные группы\n",
    "print('number of unique countries in test group:\\n',\n",
    "      users_info_full_df.query('group == \"test\"').country.nunique(),\n",
    "      '\\n\\n number of unique countries in control groups:\\n',\n",
    "      users_info_full_df.query('group != \"test\"').country.nunique())"
   ]
  },
  {
   "cell_type": "markdown",
   "metadata": {},
   "source": [
    "далее интересно посмотреть распределение пользователей по странам, т.к. у нас по условию сказано, что для пользователей из \"нескольких стран\" была изменена стоимость премиум-подписки при покупке через две новые платежные системы."
   ]
  },
  {
   "cell_type": "code",
   "execution_count": 17,
   "metadata": {},
   "outputs": [
    {
     "data": {
      "text/html": [
       "<div>\n",
       "<style scoped>\n",
       "    .dataframe tbody tr th:only-of-type {\n",
       "        vertical-align: middle;\n",
       "    }\n",
       "\n",
       "    .dataframe tbody tr th {\n",
       "        vertical-align: top;\n",
       "    }\n",
       "\n",
       "    .dataframe thead th {\n",
       "        text-align: right;\n",
       "    }\n",
       "</style>\n",
       "<table border=\"1\" class=\"dataframe\">\n",
       "  <thead>\n",
       "    <tr style=\"text-align: right;\">\n",
       "      <th></th>\n",
       "      <th>group</th>\n",
       "      <th>country</th>\n",
       "      <th>size</th>\n",
       "    </tr>\n",
       "  </thead>\n",
       "  <tbody>\n",
       "    <tr>\n",
       "      <th>0</th>\n",
       "      <td>control1</td>\n",
       "      <td>Algeria</td>\n",
       "      <td>2</td>\n",
       "    </tr>\n",
       "    <tr>\n",
       "      <th>1</th>\n",
       "      <td>control1</td>\n",
       "      <td>Argentina</td>\n",
       "      <td>389</td>\n",
       "    </tr>\n",
       "    <tr>\n",
       "      <th>2</th>\n",
       "      <td>control1</td>\n",
       "      <td>Armenia</td>\n",
       "      <td>1</td>\n",
       "    </tr>\n",
       "    <tr>\n",
       "      <th>3</th>\n",
       "      <td>control1</td>\n",
       "      <td>Australia</td>\n",
       "      <td>50</td>\n",
       "    </tr>\n",
       "    <tr>\n",
       "      <th>4</th>\n",
       "      <td>control1</td>\n",
       "      <td>Belgium</td>\n",
       "      <td>108</td>\n",
       "    </tr>\n",
       "    <tr>\n",
       "      <th>...</th>\n",
       "      <td>...</td>\n",
       "      <td>...</td>\n",
       "      <td>...</td>\n",
       "    </tr>\n",
       "    <tr>\n",
       "      <th>131</th>\n",
       "      <td>test</td>\n",
       "      <td>United Arab Emirates</td>\n",
       "      <td>226</td>\n",
       "    </tr>\n",
       "    <tr>\n",
       "      <th>132</th>\n",
       "      <td>test</td>\n",
       "      <td>United Kingdom (Great Britain)</td>\n",
       "      <td>169</td>\n",
       "    </tr>\n",
       "    <tr>\n",
       "      <th>133</th>\n",
       "      <td>test</td>\n",
       "      <td>United States of America</td>\n",
       "      <td>1450</td>\n",
       "    </tr>\n",
       "    <tr>\n",
       "      <th>134</th>\n",
       "      <td>test</td>\n",
       "      <td>Uruguay</td>\n",
       "      <td>1</td>\n",
       "    </tr>\n",
       "    <tr>\n",
       "      <th>135</th>\n",
       "      <td>test</td>\n",
       "      <td>Uzbekistan</td>\n",
       "      <td>1</td>\n",
       "    </tr>\n",
       "  </tbody>\n",
       "</table>\n",
       "<p>136 rows × 3 columns</p>\n",
       "</div>"
      ],
      "text/plain": [
       "        group                         country  size\n",
       "0    control1                         Algeria     2\n",
       "1    control1                       Argentina   389\n",
       "2    control1                         Armenia     1\n",
       "3    control1                       Australia    50\n",
       "4    control1                         Belgium   108\n",
       "..        ...                             ...   ...\n",
       "131      test            United Arab Emirates   226\n",
       "132      test  United Kingdom (Great Britain)   169\n",
       "133      test        United States of America  1450\n",
       "134      test                         Uruguay     1\n",
       "135      test                      Uzbekistan     1\n",
       "\n",
       "[136 rows x 3 columns]"
      ]
     },
     "execution_count": 17,
     "metadata": {},
     "output_type": "execute_result"
    }
   ],
   "source": [
    "users_info_full_df.groupby(['group','country'], as_index=False).size()"
   ]
  },
  {
   "cell_type": "code",
   "execution_count": 18,
   "metadata": {},
   "outputs": [
    {
     "data": {
      "text/html": [
       "<div>\n",
       "<style scoped>\n",
       "    .dataframe tbody tr th:only-of-type {\n",
       "        vertical-align: middle;\n",
       "    }\n",
       "\n",
       "    .dataframe tbody tr th {\n",
       "        vertical-align: top;\n",
       "    }\n",
       "\n",
       "    .dataframe thead th {\n",
       "        text-align: right;\n",
       "    }\n",
       "</style>\n",
       "<table border=\"1\" class=\"dataframe\">\n",
       "  <thead>\n",
       "    <tr style=\"text-align: right;\">\n",
       "      <th>group</th>\n",
       "      <th>country</th>\n",
       "      <th>control1</th>\n",
       "      <th>control2</th>\n",
       "      <th>test</th>\n",
       "    </tr>\n",
       "  </thead>\n",
       "  <tbody>\n",
       "    <tr>\n",
       "      <th>0</th>\n",
       "      <td>United States of America</td>\n",
       "      <td>1471.0</td>\n",
       "      <td>1486.0</td>\n",
       "      <td>1450.0</td>\n",
       "    </tr>\n",
       "    <tr>\n",
       "      <th>1</th>\n",
       "      <td>Argentina</td>\n",
       "      <td>389.0</td>\n",
       "      <td>397.0</td>\n",
       "      <td>396.0</td>\n",
       "    </tr>\n",
       "    <tr>\n",
       "      <th>2</th>\n",
       "      <td>France</td>\n",
       "      <td>370.0</td>\n",
       "      <td>376.0</td>\n",
       "      <td>359.0</td>\n",
       "    </tr>\n",
       "    <tr>\n",
       "      <th>3</th>\n",
       "      <td>Italy</td>\n",
       "      <td>338.0</td>\n",
       "      <td>293.0</td>\n",
       "      <td>323.0</td>\n",
       "    </tr>\n",
       "    <tr>\n",
       "      <th>4</th>\n",
       "      <td>Spain</td>\n",
       "      <td>342.0</td>\n",
       "      <td>310.0</td>\n",
       "      <td>301.0</td>\n",
       "    </tr>\n",
       "    <tr>\n",
       "      <th>...</th>\n",
       "      <td>...</td>\n",
       "      <td>...</td>\n",
       "      <td>...</td>\n",
       "      <td>...</td>\n",
       "    </tr>\n",
       "    <tr>\n",
       "      <th>67</th>\n",
       "      <td>Qatar</td>\n",
       "      <td>1.0</td>\n",
       "      <td>1.0</td>\n",
       "      <td>NaN</td>\n",
       "    </tr>\n",
       "    <tr>\n",
       "      <th>68</th>\n",
       "      <td>Somalia</td>\n",
       "      <td>NaN</td>\n",
       "      <td>1.0</td>\n",
       "      <td>NaN</td>\n",
       "    </tr>\n",
       "    <tr>\n",
       "      <th>69</th>\n",
       "      <td>Sweden</td>\n",
       "      <td>1.0</td>\n",
       "      <td>NaN</td>\n",
       "      <td>NaN</td>\n",
       "    </tr>\n",
       "    <tr>\n",
       "      <th>70</th>\n",
       "      <td>Uganda</td>\n",
       "      <td>NaN</td>\n",
       "      <td>1.0</td>\n",
       "      <td>NaN</td>\n",
       "    </tr>\n",
       "    <tr>\n",
       "      <th>71</th>\n",
       "      <td>Venezuela</td>\n",
       "      <td>2.0</td>\n",
       "      <td>NaN</td>\n",
       "      <td>NaN</td>\n",
       "    </tr>\n",
       "  </tbody>\n",
       "</table>\n",
       "<p>72 rows × 4 columns</p>\n",
       "</div>"
      ],
      "text/plain": [
       "group                   country  control1  control2    test\n",
       "0      United States of America    1471.0    1486.0  1450.0\n",
       "1                     Argentina     389.0     397.0   396.0\n",
       "2                        France     370.0     376.0   359.0\n",
       "3                         Italy     338.0     293.0   323.0\n",
       "4                         Spain     342.0     310.0   301.0\n",
       "..                          ...       ...       ...     ...\n",
       "67                        Qatar       1.0       1.0     NaN\n",
       "68                      Somalia       NaN       1.0     NaN\n",
       "69                       Sweden       1.0       NaN     NaN\n",
       "70                       Uganda       NaN       1.0     NaN\n",
       "71                    Venezuela       2.0       NaN     NaN\n",
       "\n",
       "[72 rows x 4 columns]"
      ]
     },
     "execution_count": 18,
     "metadata": {},
     "output_type": "execute_result"
    }
   ],
   "source": [
    "#построим пивот по странам и группам\n",
    "countries_pivot = pd.pivot_table(users_info_full_df, values='uid', index='country', columns='group',\n",
    "                          aggfunc='count').sort_values('test', ascending=False).reset_index()\n",
    "countries_pivot"
   ]
  },
  {
   "cell_type": "markdown",
   "metadata": {},
   "source": [
    "Мы знаем, что кол-во уникальных стран в тестовой группе 51, но как мы видим,в результате стран больше и не во всех странах из тестовой группы есть пользователи в контрольных группах и наоборот.\n",
    "Далее этим страны будет интересно отдельно посмотреть, с той точки зрения, если компания знает, в каких странах изменение планируется вводить, и: \n",
    "либо в части стран изменение планируется и новых пользователей там не оказалось в тестовой группе, \n",
    "либо наоборот, они появились в тестовой группе (и ещё и купили подписку), но в контрольных группах таких юзеров нет.\n",
    "\n",
    "Для дальнейшего наглядного отображения соответствия и сравнения кол-во юзеров в странах будем смотреть топ-20 стран, юзеры из которых присуствуют в каждой группе. юзеры из топ-20 составят 99% от всех юзеров по всем группам."
   ]
  },
  {
   "cell_type": "code",
   "execution_count": 19,
   "metadata": {},
   "outputs": [],
   "source": [
    "#создадим колонку с маркером для страны, есть ли пользователи в тестовой И в контрольной группе \n",
    "countries_pivot['is_present'] = countries_pivot.apply \\\n",
    "                    (lambda row: 'yes' if row[\"test\"]>=1 and (row[\"control1\"]>=1 or row[\"control2\"]>=1) else 'no',\n",
    "                    axis=1)"
   ]
  },
  {
   "cell_type": "code",
   "execution_count": 20,
   "metadata": {},
   "outputs": [],
   "source": [
    "users_count_from_top_20_countries = countries_pivot.head(20).control1.sum()+countries_pivot.head(20).control2.sum() \\\n",
    "+countries_pivot.head(20).test.sum()"
   ]
  },
  {
   "cell_type": "code",
   "execution_count": 21,
   "metadata": {},
   "outputs": [],
   "source": [
    "users_in_top_20_countries = users_info_full_df.merge(countries_pivot.head(20), how='inner',on='country') \\\n",
    "                            .groupby(['group','country'], as_index=False).size()"
   ]
  },
  {
   "cell_type": "code",
   "execution_count": 22,
   "metadata": {},
   "outputs": [
    {
     "data": {
      "text/html": [
       "<div>\n",
       "<style scoped>\n",
       "    .dataframe tbody tr th:only-of-type {\n",
       "        vertical-align: middle;\n",
       "    }\n",
       "\n",
       "    .dataframe tbody tr th {\n",
       "        vertical-align: top;\n",
       "    }\n",
       "\n",
       "    .dataframe thead th {\n",
       "        text-align: right;\n",
       "    }\n",
       "</style>\n",
       "<table border=\"1\" class=\"dataframe\">\n",
       "  <thead>\n",
       "    <tr style=\"text-align: right;\">\n",
       "      <th></th>\n",
       "      <th>group</th>\n",
       "      <th>country</th>\n",
       "      <th>size</th>\n",
       "    </tr>\n",
       "  </thead>\n",
       "  <tbody>\n",
       "    <tr>\n",
       "      <th>0</th>\n",
       "      <td>control1</td>\n",
       "      <td>Argentina</td>\n",
       "      <td>389</td>\n",
       "    </tr>\n",
       "    <tr>\n",
       "      <th>1</th>\n",
       "      <td>control1</td>\n",
       "      <td>Australia</td>\n",
       "      <td>50</td>\n",
       "    </tr>\n",
       "    <tr>\n",
       "      <th>2</th>\n",
       "      <td>control1</td>\n",
       "      <td>Belgium</td>\n",
       "      <td>108</td>\n",
       "    </tr>\n",
       "    <tr>\n",
       "      <th>3</th>\n",
       "      <td>control1</td>\n",
       "      <td>Canada</td>\n",
       "      <td>134</td>\n",
       "    </tr>\n",
       "    <tr>\n",
       "      <th>4</th>\n",
       "      <td>control1</td>\n",
       "      <td>Chile</td>\n",
       "      <td>287</td>\n",
       "    </tr>\n",
       "    <tr>\n",
       "      <th>5</th>\n",
       "      <td>control1</td>\n",
       "      <td>France</td>\n",
       "      <td>370</td>\n",
       "    </tr>\n",
       "    <tr>\n",
       "      <th>6</th>\n",
       "      <td>control1</td>\n",
       "      <td>Germany</td>\n",
       "      <td>188</td>\n",
       "    </tr>\n",
       "    <tr>\n",
       "      <th>7</th>\n",
       "      <td>control1</td>\n",
       "      <td>India</td>\n",
       "      <td>6</td>\n",
       "    </tr>\n",
       "    <tr>\n",
       "      <th>8</th>\n",
       "      <td>control1</td>\n",
       "      <td>Israel</td>\n",
       "      <td>109</td>\n",
       "    </tr>\n",
       "    <tr>\n",
       "      <th>9</th>\n",
       "      <td>control1</td>\n",
       "      <td>Italy</td>\n",
       "      <td>338</td>\n",
       "    </tr>\n",
       "    <tr>\n",
       "      <th>10</th>\n",
       "      <td>control1</td>\n",
       "      <td>Mexico</td>\n",
       "      <td>4</td>\n",
       "    </tr>\n",
       "    <tr>\n",
       "      <th>11</th>\n",
       "      <td>control1</td>\n",
       "      <td>Portugal</td>\n",
       "      <td>100</td>\n",
       "    </tr>\n",
       "    <tr>\n",
       "      <th>12</th>\n",
       "      <td>control1</td>\n",
       "      <td>Russian Federation</td>\n",
       "      <td>6</td>\n",
       "    </tr>\n",
       "    <tr>\n",
       "      <th>13</th>\n",
       "      <td>control1</td>\n",
       "      <td>Spain</td>\n",
       "      <td>342</td>\n",
       "    </tr>\n",
       "    <tr>\n",
       "      <th>14</th>\n",
       "      <td>control1</td>\n",
       "      <td>Switzerland</td>\n",
       "      <td>42</td>\n",
       "    </tr>\n",
       "    <tr>\n",
       "      <th>15</th>\n",
       "      <td>control1</td>\n",
       "      <td>Turkey</td>\n",
       "      <td>8</td>\n",
       "    </tr>\n",
       "    <tr>\n",
       "      <th>16</th>\n",
       "      <td>control1</td>\n",
       "      <td>Ukraine</td>\n",
       "      <td>8</td>\n",
       "    </tr>\n",
       "    <tr>\n",
       "      <th>17</th>\n",
       "      <td>control1</td>\n",
       "      <td>United Arab Emirates</td>\n",
       "      <td>207</td>\n",
       "    </tr>\n",
       "    <tr>\n",
       "      <th>18</th>\n",
       "      <td>control1</td>\n",
       "      <td>United Kingdom (Great Britain)</td>\n",
       "      <td>146</td>\n",
       "    </tr>\n",
       "    <tr>\n",
       "      <th>19</th>\n",
       "      <td>control1</td>\n",
       "      <td>United States of America</td>\n",
       "      <td>1471</td>\n",
       "    </tr>\n",
       "  </tbody>\n",
       "</table>\n",
       "</div>"
      ],
      "text/plain": [
       "       group                         country  size\n",
       "0   control1                       Argentina   389\n",
       "1   control1                       Australia    50\n",
       "2   control1                         Belgium   108\n",
       "3   control1                          Canada   134\n",
       "4   control1                           Chile   287\n",
       "5   control1                          France   370\n",
       "6   control1                         Germany   188\n",
       "7   control1                           India     6\n",
       "8   control1                          Israel   109\n",
       "9   control1                           Italy   338\n",
       "10  control1                          Mexico     4\n",
       "11  control1                        Portugal   100\n",
       "12  control1              Russian Federation     6\n",
       "13  control1                           Spain   342\n",
       "14  control1                     Switzerland    42\n",
       "15  control1                          Turkey     8\n",
       "16  control1                         Ukraine     8\n",
       "17  control1            United Arab Emirates   207\n",
       "18  control1  United Kingdom (Great Britain)   146\n",
       "19  control1        United States of America  1471"
      ]
     },
     "execution_count": 22,
     "metadata": {},
     "output_type": "execute_result"
    }
   ],
   "source": [
    "users_in_top_20_countries.head(20)"
   ]
  },
  {
   "cell_type": "code",
   "execution_count": 23,
   "metadata": {},
   "outputs": [
    {
     "data": {
      "text/plain": [
       "0.0"
      ]
     },
     "execution_count": 23,
     "metadata": {},
     "output_type": "execute_result"
    }
   ],
   "source": [
    "#проверка на полноту кол-ва юзеров из топ-20 стран\n",
    "users_count_from_top_20_countries - users_in_top_20_countries['size'].sum()"
   ]
  },
  {
   "cell_type": "markdown",
   "metadata": {},
   "source": [
    "теперь посмотрим распределение стран на графике"
   ]
  },
  {
   "cell_type": "code",
   "execution_count": 24,
   "metadata": {},
   "outputs": [
    {
     "data": {
      "image/png": "[encoded data removed]",
      "text/plain": [
       "<Figure size 1440x360 with 1 Axes>"
      ]
     },
     "metadata": {
      "needs_background": "light"
     },
     "output_type": "display_data"
    }
   ],
   "source": [
    "#на графике отобразим кол-во юзеров из топ-20 стран, определенный по тестовой группе\n",
    "plt.figure(figsize = (20,5))\n",
    "sns.barplot(data = users_in_top_20_countries, x=\"country\", y=\"size\", hue='group') \n",
    "plt.xticks(rotation=70)\n",
    "plt.show()"
   ]
  },
  {
   "cell_type": "markdown",
   "metadata": {},
   "source": [
    "как мы видим, распределение по странам примерно одинаковое во всех группах, но мы здесь рассматривали топ-20 стран, нельзя не отметить тот факт, что вообще в тестовой группе 51 страна и не во всех оставшихся странах есть представитель из контрольных групп. то есть для чистоты эксперимента, если мы знаем, что изменения были только для некоторых стран, было бы полезно этот фактор учитывать (каких именно стран) и сравнивать результат теста между пользователями конкретных стран.\n",
    "\n",
    "В целом, т.к. пользователи из топ-20 стран составляют 99% общего кол-во юзеров, на данном этапе это ок."
   ]
  },
  {
   "cell_type": "markdown",
   "metadata": {},
   "source": [
    "далее сделаем один датафрейм, который будем использовать для дальнейшнего анализа, оставив записи только по тем странам, пользователи из которых есть и в контрольной (хотя бы в одной), и в тестовой группе"
   ]
  },
  {
   "cell_type": "code",
   "execution_count": 25,
   "metadata": {},
   "outputs": [],
   "source": [
    "users_info_filtered_df = users_info_full_df.merge(countries_pivot.query('is_present ==\"yes\"'), \n",
    "                                                  how='inner',on='country')"
   ]
  },
  {
   "cell_type": "code",
   "execution_count": 26,
   "metadata": {},
   "outputs": [
    {
     "data": {
      "text/html": [
       "<div>\n",
       "<style scoped>\n",
       "    .dataframe tbody tr th:only-of-type {\n",
       "        vertical-align: middle;\n",
       "    }\n",
       "\n",
       "    .dataframe tbody tr th {\n",
       "        vertical-align: top;\n",
       "    }\n",
       "\n",
       "    .dataframe thead th {\n",
       "        text-align: right;\n",
       "    }\n",
       "</style>\n",
       "<table border=\"1\" class=\"dataframe\">\n",
       "  <thead>\n",
       "    <tr style=\"text-align: right;\">\n",
       "      <th></th>\n",
       "      <th>uid</th>\n",
       "      <th>age</th>\n",
       "      <th>attraction_coeff</th>\n",
       "      <th>coins</th>\n",
       "      <th>country</th>\n",
       "      <th>visit_days</th>\n",
       "      <th>gender</th>\n",
       "      <th>age_filter_start</th>\n",
       "      <th>age_filter_end</th>\n",
       "      <th>views_count</th>\n",
       "      <th>was_premium</th>\n",
       "      <th>is_premium</th>\n",
       "      <th>total_revenue</th>\n",
       "      <th>group</th>\n",
       "      <th>control1</th>\n",
       "      <th>control2</th>\n",
       "      <th>test</th>\n",
       "      <th>is_present</th>\n",
       "    </tr>\n",
       "  </thead>\n",
       "  <tbody>\n",
       "    <tr>\n",
       "      <th>0</th>\n",
       "      <td>892309896</td>\n",
       "      <td>27</td>\n",
       "      <td>685</td>\n",
       "      <td>NaN</td>\n",
       "      <td>United States of America</td>\n",
       "      <td>1,2,3,4,5,6,7,8,9,10,11,12,16,17</td>\n",
       "      <td>1</td>\n",
       "      <td>24</td>\n",
       "      <td>30</td>\n",
       "      <td>89</td>\n",
       "      <td>NaN</td>\n",
       "      <td>NaN</td>\n",
       "      <td>0</td>\n",
       "      <td>test</td>\n",
       "      <td>1471.0</td>\n",
       "      <td>1486.0</td>\n",
       "      <td>1450.0</td>\n",
       "      <td>yes</td>\n",
       "    </tr>\n",
       "    <tr>\n",
       "      <th>1</th>\n",
       "      <td>892130292</td>\n",
       "      <td>32</td>\n",
       "      <td>0</td>\n",
       "      <td>NaN</td>\n",
       "      <td>United States of America</td>\n",
       "      <td>1,2,3,4,5,6,7,8,9,10,11,12</td>\n",
       "      <td>1</td>\n",
       "      <td>29</td>\n",
       "      <td>35</td>\n",
       "      <td>0</td>\n",
       "      <td>NaN</td>\n",
       "      <td>NaN</td>\n",
       "      <td>0</td>\n",
       "      <td>test</td>\n",
       "      <td>1471.0</td>\n",
       "      <td>1486.0</td>\n",
       "      <td>1450.0</td>\n",
       "      <td>yes</td>\n",
       "    </tr>\n",
       "    <tr>\n",
       "      <th>2</th>\n",
       "      <td>891219699</td>\n",
       "      <td>30</td>\n",
       "      <td>1000</td>\n",
       "      <td>NaN</td>\n",
       "      <td>United States of America</td>\n",
       "      <td>NaN</td>\n",
       "      <td>1</td>\n",
       "      <td>27</td>\n",
       "      <td>33</td>\n",
       "      <td>1</td>\n",
       "      <td>1.0</td>\n",
       "      <td>NaN</td>\n",
       "      <td>0</td>\n",
       "      <td>test</td>\n",
       "      <td>1471.0</td>\n",
       "      <td>1486.0</td>\n",
       "      <td>1450.0</td>\n",
       "      <td>yes</td>\n",
       "    </tr>\n",
       "  </tbody>\n",
       "</table>\n",
       "</div>"
      ],
      "text/plain": [
       "         uid  age  attraction_coeff  coins                   country  \\\n",
       "0  892309896   27               685    NaN  United States of America   \n",
       "1  892130292   32                 0    NaN  United States of America   \n",
       "2  891219699   30              1000    NaN  United States of America   \n",
       "\n",
       "                         visit_days  gender  age_filter_start  age_filter_end  \\\n",
       "0  1,2,3,4,5,6,7,8,9,10,11,12,16,17       1                24              30   \n",
       "1        1,2,3,4,5,6,7,8,9,10,11,12       1                29              35   \n",
       "2                               NaN       1                27              33   \n",
       "\n",
       "   views_count  was_premium  is_premium  total_revenue group  control1  \\\n",
       "0           89          NaN         NaN              0  test    1471.0   \n",
       "1            0          NaN         NaN              0  test    1471.0   \n",
       "2            1          1.0         NaN              0  test    1471.0   \n",
       "\n",
       "   control2    test is_present  \n",
       "0    1486.0  1450.0        yes  \n",
       "1    1486.0  1450.0        yes  \n",
       "2    1486.0  1450.0        yes  "
      ]
     },
     "execution_count": 26,
     "metadata": {},
     "output_type": "execute_result"
    }
   ],
   "source": [
    "users_info_filtered_df.head(3)"
   ]
  },
  {
   "cell_type": "code",
   "execution_count": 27,
   "metadata": {},
   "outputs": [
    {
     "data": {
      "text/plain": [
       "(12869, 18)"
      ]
     },
     "execution_count": 27,
     "metadata": {},
     "output_type": "execute_result"
    }
   ],
   "source": [
    "users_info_filtered_df.shape"
   ]
  },
  {
   "cell_type": "code",
   "execution_count": 28,
   "metadata": {},
   "outputs": [
    {
     "data": {
      "text/plain": [
       "0.0"
      ]
     },
     "execution_count": 28,
     "metadata": {},
     "output_type": "execute_result"
    }
   ],
   "source": [
    "#проверка на полноту\n",
    "\n",
    "users_info_filtered_df.shape[0] - countries_pivot[countries_pivot.is_present == \"yes\"].fillna(0).apply \\\n",
    "                                  (lambda row: row[\"test\"] + row[\"control1\"] + row[\"control2\"],axis=1).sum()"
   ]
  },
  {
   "cell_type": "markdown",
   "metadata": {},
   "source": [
    "теперь посмотрим распределение по возрасту в нашем отфильтрованном df, т к вообще распределение по возрасту тоже важно, потому что обычно чем старше человек, тем больше затрат он может себе позволить (в нашем случае купить или не купить подписку)"
   ]
  },
  {
   "cell_type": "code",
   "execution_count": 29,
   "metadata": {},
   "outputs": [
    {
     "data": {
      "text/html": [
       "<div>\n",
       "<style scoped>\n",
       "    .dataframe tbody tr th:only-of-type {\n",
       "        vertical-align: middle;\n",
       "    }\n",
       "\n",
       "    .dataframe tbody tr th {\n",
       "        vertical-align: top;\n",
       "    }\n",
       "\n",
       "    .dataframe thead th {\n",
       "        text-align: right;\n",
       "    }\n",
       "</style>\n",
       "<table border=\"1\" class=\"dataframe\">\n",
       "  <thead>\n",
       "    <tr style=\"text-align: right;\">\n",
       "      <th></th>\n",
       "      <th>group</th>\n",
       "      <th>age</th>\n",
       "      <th>size</th>\n",
       "    </tr>\n",
       "  </thead>\n",
       "  <tbody>\n",
       "    <tr>\n",
       "      <th>0</th>\n",
       "      <td>control1</td>\n",
       "      <td>16</td>\n",
       "      <td>82</td>\n",
       "    </tr>\n",
       "    <tr>\n",
       "      <th>1</th>\n",
       "      <td>control1</td>\n",
       "      <td>17</td>\n",
       "      <td>22</td>\n",
       "    </tr>\n",
       "    <tr>\n",
       "      <th>2</th>\n",
       "      <td>control1</td>\n",
       "      <td>18</td>\n",
       "      <td>74</td>\n",
       "    </tr>\n",
       "    <tr>\n",
       "      <th>3</th>\n",
       "      <td>control1</td>\n",
       "      <td>19</td>\n",
       "      <td>93</td>\n",
       "    </tr>\n",
       "    <tr>\n",
       "      <th>4</th>\n",
       "      <td>control1</td>\n",
       "      <td>20</td>\n",
       "      <td>116</td>\n",
       "    </tr>\n",
       "    <tr>\n",
       "      <th>...</th>\n",
       "      <td>...</td>\n",
       "      <td>...</td>\n",
       "      <td>...</td>\n",
       "    </tr>\n",
       "    <tr>\n",
       "      <th>166</th>\n",
       "      <td>test</td>\n",
       "      <td>76</td>\n",
       "      <td>1</td>\n",
       "    </tr>\n",
       "    <tr>\n",
       "      <th>167</th>\n",
       "      <td>test</td>\n",
       "      <td>77</td>\n",
       "      <td>1</td>\n",
       "    </tr>\n",
       "    <tr>\n",
       "      <th>168</th>\n",
       "      <td>test</td>\n",
       "      <td>83</td>\n",
       "      <td>1</td>\n",
       "    </tr>\n",
       "    <tr>\n",
       "      <th>169</th>\n",
       "      <td>test</td>\n",
       "      <td>98</td>\n",
       "      <td>1</td>\n",
       "    </tr>\n",
       "    <tr>\n",
       "      <th>170</th>\n",
       "      <td>test</td>\n",
       "      <td>99</td>\n",
       "      <td>7</td>\n",
       "    </tr>\n",
       "  </tbody>\n",
       "</table>\n",
       "<p>171 rows × 3 columns</p>\n",
       "</div>"
      ],
      "text/plain": [
       "        group  age  size\n",
       "0    control1   16    82\n",
       "1    control1   17    22\n",
       "2    control1   18    74\n",
       "3    control1   19    93\n",
       "4    control1   20   116\n",
       "..        ...  ...   ...\n",
       "166      test   76     1\n",
       "167      test   77     1\n",
       "168      test   83     1\n",
       "169      test   98     1\n",
       "170      test   99     7\n",
       "\n",
       "[171 rows x 3 columns]"
      ]
     },
     "execution_count": 29,
     "metadata": {},
     "output_type": "execute_result"
    }
   ],
   "source": [
    "users_info_filtered_df.groupby(['group', 'age'], as_index=False).size()"
   ]
  },
  {
   "cell_type": "code",
   "execution_count": 30,
   "metadata": {},
   "outputs": [
    {
     "name": "stdout",
     "output_type": "stream",
     "text": [
      "test group:\n",
      " count    4290.000000\n",
      "mean       31.897203\n",
      "std        10.256692\n",
      "min        16.000000\n",
      "25%        25.000000\n",
      "50%        30.000000\n",
      "75%        38.000000\n",
      "max        99.000000\n",
      "Name: age, dtype: float64 \n",
      "median: 30.0 \n",
      "\n",
      "control1 group:\n",
      " count    4330.000000\n",
      "mean       32.087760\n",
      "std        10.260081\n",
      "min        16.000000\n",
      "25%        24.000000\n",
      "50%        30.000000\n",
      "75%        38.000000\n",
      "max        99.000000\n",
      "Name: age, dtype: float64 \n",
      "median: 30.0 \n",
      "\n",
      "control2 group:\n",
      " count    4249.000000\n",
      "mean       32.034832\n",
      "std        10.139201\n",
      "min        16.000000\n",
      "25%        25.000000\n",
      "50%        30.000000\n",
      "75%        38.000000\n",
      "max        99.000000\n",
      "Name: age, dtype: float64 \n",
      "median: 30.0\n"
     ]
    }
   ],
   "source": [
    "print('test group:\\n',\n",
    "      users_info_filtered_df.query('group == \"test\"').age.describe(),\n",
    "      '\\nmedian:',\n",
    "      users_info_filtered_df.query('group == \"test\"').age.median(),\n",
    "      '\\n\\ncontrol1 group:\\n',\n",
    "      users_info_filtered_df.query('group == \"control1\"').age.describe(),\n",
    "      '\\nmedian:',\n",
    "      users_info_filtered_df.query('group == \"control1\"').age.median(),\n",
    "      '\\n\\ncontrol2 group:\\n',\n",
    "      users_info_filtered_df.query('group == \"control2\"').age.describe(),\n",
    "      '\\nmedian:',\n",
    "      users_info_filtered_df.query('group == \"control2\"').age.median(),\n",
    "     )"
   ]
  },
  {
   "cell_type": "code",
   "execution_count": 31,
   "metadata": {},
   "outputs": [
    {
     "data": {
      "image/png": "[encoded data removed]",
      "text/plain": [
       "<Figure size 1440x360 with 1 Axes>"
      ]
     },
     "metadata": {
      "needs_background": "light"
     },
     "output_type": "display_data"
    }
   ],
   "source": [
    "#также отобразим на графике распределение юзеров по возрасту в группах \n",
    "plt.figure(figsize = (20,5))\n",
    "sns.barplot(data = users_info_filtered_df.groupby(['group', 'age'], as_index=False).size(), \n",
    "            x=\"age\", y=\"size\", hue='group') \n",
    "plt.xticks(rotation=70)\n",
    "plt.show()"
   ]
  },
  {
   "cell_type": "markdown",
   "metadata": {},
   "source": [
    "мы видим, что показатели по возрасту среди наших групп также схожи, хотя также можем заметить, что есть прямо очень взрослые люди 90+ лет, что может говорить либо о некорректности данных, вводимых пользователями, либо о том, что в БД значения сохранились некорректно, либо о том, что эти люди супер современные :) "
   ]
  },
  {
   "cell_type": "markdown",
   "metadata": {},
   "source": [
    "Вывод по данным о пользователях: не смотря на то, что не все встречающиеся страны включают в себя пользователей из контрольных и тестовых групп, можно сказать, что сплитование было проведено корректно, т к распредление пользователей по странам, возрастам адекватное и схожее между группами."
   ]
  },
  {
   "cell_type": "markdown",
   "metadata": {},
   "source": [
    "Перейдем к файлам по транзакциям"
   ]
  },
  {
   "cell_type": "code",
   "execution_count": 32,
   "metadata": {},
   "outputs": [
    {
     "data": {
      "text/html": [
       "<div>\n",
       "<style scoped>\n",
       "    .dataframe tbody tr th:only-of-type {\n",
       "        vertical-align: middle;\n",
       "    }\n",
       "\n",
       "    .dataframe tbody tr th {\n",
       "        vertical-align: top;\n",
       "    }\n",
       "\n",
       "    .dataframe thead th {\n",
       "        text-align: right;\n",
       "    }\n",
       "</style>\n",
       "<table border=\"1\" class=\"dataframe\">\n",
       "  <thead>\n",
       "    <tr style=\"text-align: right;\">\n",
       "      <th></th>\n",
       "      <th>uid</th>\n",
       "      <th>country</th>\n",
       "      <th>joined_at</th>\n",
       "      <th>paid_at</th>\n",
       "      <th>revenue</th>\n",
       "      <th>payment_id</th>\n",
       "      <th>from_page</th>\n",
       "      <th>product_type</th>\n",
       "    </tr>\n",
       "  </thead>\n",
       "  <tbody>\n",
       "    <tr>\n",
       "      <th>0</th>\n",
       "      <td>891345942</td>\n",
       "      <td>Italy</td>\n",
       "      <td>2017-05-11 13:00:00</td>\n",
       "      <td>2017-11-13 15:04:00</td>\n",
       "      <td>12909</td>\n",
       "      <td>147</td>\n",
       "      <td>trial_vip_popup</td>\n",
       "      <td>trial_premium</td>\n",
       "    </tr>\n",
       "    <tr>\n",
       "      <th>1</th>\n",
       "      <td>892054251</td>\n",
       "      <td>United States of America</td>\n",
       "      <td>2017-10-22 00:33:00</td>\n",
       "      <td>2017-10-30 01:37:00</td>\n",
       "      <td>13923</td>\n",
       "      <td>147</td>\n",
       "      <td>trial_vip_popup</td>\n",
       "      <td>trial_premium</td>\n",
       "    </tr>\n",
       "    <tr>\n",
       "      <th>2</th>\n",
       "      <td>892236423</td>\n",
       "      <td>United States of America</td>\n",
       "      <td>2017-10-18 01:09:00</td>\n",
       "      <td>2017-10-23 00:15:00</td>\n",
       "      <td>3783</td>\n",
       "      <td>67</td>\n",
       "      <td>menu</td>\n",
       "      <td>other_type</td>\n",
       "    </tr>\n",
       "  </tbody>\n",
       "</table>\n",
       "</div>"
      ],
      "text/plain": [
       "         uid                   country            joined_at  \\\n",
       "0  891345942                     Italy  2017-05-11 13:00:00   \n",
       "1  892054251  United States of America  2017-10-22 00:33:00   \n",
       "2  892236423  United States of America  2017-10-18 01:09:00   \n",
       "\n",
       "               paid_at  revenue  payment_id        from_page   product_type  \n",
       "0  2017-11-13 15:04:00    12909         147  trial_vip_popup  trial_premium  \n",
       "1  2017-10-30 01:37:00    13923         147  trial_vip_popup  trial_premium  \n",
       "2  2017-10-23 00:15:00     3783          67             menu     other_type  "
      ]
     },
     "execution_count": 32,
     "metadata": {},
     "output_type": "execute_result"
    }
   ],
   "source": [
    "transactions_test.head(3)"
   ]
  },
  {
   "cell_type": "code",
   "execution_count": 33,
   "metadata": {},
   "outputs": [
    {
     "data": {
      "text/html": [
       "<div>\n",
       "<style scoped>\n",
       "    .dataframe tbody tr th:only-of-type {\n",
       "        vertical-align: middle;\n",
       "    }\n",
       "\n",
       "    .dataframe tbody tr th {\n",
       "        vertical-align: top;\n",
       "    }\n",
       "\n",
       "    .dataframe thead th {\n",
       "        text-align: right;\n",
       "    }\n",
       "</style>\n",
       "<table border=\"1\" class=\"dataframe\">\n",
       "  <thead>\n",
       "    <tr style=\"text-align: right;\">\n",
       "      <th></th>\n",
       "      <th>uid</th>\n",
       "      <th>country</th>\n",
       "      <th>joined_at</th>\n",
       "      <th>paid_at</th>\n",
       "      <th>revenue</th>\n",
       "      <th>payment_id</th>\n",
       "      <th>from_page</th>\n",
       "      <th>product_type</th>\n",
       "    </tr>\n",
       "  </thead>\n",
       "  <tbody>\n",
       "    <tr>\n",
       "      <th>0</th>\n",
       "      <td>891319275.0</td>\n",
       "      <td>France</td>\n",
       "      <td>2017-05-11 19:57:00</td>\n",
       "      <td>2017-12-11 21:57:00</td>\n",
       "      <td>12727.0</td>\n",
       "      <td>147.0</td>\n",
       "      <td>trial_vip_popup</td>\n",
       "      <td>trial_premium</td>\n",
       "    </tr>\n",
       "    <tr>\n",
       "      <th>1</th>\n",
       "      <td>892421826.0</td>\n",
       "      <td>Israel</td>\n",
       "      <td>2017-10-14 12:46:00</td>\n",
       "      <td>2017-10-23 12:54:00</td>\n",
       "      <td>14586.0</td>\n",
       "      <td>147.0</td>\n",
       "      <td>trial_vip_popup</td>\n",
       "      <td>trial_premium</td>\n",
       "    </tr>\n",
       "    <tr>\n",
       "      <th>2</th>\n",
       "      <td>891822480.0</td>\n",
       "      <td>Italy</td>\n",
       "      <td>2017-10-26 22:27:00</td>\n",
       "      <td>2017-12-11 20:59:00</td>\n",
       "      <td>1911.0</td>\n",
       "      <td>19.0</td>\n",
       "      <td>none</td>\n",
       "      <td>coins</td>\n",
       "    </tr>\n",
       "  </tbody>\n",
       "</table>\n",
       "</div>"
      ],
      "text/plain": [
       "           uid country            joined_at              paid_at  revenue  \\\n",
       "0  891319275.0  France  2017-05-11 19:57:00  2017-12-11 21:57:00  12727.0   \n",
       "1  892421826.0  Israel  2017-10-14 12:46:00  2017-10-23 12:54:00  14586.0   \n",
       "2  891822480.0   Italy  2017-10-26 22:27:00  2017-12-11 20:59:00   1911.0   \n",
       "\n",
       "   payment_id        from_page   product_type  \n",
       "0       147.0  trial_vip_popup  trial_premium  \n",
       "1       147.0  trial_vip_popup  trial_premium  \n",
       "2        19.0             none          coins  "
      ]
     },
     "execution_count": 33,
     "metadata": {},
     "output_type": "execute_result"
    }
   ],
   "source": [
    "transactions_control_1.head(3)"
   ]
  },
  {
   "cell_type": "code",
   "execution_count": 34,
   "metadata": {},
   "outputs": [
    {
     "data": {
      "text/html": [
       "<div>\n",
       "<style scoped>\n",
       "    .dataframe tbody tr th:only-of-type {\n",
       "        vertical-align: middle;\n",
       "    }\n",
       "\n",
       "    .dataframe tbody tr th {\n",
       "        vertical-align: top;\n",
       "    }\n",
       "\n",
       "    .dataframe thead th {\n",
       "        text-align: right;\n",
       "    }\n",
       "</style>\n",
       "<table border=\"1\" class=\"dataframe\">\n",
       "  <thead>\n",
       "    <tr style=\"text-align: right;\">\n",
       "      <th></th>\n",
       "      <th>uid</th>\n",
       "      <th>country</th>\n",
       "      <th>joined_at</th>\n",
       "      <th>paid_at</th>\n",
       "      <th>revenue</th>\n",
       "      <th>payment_id</th>\n",
       "      <th>from_page</th>\n",
       "      <th>product_type</th>\n",
       "    </tr>\n",
       "  </thead>\n",
       "  <tbody>\n",
       "    <tr>\n",
       "      <th>0</th>\n",
       "      <td>891266616</td>\n",
       "      <td>Argentina</td>\n",
       "      <td>2017-06-11 15:25:00</td>\n",
       "      <td>2017-10-11 17:35:00</td>\n",
       "      <td>6305</td>\n",
       "      <td>19</td>\n",
       "      <td>autorefill</td>\n",
       "      <td>coins</td>\n",
       "    </tr>\n",
       "    <tr>\n",
       "      <th>1</th>\n",
       "      <td>892186737</td>\n",
       "      <td>Chile</td>\n",
       "      <td>2017-10-19 06:03:00</td>\n",
       "      <td>2017-04-11 08:53:00</td>\n",
       "      <td>4732</td>\n",
       "      <td>147</td>\n",
       "      <td>promo_09</td>\n",
       "      <td>premium_no_trial</td>\n",
       "    </tr>\n",
       "    <tr>\n",
       "      <th>2</th>\n",
       "      <td>891959004</td>\n",
       "      <td>United States of America</td>\n",
       "      <td>2017-10-24 00:12:00</td>\n",
       "      <td>2017-10-31 02:12:00</td>\n",
       "      <td>10153</td>\n",
       "      <td>147</td>\n",
       "      <td>trial_vip_popup</td>\n",
       "      <td>trial_premium</td>\n",
       "    </tr>\n",
       "  </tbody>\n",
       "</table>\n",
       "</div>"
      ],
      "text/plain": [
       "         uid                   country            joined_at  \\\n",
       "0  891266616                 Argentina  2017-06-11 15:25:00   \n",
       "1  892186737                     Chile  2017-10-19 06:03:00   \n",
       "2  891959004  United States of America  2017-10-24 00:12:00   \n",
       "\n",
       "               paid_at  revenue  payment_id        from_page      product_type  \n",
       "0  2017-10-11 17:35:00     6305          19       autorefill             coins  \n",
       "1  2017-04-11 08:53:00     4732         147         promo_09  premium_no_trial  \n",
       "2  2017-10-31 02:12:00    10153         147  trial_vip_popup     trial_premium  "
      ]
     },
     "execution_count": 34,
     "metadata": {},
     "output_type": "execute_result"
    }
   ],
   "source": [
    "transactions_control_2.head(3)"
   ]
  },
  {
   "cell_type": "code",
   "execution_count": 35,
   "metadata": {},
   "outputs": [
    {
     "name": "stdout",
     "output_type": "stream",
     "text": [
      "df size in test group:\n",
      " (273, 8) \n",
      "\n",
      " df size in control1 group:\n",
      " (1007, 8) \n",
      "\n",
      " df size in control2 group:\n",
      " (328, 8)\n"
     ]
    }
   ],
   "source": [
    "print('df size in test group:\\n',\n",
    "      transactions_test.shape,\n",
    "      '\\n\\n df size in control1 group:\\n',\n",
    "      transactions_control_1.shape,\n",
    "      '\\n\\n df size in control2 group:\\n',\n",
    "      transactions_control_2.shape)"
   ]
  },
  {
   "cell_type": "markdown",
   "metadata": {},
   "source": [
    "данных в файле о транзакциях первой контрольной группы сильно больше, будем иметь это в виду и посмотрим далее, что там"
   ]
  },
  {
   "cell_type": "code",
   "execution_count": 36,
   "metadata": {},
   "outputs": [
    {
     "data": {
      "text/html": [
       "<div>\n",
       "<style scoped>\n",
       "    .dataframe tbody tr th:only-of-type {\n",
       "        vertical-align: middle;\n",
       "    }\n",
       "\n",
       "    .dataframe tbody tr th {\n",
       "        vertical-align: top;\n",
       "    }\n",
       "\n",
       "    .dataframe thead th {\n",
       "        text-align: right;\n",
       "    }\n",
       "</style>\n",
       "<table border=\"1\" class=\"dataframe\">\n",
       "  <thead>\n",
       "    <tr style=\"text-align: right;\">\n",
       "      <th></th>\n",
       "      <th>uid</th>\n",
       "      <th>country</th>\n",
       "      <th>joined_at</th>\n",
       "      <th>paid_at</th>\n",
       "      <th>revenue</th>\n",
       "      <th>payment_id</th>\n",
       "      <th>from_page</th>\n",
       "      <th>product_type</th>\n",
       "      <th>group</th>\n",
       "    </tr>\n",
       "  </thead>\n",
       "  <tbody>\n",
       "    <tr>\n",
       "      <th>0</th>\n",
       "      <td>891345942.0</td>\n",
       "      <td>Italy</td>\n",
       "      <td>2017-05-11 13:00:00</td>\n",
       "      <td>2017-11-13 15:04:00</td>\n",
       "      <td>12909.0</td>\n",
       "      <td>147.0</td>\n",
       "      <td>trial_vip_popup</td>\n",
       "      <td>trial_premium</td>\n",
       "      <td>test</td>\n",
       "    </tr>\n",
       "    <tr>\n",
       "      <th>1</th>\n",
       "      <td>892054251.0</td>\n",
       "      <td>United States of America</td>\n",
       "      <td>2017-10-22 00:33:00</td>\n",
       "      <td>2017-10-30 01:37:00</td>\n",
       "      <td>13923.0</td>\n",
       "      <td>147.0</td>\n",
       "      <td>trial_vip_popup</td>\n",
       "      <td>trial_premium</td>\n",
       "      <td>test</td>\n",
       "    </tr>\n",
       "    <tr>\n",
       "      <th>2</th>\n",
       "      <td>892236423.0</td>\n",
       "      <td>United States of America</td>\n",
       "      <td>2017-10-18 01:09:00</td>\n",
       "      <td>2017-10-23 00:15:00</td>\n",
       "      <td>3783.0</td>\n",
       "      <td>67.0</td>\n",
       "      <td>menu</td>\n",
       "      <td>other_type</td>\n",
       "      <td>test</td>\n",
       "    </tr>\n",
       "  </tbody>\n",
       "</table>\n",
       "</div>"
      ],
      "text/plain": [
       "           uid                   country            joined_at  \\\n",
       "0  891345942.0                     Italy  2017-05-11 13:00:00   \n",
       "1  892054251.0  United States of America  2017-10-22 00:33:00   \n",
       "2  892236423.0  United States of America  2017-10-18 01:09:00   \n",
       "\n",
       "               paid_at  revenue  payment_id        from_page   product_type  \\\n",
       "0  2017-11-13 15:04:00  12909.0       147.0  trial_vip_popup  trial_premium   \n",
       "1  2017-10-30 01:37:00  13923.0       147.0  trial_vip_popup  trial_premium   \n",
       "2  2017-10-23 00:15:00   3783.0        67.0             menu     other_type   \n",
       "\n",
       "  group  \n",
       "0  test  \n",
       "1  test  \n",
       "2  test  "
      ]
     },
     "execution_count": 36,
     "metadata": {},
     "output_type": "execute_result"
    }
   ],
   "source": [
    "#добавим колонки для обозначения группы пользователя и создадим один общий датафрейм для более удобного анализа\n",
    "transactions_test['group']='test'\n",
    "transactions_control_1['group']='control1'\n",
    "transactions_control_2['group']='control2'\n",
    "\n",
    "transactions_full_df = pd.concat([transactions_test, transactions_control_1,transactions_control_2], \n",
    "                                 sort=False, axis=0)\n",
    "transactions_full_df.head(3)"
   ]
  },
  {
   "cell_type": "code",
   "execution_count": 37,
   "metadata": {},
   "outputs": [
    {
     "data": {
      "text/plain": [
       "(1608, 9)"
      ]
     },
     "execution_count": 37,
     "metadata": {},
     "output_type": "execute_result"
    }
   ],
   "source": [
    "transactions_full_df.shape"
   ]
  },
  {
   "cell_type": "code",
   "execution_count": 38,
   "metadata": {},
   "outputs": [
    {
     "name": "stdout",
     "output_type": "stream",
     "text": [
      "ВСЁ ОК\n"
     ]
    }
   ],
   "source": [
    "#проверка данных на полноту\n",
    "if transactions_test.shape[0]+transactions_control_1.shape[0]+transactions_control_2.shape[0] \\\n",
    "    -transactions_full_df.shape[0] == 0:\n",
    "    print('ВСЁ ОК')\n",
    "else:\n",
    "    print('каких-то строчек не хватает')"
   ]
  },
  {
   "cell_type": "code",
   "execution_count": 39,
   "metadata": {},
   "outputs": [
    {
     "data": {
      "text/plain": [
       "uid             float64\n",
       "country          object\n",
       "joined_at        object\n",
       "paid_at          object\n",
       "revenue         float64\n",
       "payment_id      float64\n",
       "from_page        object\n",
       "product_type     object\n",
       "group            object\n",
       "dtype: object"
      ]
     },
     "execution_count": 39,
     "metadata": {},
     "output_type": "execute_result"
    }
   ],
   "source": [
    "transactions_full_df.dtypes"
   ]
  },
  {
   "cell_type": "code",
   "execution_count": 40,
   "metadata": {},
   "outputs": [
    {
     "data": {
      "text/plain": [
       "uid             0\n",
       "country         0\n",
       "joined_at       0\n",
       "paid_at         0\n",
       "revenue         0\n",
       "payment_id      0\n",
       "from_page       0\n",
       "product_type    0\n",
       "group           0\n",
       "dtype: int64"
      ]
     },
     "execution_count": 40,
     "metadata": {},
     "output_type": "execute_result"
    }
   ],
   "source": [
    "transactions_control_2.isna().sum()"
   ]
  },
  {
   "cell_type": "code",
   "execution_count": 41,
   "metadata": {},
   "outputs": [],
   "source": [
    "#приведем колонки с датами в формат datetime\n",
    "transactions_full_df.joined_at = pd.to_datetime(transactions_full_df.joined_at)\n",
    "transactions_full_df.paid_at = pd.to_datetime(transactions_full_df.paid_at)"
   ]
  },
  {
   "cell_type": "code",
   "execution_count": 42,
   "metadata": {},
   "outputs": [
    {
     "data": {
      "text/html": [
       "<div>\n",
       "<style scoped>\n",
       "    .dataframe tbody tr th:only-of-type {\n",
       "        vertical-align: middle;\n",
       "    }\n",
       "\n",
       "    .dataframe tbody tr th {\n",
       "        vertical-align: top;\n",
       "    }\n",
       "\n",
       "    .dataframe thead th {\n",
       "        text-align: right;\n",
       "    }\n",
       "</style>\n",
       "<table border=\"1\" class=\"dataframe\">\n",
       "  <thead>\n",
       "    <tr style=\"text-align: right;\">\n",
       "      <th></th>\n",
       "      <th>uid</th>\n",
       "      <th>revenue</th>\n",
       "      <th>payment_id</th>\n",
       "    </tr>\n",
       "  </thead>\n",
       "  <tbody>\n",
       "    <tr>\n",
       "      <th>count</th>\n",
       "      <td>9.780000e+02</td>\n",
       "      <td>978.000000</td>\n",
       "      <td>978.000000</td>\n",
       "    </tr>\n",
       "    <tr>\n",
       "      <th>mean</th>\n",
       "      <td>8.920309e+08</td>\n",
       "      <td>7032.361963</td>\n",
       "      <td>94.592025</td>\n",
       "    </tr>\n",
       "    <tr>\n",
       "      <th>std</th>\n",
       "      <td>3.843685e+06</td>\n",
       "      <td>8655.787235</td>\n",
       "      <td>57.930448</td>\n",
       "    </tr>\n",
       "    <tr>\n",
       "      <th>min</th>\n",
       "      <td>8.910681e+08</td>\n",
       "      <td>26.000000</td>\n",
       "      <td>0.000000</td>\n",
       "    </tr>\n",
       "    <tr>\n",
       "      <th>25%</th>\n",
       "      <td>8.914837e+08</td>\n",
       "      <td>2577.250000</td>\n",
       "      <td>19.000000</td>\n",
       "    </tr>\n",
       "    <tr>\n",
       "      <th>50%</th>\n",
       "      <td>8.918626e+08</td>\n",
       "      <td>5804.500000</td>\n",
       "      <td>146.000000</td>\n",
       "    </tr>\n",
       "    <tr>\n",
       "      <th>75%</th>\n",
       "      <td>8.921428e+08</td>\n",
       "      <td>9087.000000</td>\n",
       "      <td>147.000000</td>\n",
       "    </tr>\n",
       "    <tr>\n",
       "      <th>max</th>\n",
       "      <td>9.609370e+08</td>\n",
       "      <td>113477.000000</td>\n",
       "      <td>147.000000</td>\n",
       "    </tr>\n",
       "  </tbody>\n",
       "</table>\n",
       "</div>"
      ],
      "text/plain": [
       "                uid        revenue  payment_id\n",
       "count  9.780000e+02     978.000000  978.000000\n",
       "mean   8.920309e+08    7032.361963   94.592025\n",
       "std    3.843685e+06    8655.787235   57.930448\n",
       "min    8.910681e+08      26.000000    0.000000\n",
       "25%    8.914837e+08    2577.250000   19.000000\n",
       "50%    8.918626e+08    5804.500000  146.000000\n",
       "75%    8.921428e+08    9087.000000  147.000000\n",
       "max    9.609370e+08  113477.000000  147.000000"
      ]
     },
     "execution_count": 42,
     "metadata": {},
     "output_type": "execute_result"
    }
   ],
   "source": [
    "transactions_full_df.describe()"
   ]
  },
  {
   "cell_type": "code",
   "execution_count": 43,
   "metadata": {},
   "outputs": [
    {
     "name": "stdout",
     "output_type": "stream",
     "text": [
      "обнаружены дубликаты строк\n"
     ]
    }
   ],
   "source": [
    "#проверим таблицу на дублирующиеся строки \n",
    "if transactions_full_df.uid.nunique()-transactions_full_df.shape[0] == 0:\n",
    "    print('все строки уникальны, дублирующихся нет')\n",
    "else:\n",
    "    print('обнаружены дубликаты строк')"
   ]
  },
  {
   "cell_type": "code",
   "execution_count": 44,
   "metadata": {},
   "outputs": [
    {
     "data": {
      "text/plain": [
       "uid             630\n",
       "country         630\n",
       "joined_at       630\n",
       "paid_at         630\n",
       "revenue         630\n",
       "payment_id      630\n",
       "from_page       630\n",
       "product_type    630\n",
       "group             0\n",
       "dtype: int64"
      ]
     },
     "execution_count": 44,
     "metadata": {},
     "output_type": "execute_result"
    }
   ],
   "source": [
    "#проверим датафрейм на пропущенные значения\n",
    "transactions_full_df.isna().sum()"
   ]
  },
  {
   "cell_type": "code",
   "execution_count": 45,
   "metadata": {},
   "outputs": [
    {
     "name": "stdout",
     "output_type": "stream",
     "text": [
      "number of null values in test group:\n",
      " uid             0\n",
      "country         0\n",
      "joined_at       0\n",
      "paid_at         0\n",
      "revenue         0\n",
      "payment_id      0\n",
      "from_page       0\n",
      "product_type    0\n",
      "group           0\n",
      "dtype: int64 \n",
      "\n",
      " number of null values in control1 group:\n",
      " uid             630\n",
      "country         630\n",
      "joined_at       630\n",
      "paid_at         630\n",
      "revenue         630\n",
      "payment_id      630\n",
      "from_page       630\n",
      "product_type    630\n",
      "group             0\n",
      "dtype: int64 \n",
      "\n",
      " number of null values in control2 group:\n",
      " uid             0\n",
      "country         0\n",
      "joined_at       0\n",
      "paid_at         0\n",
      "revenue         0\n",
      "payment_id      0\n",
      "from_page       0\n",
      "product_type    0\n",
      "group           0\n",
      "dtype: int64\n"
     ]
    }
   ],
   "source": [
    "#посмотрим также на кол-во пропущенных значения в каждой группе отдельно\n",
    "print('number of null values in test group:\\n',\n",
    "      transactions_full_df.query('group == \"test\"').isna().sum(),\n",
    "      '\\n\\n number of null values in control1 group:\\n',\n",
    "      transactions_full_df.query('group == \"control1\"').isna().sum(),\n",
    "     '\\n\\n number of null values in control2 group:\\n',\n",
    "      transactions_full_df.query('group == \"control2\"').isna().sum())"
   ]
  },
  {
   "cell_type": "markdown",
   "metadata": {},
   "source": [
    "мы видим, что пропущенные значения (они и возможно дубликаты строк) идут из первой контрольной группы, в которой было больше всего строк. посмотрим детальнее, что это за строки"
   ]
  },
  {
   "cell_type": "code",
   "execution_count": 46,
   "metadata": {},
   "outputs": [
    {
     "data": {
      "text/html": [
       "<div>\n",
       "<style scoped>\n",
       "    .dataframe tbody tr th:only-of-type {\n",
       "        vertical-align: middle;\n",
       "    }\n",
       "\n",
       "    .dataframe tbody tr th {\n",
       "        vertical-align: top;\n",
       "    }\n",
       "\n",
       "    .dataframe thead th {\n",
       "        text-align: right;\n",
       "    }\n",
       "</style>\n",
       "<table border=\"1\" class=\"dataframe\">\n",
       "  <thead>\n",
       "    <tr style=\"text-align: right;\">\n",
       "      <th></th>\n",
       "      <th>uid</th>\n",
       "      <th>country</th>\n",
       "      <th>joined_at</th>\n",
       "      <th>paid_at</th>\n",
       "      <th>revenue</th>\n",
       "      <th>payment_id</th>\n",
       "      <th>from_page</th>\n",
       "      <th>product_type</th>\n",
       "      <th>group</th>\n",
       "    </tr>\n",
       "  </thead>\n",
       "  <tbody>\n",
       "    <tr>\n",
       "      <th>252</th>\n",
       "      <td>891092322.0</td>\n",
       "      <td>Argentina</td>\n",
       "      <td>2017-09-11 22:48:00</td>\n",
       "      <td>2017-11-11 18:21:00</td>\n",
       "      <td>741.0</td>\n",
       "      <td>146.0</td>\n",
       "      <td>empty_likes</td>\n",
       "      <td>coins</td>\n",
       "      <td>control1</td>\n",
       "    </tr>\n",
       "    <tr>\n",
       "      <th>36</th>\n",
       "      <td>891092322.0</td>\n",
       "      <td>Argentina</td>\n",
       "      <td>2017-09-11 22:48:00</td>\n",
       "      <td>2017-10-11 01:18:00</td>\n",
       "      <td>5278.0</td>\n",
       "      <td>147.0</td>\n",
       "      <td>autoreply_message</td>\n",
       "      <td>premium_no_trial</td>\n",
       "      <td>control1</td>\n",
       "    </tr>\n",
       "    <tr>\n",
       "      <th>95</th>\n",
       "      <td>891092322.0</td>\n",
       "      <td>Argentina</td>\n",
       "      <td>2017-09-11 22:48:00</td>\n",
       "      <td>2017-11-11 18:22:00</td>\n",
       "      <td>3926.0</td>\n",
       "      <td>19.0</td>\n",
       "      <td>empty_likes</td>\n",
       "      <td>coins</td>\n",
       "      <td>control1</td>\n",
       "    </tr>\n",
       "    <tr>\n",
       "      <th>64</th>\n",
       "      <td>891120969.0</td>\n",
       "      <td>France</td>\n",
       "      <td>2017-09-11 12:24:00</td>\n",
       "      <td>2017-09-11 12:40:00</td>\n",
       "      <td>6292.0</td>\n",
       "      <td>147.0</td>\n",
       "      <td>autoreply_message</td>\n",
       "      <td>premium_no_trial</td>\n",
       "      <td>control1</td>\n",
       "    </tr>\n",
       "    <tr>\n",
       "      <th>39</th>\n",
       "      <td>891130164.0</td>\n",
       "      <td>United States of America</td>\n",
       "      <td>2017-09-11 07:37:00</td>\n",
       "      <td>2017-10-11 12:27:00</td>\n",
       "      <td>2730.0</td>\n",
       "      <td>67.0</td>\n",
       "      <td>empty_likes</td>\n",
       "      <td>other_type</td>\n",
       "      <td>control1</td>\n",
       "    </tr>\n",
       "    <tr>\n",
       "      <th>...</th>\n",
       "      <td>...</td>\n",
       "      <td>...</td>\n",
       "      <td>...</td>\n",
       "      <td>...</td>\n",
       "      <td>...</td>\n",
       "      <td>...</td>\n",
       "      <td>...</td>\n",
       "      <td>...</td>\n",
       "      <td>...</td>\n",
       "    </tr>\n",
       "    <tr>\n",
       "      <th>1002</th>\n",
       "      <td>NaN</td>\n",
       "      <td>NaN</td>\n",
       "      <td>NaT</td>\n",
       "      <td>NaT</td>\n",
       "      <td>NaN</td>\n",
       "      <td>NaN</td>\n",
       "      <td>NaN</td>\n",
       "      <td>NaN</td>\n",
       "      <td>control1</td>\n",
       "    </tr>\n",
       "    <tr>\n",
       "      <th>1003</th>\n",
       "      <td>NaN</td>\n",
       "      <td>NaN</td>\n",
       "      <td>NaT</td>\n",
       "      <td>NaT</td>\n",
       "      <td>NaN</td>\n",
       "      <td>NaN</td>\n",
       "      <td>NaN</td>\n",
       "      <td>NaN</td>\n",
       "      <td>control1</td>\n",
       "    </tr>\n",
       "    <tr>\n",
       "      <th>1004</th>\n",
       "      <td>NaN</td>\n",
       "      <td>NaN</td>\n",
       "      <td>NaT</td>\n",
       "      <td>NaT</td>\n",
       "      <td>NaN</td>\n",
       "      <td>NaN</td>\n",
       "      <td>NaN</td>\n",
       "      <td>NaN</td>\n",
       "      <td>control1</td>\n",
       "    </tr>\n",
       "    <tr>\n",
       "      <th>1005</th>\n",
       "      <td>NaN</td>\n",
       "      <td>NaN</td>\n",
       "      <td>NaT</td>\n",
       "      <td>NaT</td>\n",
       "      <td>NaN</td>\n",
       "      <td>NaN</td>\n",
       "      <td>NaN</td>\n",
       "      <td>NaN</td>\n",
       "      <td>control1</td>\n",
       "    </tr>\n",
       "    <tr>\n",
       "      <th>1006</th>\n",
       "      <td>NaN</td>\n",
       "      <td>NaN</td>\n",
       "      <td>NaT</td>\n",
       "      <td>NaT</td>\n",
       "      <td>NaN</td>\n",
       "      <td>NaN</td>\n",
       "      <td>NaN</td>\n",
       "      <td>NaN</td>\n",
       "      <td>control1</td>\n",
       "    </tr>\n",
       "  </tbody>\n",
       "</table>\n",
       "<p>1007 rows × 9 columns</p>\n",
       "</div>"
      ],
      "text/plain": [
       "              uid                   country           joined_at  \\\n",
       "252   891092322.0                 Argentina 2017-09-11 22:48:00   \n",
       "36    891092322.0                 Argentina 2017-09-11 22:48:00   \n",
       "95    891092322.0                 Argentina 2017-09-11 22:48:00   \n",
       "64    891120969.0                    France 2017-09-11 12:24:00   \n",
       "39    891130164.0  United States of America 2017-09-11 07:37:00   \n",
       "...           ...                       ...                 ...   \n",
       "1002          NaN                       NaN                 NaT   \n",
       "1003          NaN                       NaN                 NaT   \n",
       "1004          NaN                       NaN                 NaT   \n",
       "1005          NaN                       NaN                 NaT   \n",
       "1006          NaN                       NaN                 NaT   \n",
       "\n",
       "                 paid_at  revenue  payment_id          from_page  \\\n",
       "252  2017-11-11 18:21:00    741.0       146.0        empty_likes   \n",
       "36   2017-10-11 01:18:00   5278.0       147.0  autoreply_message   \n",
       "95   2017-11-11 18:22:00   3926.0        19.0        empty_likes   \n",
       "64   2017-09-11 12:40:00   6292.0       147.0  autoreply_message   \n",
       "39   2017-10-11 12:27:00   2730.0        67.0        empty_likes   \n",
       "...                  ...      ...         ...                ...   \n",
       "1002                 NaT      NaN         NaN                NaN   \n",
       "1003                 NaT      NaN         NaN                NaN   \n",
       "1004                 NaT      NaN         NaN                NaN   \n",
       "1005                 NaT      NaN         NaN                NaN   \n",
       "1006                 NaT      NaN         NaN                NaN   \n",
       "\n",
       "          product_type     group  \n",
       "252              coins  control1  \n",
       "36    premium_no_trial  control1  \n",
       "95               coins  control1  \n",
       "64    premium_no_trial  control1  \n",
       "39          other_type  control1  \n",
       "...                ...       ...  \n",
       "1002               NaN  control1  \n",
       "1003               NaN  control1  \n",
       "1004               NaN  control1  \n",
       "1005               NaN  control1  \n",
       "1006               NaN  control1  \n",
       "\n",
       "[1007 rows x 9 columns]"
      ]
     },
     "execution_count": 46,
     "metadata": {},
     "output_type": "execute_result"
    }
   ],
   "source": [
    "transactions_full_df.query('group == \"control1\"').sort_values('uid')"
   ]
  },
  {
   "cell_type": "code",
   "execution_count": 47,
   "metadata": {},
   "outputs": [
    {
     "data": {
      "text/html": [
       "<div>\n",
       "<style scoped>\n",
       "    .dataframe tbody tr th:only-of-type {\n",
       "        vertical-align: middle;\n",
       "    }\n",
       "\n",
       "    .dataframe tbody tr th {\n",
       "        vertical-align: top;\n",
       "    }\n",
       "\n",
       "    .dataframe thead th {\n",
       "        text-align: right;\n",
       "    }\n",
       "</style>\n",
       "<table border=\"1\" class=\"dataframe\">\n",
       "  <thead>\n",
       "    <tr style=\"text-align: right;\">\n",
       "      <th></th>\n",
       "      <th>uid</th>\n",
       "      <th>country</th>\n",
       "      <th>joined_at</th>\n",
       "      <th>paid_at</th>\n",
       "      <th>revenue</th>\n",
       "      <th>payment_id</th>\n",
       "      <th>from_page</th>\n",
       "      <th>product_type</th>\n",
       "      <th>group</th>\n",
       "    </tr>\n",
       "  </thead>\n",
       "  <tbody>\n",
       "    <tr>\n",
       "      <th>377</th>\n",
       "      <td>NaN</td>\n",
       "      <td>NaN</td>\n",
       "      <td>NaT</td>\n",
       "      <td>NaT</td>\n",
       "      <td>NaN</td>\n",
       "      <td>NaN</td>\n",
       "      <td>NaN</td>\n",
       "      <td>NaN</td>\n",
       "      <td>control1</td>\n",
       "    </tr>\n",
       "    <tr>\n",
       "      <th>378</th>\n",
       "      <td>NaN</td>\n",
       "      <td>NaN</td>\n",
       "      <td>NaT</td>\n",
       "      <td>NaT</td>\n",
       "      <td>NaN</td>\n",
       "      <td>NaN</td>\n",
       "      <td>NaN</td>\n",
       "      <td>NaN</td>\n",
       "      <td>control1</td>\n",
       "    </tr>\n",
       "    <tr>\n",
       "      <th>379</th>\n",
       "      <td>NaN</td>\n",
       "      <td>NaN</td>\n",
       "      <td>NaT</td>\n",
       "      <td>NaT</td>\n",
       "      <td>NaN</td>\n",
       "      <td>NaN</td>\n",
       "      <td>NaN</td>\n",
       "      <td>NaN</td>\n",
       "      <td>control1</td>\n",
       "    </tr>\n",
       "    <tr>\n",
       "      <th>380</th>\n",
       "      <td>NaN</td>\n",
       "      <td>NaN</td>\n",
       "      <td>NaT</td>\n",
       "      <td>NaT</td>\n",
       "      <td>NaN</td>\n",
       "      <td>NaN</td>\n",
       "      <td>NaN</td>\n",
       "      <td>NaN</td>\n",
       "      <td>control1</td>\n",
       "    </tr>\n",
       "    <tr>\n",
       "      <th>381</th>\n",
       "      <td>NaN</td>\n",
       "      <td>NaN</td>\n",
       "      <td>NaT</td>\n",
       "      <td>NaT</td>\n",
       "      <td>NaN</td>\n",
       "      <td>NaN</td>\n",
       "      <td>NaN</td>\n",
       "      <td>NaN</td>\n",
       "      <td>control1</td>\n",
       "    </tr>\n",
       "    <tr>\n",
       "      <th>...</th>\n",
       "      <td>...</td>\n",
       "      <td>...</td>\n",
       "      <td>...</td>\n",
       "      <td>...</td>\n",
       "      <td>...</td>\n",
       "      <td>...</td>\n",
       "      <td>...</td>\n",
       "      <td>...</td>\n",
       "      <td>...</td>\n",
       "    </tr>\n",
       "    <tr>\n",
       "      <th>1002</th>\n",
       "      <td>NaN</td>\n",
       "      <td>NaN</td>\n",
       "      <td>NaT</td>\n",
       "      <td>NaT</td>\n",
       "      <td>NaN</td>\n",
       "      <td>NaN</td>\n",
       "      <td>NaN</td>\n",
       "      <td>NaN</td>\n",
       "      <td>control1</td>\n",
       "    </tr>\n",
       "    <tr>\n",
       "      <th>1003</th>\n",
       "      <td>NaN</td>\n",
       "      <td>NaN</td>\n",
       "      <td>NaT</td>\n",
       "      <td>NaT</td>\n",
       "      <td>NaN</td>\n",
       "      <td>NaN</td>\n",
       "      <td>NaN</td>\n",
       "      <td>NaN</td>\n",
       "      <td>control1</td>\n",
       "    </tr>\n",
       "    <tr>\n",
       "      <th>1004</th>\n",
       "      <td>NaN</td>\n",
       "      <td>NaN</td>\n",
       "      <td>NaT</td>\n",
       "      <td>NaT</td>\n",
       "      <td>NaN</td>\n",
       "      <td>NaN</td>\n",
       "      <td>NaN</td>\n",
       "      <td>NaN</td>\n",
       "      <td>control1</td>\n",
       "    </tr>\n",
       "    <tr>\n",
       "      <th>1005</th>\n",
       "      <td>NaN</td>\n",
       "      <td>NaN</td>\n",
       "      <td>NaT</td>\n",
       "      <td>NaT</td>\n",
       "      <td>NaN</td>\n",
       "      <td>NaN</td>\n",
       "      <td>NaN</td>\n",
       "      <td>NaN</td>\n",
       "      <td>control1</td>\n",
       "    </tr>\n",
       "    <tr>\n",
       "      <th>1006</th>\n",
       "      <td>NaN</td>\n",
       "      <td>NaN</td>\n",
       "      <td>NaT</td>\n",
       "      <td>NaT</td>\n",
       "      <td>NaN</td>\n",
       "      <td>NaN</td>\n",
       "      <td>NaN</td>\n",
       "      <td>NaN</td>\n",
       "      <td>control1</td>\n",
       "    </tr>\n",
       "  </tbody>\n",
       "</table>\n",
       "<p>630 rows × 9 columns</p>\n",
       "</div>"
      ],
      "text/plain": [
       "      uid country joined_at paid_at  revenue  payment_id from_page  \\\n",
       "377   NaN     NaN       NaT     NaT      NaN         NaN       NaN   \n",
       "378   NaN     NaN       NaT     NaT      NaN         NaN       NaN   \n",
       "379   NaN     NaN       NaT     NaT      NaN         NaN       NaN   \n",
       "380   NaN     NaN       NaT     NaT      NaN         NaN       NaN   \n",
       "381   NaN     NaN       NaT     NaT      NaN         NaN       NaN   \n",
       "...   ...     ...       ...     ...      ...         ...       ...   \n",
       "1002  NaN     NaN       NaT     NaT      NaN         NaN       NaN   \n",
       "1003  NaN     NaN       NaT     NaT      NaN         NaN       NaN   \n",
       "1004  NaN     NaN       NaT     NaT      NaN         NaN       NaN   \n",
       "1005  NaN     NaN       NaT     NaT      NaN         NaN       NaN   \n",
       "1006  NaN     NaN       NaT     NaT      NaN         NaN       NaN   \n",
       "\n",
       "     product_type     group  \n",
       "377           NaN  control1  \n",
       "378           NaN  control1  \n",
       "379           NaN  control1  \n",
       "380           NaN  control1  \n",
       "381           NaN  control1  \n",
       "...           ...       ...  \n",
       "1002          NaN  control1  \n",
       "1003          NaN  control1  \n",
       "1004          NaN  control1  \n",
       "1005          NaN  control1  \n",
       "1006          NaN  control1  \n",
       "\n",
       "[630 rows x 9 columns]"
      ]
     },
     "execution_count": 47,
     "metadata": {},
     "output_type": "execute_result"
    }
   ],
   "source": [
    "transactions_full_df.query('group == \"control1\"').sort_values('uid').query('paid_at == \"NaT\"')"
   ]
  },
  {
   "cell_type": "code",
   "execution_count": 48,
   "metadata": {},
   "outputs": [
    {
     "data": {
      "text/plain": [
       "(978, 9)"
      ]
     },
     "execution_count": 48,
     "metadata": {},
     "output_type": "execute_result"
    }
   ],
   "source": [
    "#похоже, что эти 630 дублирующихся строк с пропущенными значениями, поэтому удалим их из датафрейма по транзакциям \n",
    "transactions_full_df = transactions_full_df.dropna()\n",
    "transactions_full_df.shape"
   ]
  },
  {
   "cell_type": "code",
   "execution_count": 49,
   "metadata": {},
   "outputs": [
    {
     "name": "stdout",
     "output_type": "stream",
     "text": [
      "ВСЁ ОК\n"
     ]
    }
   ],
   "source": [
    "#проверка данных на полноту\n",
    "if 1608-transactions_full_df.shape[0] == 630:\n",
    "    print('ВСЁ ОК')\n",
    "else:\n",
    "    print('каких-то строчек не хватает')"
   ]
  },
  {
   "cell_type": "code",
   "execution_count": 50,
   "metadata": {},
   "outputs": [
    {
     "data": {
      "text/plain": [
       "uid             0\n",
       "country         0\n",
       "joined_at       0\n",
       "paid_at         0\n",
       "revenue         0\n",
       "payment_id      0\n",
       "from_page       0\n",
       "product_type    0\n",
       "group           0\n",
       "dtype: int64"
      ]
     },
     "execution_count": 50,
     "metadata": {},
     "output_type": "execute_result"
    }
   ],
   "source": [
    "#снова проверим датафрейм на пропущенные значения\n",
    "transactions_full_df.isna().sum()"
   ]
  },
  {
   "cell_type": "markdown",
   "metadata": {},
   "source": [
    "теперь нет лишних пустых строк"
   ]
  },
  {
   "cell_type": "code",
   "execution_count": 51,
   "metadata": {},
   "outputs": [
    {
     "name": "stdout",
     "output_type": "stream",
     "text": [
      "shape of test group:\n",
      " (273, 9) \n",
      "\n",
      " shape of  control1 group:\n",
      " (377, 9) \n",
      "\n",
      " shape of  control2 group:\n",
      " (328, 9)\n"
     ]
    }
   ],
   "source": [
    "print('shape of test group:\\n',\n",
    "      transactions_full_df.query('group == \"test\"').shape,\n",
    "      '\\n\\n shape of  control1 group:\\n',\n",
    "      transactions_full_df.query('group == \"control1\"').shape,\n",
    "     '\\n\\n shape of  control2 group:\\n',\n",
    "      transactions_full_df.query('group == \"control2\"').shape)"
   ]
  },
  {
   "cell_type": "code",
   "execution_count": 52,
   "metadata": {},
   "outputs": [
    {
     "name": "stdout",
     "output_type": "stream",
     "text": [
      "number of unique rows in test group:\n",
      " uid             146\n",
      "country          17\n",
      "joined_at       146\n",
      "paid_at         258\n",
      "revenue         125\n",
      "payment_id        6\n",
      "from_page        22\n",
      "product_type      4\n",
      "group             1\n",
      "dtype: int64 \n",
      "\n",
      " number of unique rows in control1 group:\n",
      " uid             193\n",
      "country          18\n",
      "joined_at       193\n",
      "paid_at         335\n",
      "revenue         127\n",
      "payment_id        7\n",
      "from_page        25\n",
      "product_type      4\n",
      "group             1\n",
      "dtype: int64 \n",
      "\n",
      " number of unique rows in control2 group:\n",
      " uid             187\n",
      "country          19\n",
      "joined_at       187\n",
      "paid_at         309\n",
      "revenue         123\n",
      "payment_id        6\n",
      "from_page        18\n",
      "product_type      4\n",
      "group             1\n",
      "dtype: int64\n"
     ]
    }
   ],
   "source": [
    "#посмотрим также на кол-во уникальных значений в каждой группе отдельно\n",
    "print('number of unique rows in test group:\\n',\n",
    "      transactions_full_df.query('group == \"test\"').nunique(),\n",
    "      '\\n\\n number of unique rows in control1 group:\\n',\n",
    "      transactions_full_df.query('group == \"control1\"').nunique(),\n",
    "     '\\n\\n number of unique rows in control2 group:\\n',\n",
    "      transactions_full_df.query('group == \"control2\"').nunique())"
   ]
  },
  {
   "cell_type": "markdown",
   "metadata": {},
   "source": [
    "как мы видим, в каждой из групп для одного пользователя может быть несколько записей, посмотрим, что они из себя представляют"
   ]
  },
  {
   "cell_type": "code",
   "execution_count": 53,
   "metadata": {},
   "outputs": [
    {
     "data": {
      "text/html": [
       "<div>\n",
       "<style scoped>\n",
       "    .dataframe tbody tr th:only-of-type {\n",
       "        vertical-align: middle;\n",
       "    }\n",
       "\n",
       "    .dataframe tbody tr th {\n",
       "        vertical-align: top;\n",
       "    }\n",
       "\n",
       "    .dataframe thead th {\n",
       "        text-align: right;\n",
       "    }\n",
       "</style>\n",
       "<table border=\"1\" class=\"dataframe\">\n",
       "  <thead>\n",
       "    <tr style=\"text-align: right;\">\n",
       "      <th></th>\n",
       "      <th>uid</th>\n",
       "      <th>country</th>\n",
       "      <th>joined_at</th>\n",
       "      <th>paid_at</th>\n",
       "      <th>revenue</th>\n",
       "      <th>payment_id</th>\n",
       "      <th>from_page</th>\n",
       "      <th>product_type</th>\n",
       "      <th>group</th>\n",
       "    </tr>\n",
       "  </thead>\n",
       "  <tbody>\n",
       "    <tr>\n",
       "      <th>48</th>\n",
       "      <td>891068079.0</td>\n",
       "      <td>Argentina</td>\n",
       "      <td>2017-10-11 11:45:00</td>\n",
       "      <td>2017-11-11 04:20:00</td>\n",
       "      <td>4004.0</td>\n",
       "      <td>146.0</td>\n",
       "      <td>empty_likes</td>\n",
       "      <td>coins</td>\n",
       "      <td>control2</td>\n",
       "    </tr>\n",
       "    <tr>\n",
       "      <th>298</th>\n",
       "      <td>891068079.0</td>\n",
       "      <td>Argentina</td>\n",
       "      <td>2017-10-11 11:45:00</td>\n",
       "      <td>2017-12-11 15:23:00</td>\n",
       "      <td>6292.0</td>\n",
       "      <td>147.0</td>\n",
       "      <td>promo_09</td>\n",
       "      <td>premium_no_trial</td>\n",
       "      <td>control2</td>\n",
       "    </tr>\n",
       "    <tr>\n",
       "      <th>22</th>\n",
       "      <td>891071157.0</td>\n",
       "      <td>United States of America</td>\n",
       "      <td>2017-10-11 10:20:00</td>\n",
       "      <td>2017-10-11 16:37:00</td>\n",
       "      <td>9100.0</td>\n",
       "      <td>147.0</td>\n",
       "      <td>promo_09</td>\n",
       "      <td>premium_no_trial</td>\n",
       "      <td>test</td>\n",
       "    </tr>\n",
       "    <tr>\n",
       "      <th>189</th>\n",
       "      <td>891075072.0</td>\n",
       "      <td>United States of America</td>\n",
       "      <td>2017-10-11 08:23:00</td>\n",
       "      <td>2017-11-14 21:44:00</td>\n",
       "      <td>2327.0</td>\n",
       "      <td>67.0</td>\n",
       "      <td>empty_likes</td>\n",
       "      <td>other_type</td>\n",
       "      <td>control2</td>\n",
       "    </tr>\n",
       "    <tr>\n",
       "      <th>44</th>\n",
       "      <td>891077727.0</td>\n",
       "      <td>Argentina</td>\n",
       "      <td>2017-10-11 06:38:00</td>\n",
       "      <td>2017-10-11 16:33:00</td>\n",
       "      <td>6292.0</td>\n",
       "      <td>147.0</td>\n",
       "      <td>left_sidebar_menu</td>\n",
       "      <td>premium_no_trial</td>\n",
       "      <td>control2</td>\n",
       "    </tr>\n",
       "    <tr>\n",
       "      <th>...</th>\n",
       "      <td>...</td>\n",
       "      <td>...</td>\n",
       "      <td>...</td>\n",
       "      <td>...</td>\n",
       "      <td>...</td>\n",
       "      <td>...</td>\n",
       "      <td>...</td>\n",
       "      <td>...</td>\n",
       "      <td>...</td>\n",
       "    </tr>\n",
       "    <tr>\n",
       "      <th>159</th>\n",
       "      <td>892438635.0</td>\n",
       "      <td>France</td>\n",
       "      <td>2017-10-14 00:58:00</td>\n",
       "      <td>2017-10-23 12:55:00</td>\n",
       "      <td>16653.0</td>\n",
       "      <td>147.0</td>\n",
       "      <td>trial_vip_popup</td>\n",
       "      <td>trial_premium</td>\n",
       "      <td>test</td>\n",
       "    </tr>\n",
       "    <tr>\n",
       "      <th>42</th>\n",
       "      <td>892438776.0</td>\n",
       "      <td>United States of America</td>\n",
       "      <td>2017-10-14 00:54:00</td>\n",
       "      <td>2017-10-23 12:31:00</td>\n",
       "      <td>12727.0</td>\n",
       "      <td>147.0</td>\n",
       "      <td>trial_vip_popup</td>\n",
       "      <td>trial_premium</td>\n",
       "      <td>control2</td>\n",
       "    </tr>\n",
       "    <tr>\n",
       "      <th>101</th>\n",
       "      <td>960936960.0</td>\n",
       "      <td>Russian Federation</td>\n",
       "      <td>2015-01-19 11:49:00</td>\n",
       "      <td>2016-12-14 17:35:00</td>\n",
       "      <td>637.0</td>\n",
       "      <td>0.0</td>\n",
       "      <td>refung_AP</td>\n",
       "      <td>other_type</td>\n",
       "      <td>control1</td>\n",
       "    </tr>\n",
       "    <tr>\n",
       "      <th>65</th>\n",
       "      <td>960936960.0</td>\n",
       "      <td>Russian Federation</td>\n",
       "      <td>2015-01-19 11:49:00</td>\n",
       "      <td>2016-12-14 17:30:00</td>\n",
       "      <td>26.0</td>\n",
       "      <td>0.0</td>\n",
       "      <td>refund_VP</td>\n",
       "      <td>other_type</td>\n",
       "      <td>control1</td>\n",
       "    </tr>\n",
       "    <tr>\n",
       "      <th>224</th>\n",
       "      <td>960936960.0</td>\n",
       "      <td>Russian Federation</td>\n",
       "      <td>2015-01-19 11:49:00</td>\n",
       "      <td>2016-12-14 16:16:00</td>\n",
       "      <td>143.0</td>\n",
       "      <td>0.0</td>\n",
       "      <td>refund_WP</td>\n",
       "      <td>other_type</td>\n",
       "      <td>control1</td>\n",
       "    </tr>\n",
       "  </tbody>\n",
       "</table>\n",
       "<p>978 rows × 9 columns</p>\n",
       "</div>"
      ],
      "text/plain": [
       "             uid                   country           joined_at  \\\n",
       "48   891068079.0                 Argentina 2017-10-11 11:45:00   \n",
       "298  891068079.0                 Argentina 2017-10-11 11:45:00   \n",
       "22   891071157.0  United States of America 2017-10-11 10:20:00   \n",
       "189  891075072.0  United States of America 2017-10-11 08:23:00   \n",
       "44   891077727.0                 Argentina 2017-10-11 06:38:00   \n",
       "..           ...                       ...                 ...   \n",
       "159  892438635.0                    France 2017-10-14 00:58:00   \n",
       "42   892438776.0  United States of America 2017-10-14 00:54:00   \n",
       "101  960936960.0        Russian Federation 2015-01-19 11:49:00   \n",
       "65   960936960.0        Russian Federation 2015-01-19 11:49:00   \n",
       "224  960936960.0        Russian Federation 2015-01-19 11:49:00   \n",
       "\n",
       "                paid_at  revenue  payment_id          from_page  \\\n",
       "48  2017-11-11 04:20:00   4004.0       146.0        empty_likes   \n",
       "298 2017-12-11 15:23:00   6292.0       147.0           promo_09   \n",
       "22  2017-10-11 16:37:00   9100.0       147.0           promo_09   \n",
       "189 2017-11-14 21:44:00   2327.0        67.0        empty_likes   \n",
       "44  2017-10-11 16:33:00   6292.0       147.0  left_sidebar_menu   \n",
       "..                  ...      ...         ...                ...   \n",
       "159 2017-10-23 12:55:00  16653.0       147.0    trial_vip_popup   \n",
       "42  2017-10-23 12:31:00  12727.0       147.0    trial_vip_popup   \n",
       "101 2016-12-14 17:35:00    637.0         0.0          refung_AP   \n",
       "65  2016-12-14 17:30:00     26.0         0.0          refund_VP   \n",
       "224 2016-12-14 16:16:00    143.0         0.0          refund_WP   \n",
       "\n",
       "         product_type     group  \n",
       "48              coins  control2  \n",
       "298  premium_no_trial  control2  \n",
       "22   premium_no_trial      test  \n",
       "189        other_type  control2  \n",
       "44   premium_no_trial  control2  \n",
       "..                ...       ...  \n",
       "159     trial_premium      test  \n",
       "42      trial_premium  control2  \n",
       "101        other_type  control1  \n",
       "65         other_type  control1  \n",
       "224        other_type  control1  \n",
       "\n",
       "[978 rows x 9 columns]"
      ]
     },
     "execution_count": 53,
     "metadata": {},
     "output_type": "execute_result"
    }
   ],
   "source": [
    "transactions_full_df.sort_values('uid')"
   ]
  },
  {
   "cell_type": "markdown",
   "metadata": {},
   "source": [
    "несколько записей для одного юзера не является багом, т.к мы знаем по условию, что подписка оплачивается ежемесячно автоматически, пока пользователь её не отменил"
   ]
  },
  {
   "cell_type": "markdown",
   "metadata": {},
   "source": [
    "теперь посмотрим на временные промежутки регистраций пользователей, т.к. тест должен проводиться в одно время"
   ]
  },
  {
   "cell_type": "code",
   "execution_count": 54,
   "metadata": {},
   "outputs": [
    {
     "name": "stdout",
     "output_type": "stream",
     "text": [
      "test group dates description:\n",
      "                   joined_at              paid_at\n",
      "count                   273                  273\n",
      "unique                  146                  258\n",
      "top     2017-10-18 01:09:00  2017-10-22 22:08:00\n",
      "freq                     14                    4\n",
      "first   2017-01-11 03:07:00  2017-01-11 04:37:00\n",
      "last    2017-10-31 23:40:00  2017-12-11 22:06:00 \n",
      "\n",
      " control1 group dates description:\n",
      "                   joined_at              paid_at\n",
      "count                   377                  377\n",
      "unique                  193                  335\n",
      "top     2017-10-16 01:38:00  2017-10-16 02:08:00\n",
      "freq                     27                    5\n",
      "first   2015-01-19 11:49:00  2016-12-14 16:16:00\n",
      "last    2017-10-31 22:17:00  2017-12-11 21:57:00 \n",
      "\n",
      " control2 group dates description:\n",
      "                   joined_at              paid_at\n",
      "count                   328                  328\n",
      "unique                  187                  309\n",
      "top     2017-10-30 15:22:00  2017-10-23 20:17:00\n",
      "freq                     11                    3\n",
      "first   2017-01-11 08:36:00  2017-01-11 05:34:00\n",
      "last    2017-10-31 17:43:00  2017-12-11 23:28:00\n"
     ]
    }
   ],
   "source": [
    "print('test group dates description:\\n',\n",
    "      transactions_full_df.query('group == \"test\"').describe(include='datetime'),\n",
    "      '\\n\\n control1 group dates description:\\n',\n",
    "      transactions_full_df.query('group == \"control1\"').describe(include='datetime'),\n",
    "     '\\n\\n control2 group dates description:\\n',\n",
    "      transactions_full_df.query('group == \"control2\"').describe(include='datetime'))"
   ]
  },
  {
   "cell_type": "markdown",
   "metadata": {},
   "source": [
    "как мы видим по тестовой группе, эксперимент проводился с 11го января 2017 по 31ое октября 2017, но в 1ой контрольной группе есть записи о транзакциях до начала этого времени, эти записи нам придется не брать в учет для дальнейшего анализа и исключить их из таблицы, так как нас интересуют новые пользователи по условию."
   ]
  },
  {
   "cell_type": "code",
   "execution_count": 55,
   "metadata": {},
   "outputs": [
    {
     "data": {
      "text/html": [
       "<div>\n",
       "<style scoped>\n",
       "    .dataframe tbody tr th:only-of-type {\n",
       "        vertical-align: middle;\n",
       "    }\n",
       "\n",
       "    .dataframe tbody tr th {\n",
       "        vertical-align: top;\n",
       "    }\n",
       "\n",
       "    .dataframe thead th {\n",
       "        text-align: right;\n",
       "    }\n",
       "</style>\n",
       "<table border=\"1\" class=\"dataframe\">\n",
       "  <thead>\n",
       "    <tr style=\"text-align: right;\">\n",
       "      <th></th>\n",
       "      <th>uid</th>\n",
       "      <th>country</th>\n",
       "      <th>joined_at</th>\n",
       "      <th>paid_at</th>\n",
       "      <th>revenue</th>\n",
       "      <th>payment_id</th>\n",
       "      <th>from_page</th>\n",
       "      <th>product_type</th>\n",
       "      <th>group</th>\n",
       "    </tr>\n",
       "  </thead>\n",
       "  <tbody>\n",
       "    <tr>\n",
       "      <th>65</th>\n",
       "      <td>960936960.0</td>\n",
       "      <td>Russian Federation</td>\n",
       "      <td>2015-01-19 11:49:00</td>\n",
       "      <td>2016-12-14 17:30:00</td>\n",
       "      <td>26.0</td>\n",
       "      <td>0.0</td>\n",
       "      <td>refund_VP</td>\n",
       "      <td>other_type</td>\n",
       "      <td>control1</td>\n",
       "    </tr>\n",
       "    <tr>\n",
       "      <th>101</th>\n",
       "      <td>960936960.0</td>\n",
       "      <td>Russian Federation</td>\n",
       "      <td>2015-01-19 11:49:00</td>\n",
       "      <td>2016-12-14 17:35:00</td>\n",
       "      <td>637.0</td>\n",
       "      <td>0.0</td>\n",
       "      <td>refung_AP</td>\n",
       "      <td>other_type</td>\n",
       "      <td>control1</td>\n",
       "    </tr>\n",
       "    <tr>\n",
       "      <th>224</th>\n",
       "      <td>960936960.0</td>\n",
       "      <td>Russian Federation</td>\n",
       "      <td>2015-01-19 11:49:00</td>\n",
       "      <td>2016-12-14 16:16:00</td>\n",
       "      <td>143.0</td>\n",
       "      <td>0.0</td>\n",
       "      <td>refund_WP</td>\n",
       "      <td>other_type</td>\n",
       "      <td>control1</td>\n",
       "    </tr>\n",
       "  </tbody>\n",
       "</table>\n",
       "</div>"
      ],
      "text/plain": [
       "             uid             country           joined_at             paid_at  \\\n",
       "65   960936960.0  Russian Federation 2015-01-19 11:49:00 2016-12-14 17:30:00   \n",
       "101  960936960.0  Russian Federation 2015-01-19 11:49:00 2016-12-14 17:35:00   \n",
       "224  960936960.0  Russian Federation 2015-01-19 11:49:00 2016-12-14 16:16:00   \n",
       "\n",
       "     revenue  payment_id  from_page product_type     group  \n",
       "65      26.0         0.0  refund_VP   other_type  control1  \n",
       "101    637.0         0.0  refung_AP   other_type  control1  \n",
       "224    143.0         0.0  refund_WP   other_type  control1  "
      ]
     },
     "execution_count": 55,
     "metadata": {},
     "output_type": "execute_result"
    }
   ],
   "source": [
    "#посмотрим на эти строки\n",
    "transactions_full_df.query('joined_at < \"2017-01-11\"')"
   ]
  },
  {
   "cell_type": "markdown",
   "metadata": {},
   "source": [
    "их оказалось всего лишь три, поэтому наша выборка уменьшится незначительно.\n",
    "\n",
    "далее отфильтруем датасет транзакций, оставив там только тех юзеров, чьи страны представлены и в контрольной, и в тестовой группе, а также те записи, которые относятся к периоду проведения теста."
   ]
  },
  {
   "cell_type": "code",
   "execution_count": 56,
   "metadata": {},
   "outputs": [
    {
     "data": {
      "text/html": [
       "<div>\n",
       "<style scoped>\n",
       "    .dataframe tbody tr th:only-of-type {\n",
       "        vertical-align: middle;\n",
       "    }\n",
       "\n",
       "    .dataframe tbody tr th {\n",
       "        vertical-align: top;\n",
       "    }\n",
       "\n",
       "    .dataframe thead th {\n",
       "        text-align: right;\n",
       "    }\n",
       "</style>\n",
       "<table border=\"1\" class=\"dataframe\">\n",
       "  <thead>\n",
       "    <tr style=\"text-align: right;\">\n",
       "      <th></th>\n",
       "      <th>uid</th>\n",
       "      <th>country</th>\n",
       "      <th>joined_at</th>\n",
       "      <th>paid_at</th>\n",
       "      <th>revenue</th>\n",
       "      <th>payment_id</th>\n",
       "      <th>from_page</th>\n",
       "      <th>product_type</th>\n",
       "      <th>group</th>\n",
       "    </tr>\n",
       "  </thead>\n",
       "  <tbody>\n",
       "    <tr>\n",
       "      <th>0</th>\n",
       "      <td>891345942.0</td>\n",
       "      <td>Italy</td>\n",
       "      <td>2017-05-11 13:00:00</td>\n",
       "      <td>2017-11-13 15:04:00</td>\n",
       "      <td>12909.0</td>\n",
       "      <td>147.0</td>\n",
       "      <td>trial_vip_popup</td>\n",
       "      <td>trial_premium</td>\n",
       "      <td>test</td>\n",
       "    </tr>\n",
       "    <tr>\n",
       "      <th>1</th>\n",
       "      <td>892054251.0</td>\n",
       "      <td>United States of America</td>\n",
       "      <td>2017-10-22 00:33:00</td>\n",
       "      <td>2017-10-30 01:37:00</td>\n",
       "      <td>13923.0</td>\n",
       "      <td>147.0</td>\n",
       "      <td>trial_vip_popup</td>\n",
       "      <td>trial_premium</td>\n",
       "      <td>test</td>\n",
       "    </tr>\n",
       "  </tbody>\n",
       "</table>\n",
       "</div>"
      ],
      "text/plain": [
       "           uid                   country           joined_at  \\\n",
       "0  891345942.0                     Italy 2017-05-11 13:00:00   \n",
       "1  892054251.0  United States of America 2017-10-22 00:33:00   \n",
       "\n",
       "              paid_at  revenue  payment_id        from_page   product_type  \\\n",
       "0 2017-11-13 15:04:00  12909.0       147.0  trial_vip_popup  trial_premium   \n",
       "1 2017-10-30 01:37:00  13923.0       147.0  trial_vip_popup  trial_premium   \n",
       "\n",
       "  group  \n",
       "0  test  \n",
       "1  test  "
      ]
     },
     "execution_count": 56,
     "metadata": {},
     "output_type": "execute_result"
    }
   ],
   "source": [
    "transactions_filtered_df = transactions_full_df.query('joined_at >= \"2017-01-11\"') \\\n",
    "                                    .merge(users_info_filtered_df.uid, how='inner',on='uid')\n",
    "transactions_filtered_df.head(2)"
   ]
  },
  {
   "cell_type": "code",
   "execution_count": 57,
   "metadata": {},
   "outputs": [
    {
     "data": {
      "text/plain": [
       "(966, 9)"
      ]
     },
     "execution_count": 57,
     "metadata": {},
     "output_type": "execute_result"
    }
   ],
   "source": [
    "transactions_filtered_df.shape"
   ]
  },
  {
   "cell_type": "code",
   "execution_count": 58,
   "metadata": {},
   "outputs": [
    {
     "data": {
      "text/plain": [
       "(978, 9)"
      ]
     },
     "execution_count": 58,
     "metadata": {},
     "output_type": "execute_result"
    }
   ],
   "source": [
    "transactions_full_df.shape"
   ]
  },
  {
   "cell_type": "code",
   "execution_count": 59,
   "metadata": {},
   "outputs": [
    {
     "name": "stdout",
     "output_type": "stream",
     "text": [
      "number of unique rows in test group:\n",
      " uid             145\n",
      "country          16\n",
      "joined_at       145\n",
      "paid_at         254\n",
      "revenue         123\n",
      "payment_id        6\n",
      "from_page        22\n",
      "product_type      4\n",
      "group             1\n",
      "dtype: int64 \n",
      "\n",
      " number of unique rows in control1 group:\n",
      " uid             192\n",
      "country          17\n",
      "joined_at       192\n",
      "paid_at         332\n",
      "revenue         124\n",
      "payment_id        7\n",
      "from_page        22\n",
      "product_type      4\n",
      "group             1\n",
      "dtype: int64 \n",
      "\n",
      " number of unique rows in control2 group:\n",
      " uid             185\n",
      "country          17\n",
      "joined_at       185\n",
      "paid_at         305\n",
      "revenue         121\n",
      "payment_id        6\n",
      "from_page        18\n",
      "product_type      4\n",
      "group             1\n",
      "dtype: int64\n"
     ]
    }
   ],
   "source": [
    "#посмотрим также на кол-во уникальных значений в каждой группе отдельно, сколько теперь\n",
    "print('number of unique rows in test group:\\n',\n",
    "      transactions_filtered_df.query('group == \"test\"').nunique(),\n",
    "      '\\n\\n number of unique rows in control1 group:\\n',\n",
    "      transactions_filtered_df.query('group == \"control1\"').nunique(),\n",
    "     '\\n\\n number of unique rows in control2 group:\\n',\n",
    "      transactions_filtered_df.query('group == \"control2\"').nunique())"
   ]
  },
  {
   "cell_type": "markdown",
   "metadata": {},
   "source": [
    "количество строк осталось примерно таким же (на 12 строк меньше)."
   ]
  },
  {
   "cell_type": "markdown",
   "metadata": {},
   "source": [
    "# 2. Дополнительная проверка данных и анализ структуры выручки"
   ]
  },
  {
   "cell_type": "markdown",
   "metadata": {},
   "source": [
    "В данном блоке нам нужно убедиться в том, что данные из файлов (по юзерам и транзакциям) соответствуют друг другу, и если нет - дополнительно обработать данные для дальнейшего анализа.\n",
    "Как только убедимся, что с данными всё в порядке, нам нужно будет проанализировать, сколько премиум-подписок в контрольных группах, сколько в тестовой, сколько выручки они принесли, как вообще формируется выручка, по какому типу продукта, из каких страниц переходят для оплаты в основном."
   ]
  },
  {
   "cell_type": "markdown",
   "metadata": {},
   "source": [
    "# 2.1 Проверка данных на соответствие друг другу и доп преобразование"
   ]
  },
  {
   "cell_type": "markdown",
   "metadata": {},
   "source": [
    "Для начала сравнив сумму выручки, которая указана для каждого юзера, из двух основных df"
   ]
  },
  {
   "cell_type": "code",
   "execution_count": 60,
   "metadata": {},
   "outputs": [
    {
     "data": {
      "text/plain": [
       "6841809.0"
      ]
     },
     "execution_count": 60,
     "metadata": {},
     "output_type": "execute_result"
    }
   ],
   "source": [
    "revenue_trans = transactions_filtered_df.groupby('uid',as_index=False).agg({'revenue':'sum'}).sort_values('uid')\n",
    "revenue_trans.revenue.sum()"
   ]
  },
  {
   "cell_type": "code",
   "execution_count": 61,
   "metadata": {},
   "outputs": [
    {
     "data": {
      "text/plain": [
       "6767488"
      ]
     },
     "execution_count": 61,
     "metadata": {},
     "output_type": "execute_result"
    }
   ],
   "source": [
    "revenue_users_info = users_info_filtered_df[['uid','total_revenue']].query('total_revenue>0').sort_values('uid')\n",
    "revenue_users_info.total_revenue.sum()"
   ]
  },
  {
   "cell_type": "markdown",
   "metadata": {},
   "source": [
    "мы видим, что сумма выручки по данным транзакций больше, чем из инфо о юзерах. попробуем найти таких юзеров и понять, почему выручка отличается"
   ]
  },
  {
   "cell_type": "code",
   "execution_count": 62,
   "metadata": {},
   "outputs": [
    {
     "data": {
      "text/html": [
       "<div>\n",
       "<style scoped>\n",
       "    .dataframe tbody tr th:only-of-type {\n",
       "        vertical-align: middle;\n",
       "    }\n",
       "\n",
       "    .dataframe tbody tr th {\n",
       "        vertical-align: top;\n",
       "    }\n",
       "\n",
       "    .dataframe thead th {\n",
       "        text-align: right;\n",
       "    }\n",
       "</style>\n",
       "<table border=\"1\" class=\"dataframe\">\n",
       "  <thead>\n",
       "    <tr style=\"text-align: right;\">\n",
       "      <th></th>\n",
       "      <th>uid</th>\n",
       "      <th>revenue</th>\n",
       "      <th>total_revenue</th>\n",
       "      <th>difference</th>\n",
       "    </tr>\n",
       "  </thead>\n",
       "  <tbody>\n",
       "    <tr>\n",
       "      <th>462</th>\n",
       "      <td>892275462.0</td>\n",
       "      <td>58968.0</td>\n",
       "      <td>14885.0</td>\n",
       "      <td>-44083.0</td>\n",
       "    </tr>\n",
       "    <tr>\n",
       "      <th>492</th>\n",
       "      <td>892355163.0</td>\n",
       "      <td>30264.0</td>\n",
       "      <td>0.0</td>\n",
       "      <td>-30264.0</td>\n",
       "    </tr>\n",
       "    <tr>\n",
       "      <th>522</th>\n",
       "      <td>960936960.0</td>\n",
       "      <td>0.0</td>\n",
       "      <td>26.0</td>\n",
       "      <td>26.0</td>\n",
       "    </tr>\n",
       "  </tbody>\n",
       "</table>\n",
       "</div>"
      ],
      "text/plain": [
       "             uid  revenue  total_revenue  difference\n",
       "462  892275462.0  58968.0        14885.0    -44083.0\n",
       "492  892355163.0  30264.0            0.0    -30264.0\n",
       "522  960936960.0      0.0           26.0        26.0"
      ]
     },
     "execution_count": 62,
     "metadata": {},
     "output_type": "execute_result"
    }
   ],
   "source": [
    "revenue_df = revenue_trans.merge(revenue_users_info, on='uid', how='outer').fillna(0)\n",
    "revenue_df['difference'] = revenue_df.total_revenue-revenue_df.revenue\n",
    "revenue_df.query('difference>0 | difference<0 ')"
   ]
  },
  {
   "cell_type": "markdown",
   "metadata": {},
   "source": [
    "выручка по трем юзерам отличается в данных о платежах и данных по пользователям, посмотрим на эти данные детальнее"
   ]
  },
  {
   "cell_type": "code",
   "execution_count": 63,
   "metadata": {},
   "outputs": [
    {
     "data": {
      "text/html": [
       "<div>\n",
       "<style scoped>\n",
       "    .dataframe tbody tr th:only-of-type {\n",
       "        vertical-align: middle;\n",
       "    }\n",
       "\n",
       "    .dataframe tbody tr th {\n",
       "        vertical-align: top;\n",
       "    }\n",
       "\n",
       "    .dataframe thead th {\n",
       "        text-align: right;\n",
       "    }\n",
       "</style>\n",
       "<table border=\"1\" class=\"dataframe\">\n",
       "  <thead>\n",
       "    <tr style=\"text-align: right;\">\n",
       "      <th></th>\n",
       "      <th>uid</th>\n",
       "      <th>country</th>\n",
       "      <th>joined_at</th>\n",
       "      <th>paid_at</th>\n",
       "      <th>revenue</th>\n",
       "      <th>payment_id</th>\n",
       "      <th>from_page</th>\n",
       "      <th>product_type</th>\n",
       "      <th>group</th>\n",
       "    </tr>\n",
       "  </thead>\n",
       "  <tbody>\n",
       "    <tr>\n",
       "      <th>64</th>\n",
       "      <td>892275462.0</td>\n",
       "      <td>France</td>\n",
       "      <td>2017-10-17 05:56:00</td>\n",
       "      <td>2017-02-11 18:24:00</td>\n",
       "      <td>44083.0</td>\n",
       "      <td>19.0</td>\n",
       "      <td>coins_popup</td>\n",
       "      <td>other_type</td>\n",
       "      <td>test</td>\n",
       "    </tr>\n",
       "    <tr>\n",
       "      <th>154</th>\n",
       "      <td>892275462.0</td>\n",
       "      <td>France</td>\n",
       "      <td>2017-10-17 05:56:00</td>\n",
       "      <td>2017-10-20 17:00:00</td>\n",
       "      <td>14885.0</td>\n",
       "      <td>68.0</td>\n",
       "      <td>super_popup</td>\n",
       "      <td>other_type</td>\n",
       "      <td>test</td>\n",
       "    </tr>\n",
       "  </tbody>\n",
       "</table>\n",
       "</div>"
      ],
      "text/plain": [
       "             uid country           joined_at             paid_at  revenue  \\\n",
       "64   892275462.0  France 2017-10-17 05:56:00 2017-02-11 18:24:00  44083.0   \n",
       "154  892275462.0  France 2017-10-17 05:56:00 2017-10-20 17:00:00  14885.0   \n",
       "\n",
       "     payment_id    from_page product_type group  \n",
       "64         19.0  coins_popup   other_type  test  \n",
       "154        68.0  super_popup   other_type  test  "
      ]
     },
     "execution_count": 63,
     "metadata": {},
     "output_type": "execute_result"
    }
   ],
   "source": [
    "#пользователь 892275462.0 - по нему нужно посмотреть, что записано и в файле о юзерах, и в файле о транзакциях\n",
    "# в транзакциях мы видим бОльшую сумму, начнем с этого файла (будем смотреть полные файлы)\n",
    "\n",
    "transactions_full_df.query('uid ==892275462')"
   ]
  },
  {
   "cell_type": "code",
   "execution_count": 64,
   "metadata": {},
   "outputs": [
    {
     "data": {
      "text/html": [
       "<div>\n",
       "<style scoped>\n",
       "    .dataframe tbody tr th:only-of-type {\n",
       "        vertical-align: middle;\n",
       "    }\n",
       "\n",
       "    .dataframe tbody tr th {\n",
       "        vertical-align: top;\n",
       "    }\n",
       "\n",
       "    .dataframe thead th {\n",
       "        text-align: right;\n",
       "    }\n",
       "</style>\n",
       "<table border=\"1\" class=\"dataframe\">\n",
       "  <thead>\n",
       "    <tr style=\"text-align: right;\">\n",
       "      <th></th>\n",
       "      <th>uid</th>\n",
       "      <th>country</th>\n",
       "      <th>joined_at</th>\n",
       "      <th>paid_at</th>\n",
       "      <th>revenue</th>\n",
       "      <th>payment_id</th>\n",
       "      <th>from_page</th>\n",
       "      <th>product_type</th>\n",
       "      <th>group</th>\n",
       "    </tr>\n",
       "  </thead>\n",
       "  <tbody>\n",
       "    <tr>\n",
       "      <th>132</th>\n",
       "      <td>892275462.0</td>\n",
       "      <td>France</td>\n",
       "      <td>2017-10-17 05:56:00</td>\n",
       "      <td>2017-02-11 18:24:00</td>\n",
       "      <td>44083.0</td>\n",
       "      <td>19.0</td>\n",
       "      <td>coins_popup</td>\n",
       "      <td>other_type</td>\n",
       "      <td>test</td>\n",
       "    </tr>\n",
       "    <tr>\n",
       "      <th>133</th>\n",
       "      <td>892275462.0</td>\n",
       "      <td>France</td>\n",
       "      <td>2017-10-17 05:56:00</td>\n",
       "      <td>2017-10-20 17:00:00</td>\n",
       "      <td>14885.0</td>\n",
       "      <td>68.0</td>\n",
       "      <td>super_popup</td>\n",
       "      <td>other_type</td>\n",
       "      <td>test</td>\n",
       "    </tr>\n",
       "  </tbody>\n",
       "</table>\n",
       "</div>"
      ],
      "text/plain": [
       "             uid country           joined_at             paid_at  revenue  \\\n",
       "132  892275462.0  France 2017-10-17 05:56:00 2017-02-11 18:24:00  44083.0   \n",
       "133  892275462.0  France 2017-10-17 05:56:00 2017-10-20 17:00:00  14885.0   \n",
       "\n",
       "     payment_id    from_page product_type group  \n",
       "132        19.0  coins_popup   other_type  test  \n",
       "133        68.0  super_popup   other_type  test  "
      ]
     },
     "execution_count": 64,
     "metadata": {},
     "output_type": "execute_result"
    }
   ],
   "source": [
    "transactions_filtered_df.query('uid ==892275462')"
   ]
  },
  {
   "cell_type": "code",
   "execution_count": 65,
   "metadata": {},
   "outputs": [
    {
     "data": {
      "text/html": [
       "<div>\n",
       "<style scoped>\n",
       "    .dataframe tbody tr th:only-of-type {\n",
       "        vertical-align: middle;\n",
       "    }\n",
       "\n",
       "    .dataframe tbody tr th {\n",
       "        vertical-align: top;\n",
       "    }\n",
       "\n",
       "    .dataframe thead th {\n",
       "        text-align: right;\n",
       "    }\n",
       "</style>\n",
       "<table border=\"1\" class=\"dataframe\">\n",
       "  <thead>\n",
       "    <tr style=\"text-align: right;\">\n",
       "      <th></th>\n",
       "      <th>uid</th>\n",
       "      <th>age</th>\n",
       "      <th>attraction_coeff</th>\n",
       "      <th>coins</th>\n",
       "      <th>country</th>\n",
       "      <th>visit_days</th>\n",
       "      <th>gender</th>\n",
       "      <th>age_filter_start</th>\n",
       "      <th>age_filter_end</th>\n",
       "      <th>views_count</th>\n",
       "      <th>was_premium</th>\n",
       "      <th>is_premium</th>\n",
       "      <th>total_revenue</th>\n",
       "      <th>group</th>\n",
       "    </tr>\n",
       "  </thead>\n",
       "  <tbody>\n",
       "    <tr>\n",
       "      <th>2070</th>\n",
       "      <td>892275462</td>\n",
       "      <td>31</td>\n",
       "      <td>310</td>\n",
       "      <td>NaN</td>\n",
       "      <td>France</td>\n",
       "      <td>1,2,3,4,5,9,13,15,16</td>\n",
       "      <td>1</td>\n",
       "      <td>36</td>\n",
       "      <td>68</td>\n",
       "      <td>58</td>\n",
       "      <td>1.0</td>\n",
       "      <td>1.0</td>\n",
       "      <td>14885</td>\n",
       "      <td>test</td>\n",
       "    </tr>\n",
       "  </tbody>\n",
       "</table>\n",
       "</div>"
      ],
      "text/plain": [
       "            uid  age  attraction_coeff  coins country            visit_days  \\\n",
       "2070  892275462   31               310    NaN  France  1,2,3,4,5,9,13,15,16   \n",
       "\n",
       "      gender  age_filter_start  age_filter_end  views_count  was_premium  \\\n",
       "2070       1                36              68           58          1.0   \n",
       "\n",
       "      is_premium  total_revenue group  \n",
       "2070         1.0          14885  test  "
      ]
     },
     "execution_count": 65,
     "metadata": {},
     "output_type": "execute_result"
    }
   ],
   "source": [
    "users_info_full_df.query('uid ==892275462')"
   ]
  },
  {
   "cell_type": "code",
   "execution_count": 66,
   "metadata": {},
   "outputs": [
    {
     "data": {
      "text/html": [
       "<div>\n",
       "<style scoped>\n",
       "    .dataframe tbody tr th:only-of-type {\n",
       "        vertical-align: middle;\n",
       "    }\n",
       "\n",
       "    .dataframe tbody tr th {\n",
       "        vertical-align: top;\n",
       "    }\n",
       "\n",
       "    .dataframe thead th {\n",
       "        text-align: right;\n",
       "    }\n",
       "</style>\n",
       "<table border=\"1\" class=\"dataframe\">\n",
       "  <thead>\n",
       "    <tr style=\"text-align: right;\">\n",
       "      <th></th>\n",
       "      <th>uid</th>\n",
       "      <th>age</th>\n",
       "      <th>attraction_coeff</th>\n",
       "      <th>coins</th>\n",
       "      <th>country</th>\n",
       "      <th>visit_days</th>\n",
       "      <th>gender</th>\n",
       "      <th>age_filter_start</th>\n",
       "      <th>age_filter_end</th>\n",
       "      <th>views_count</th>\n",
       "      <th>was_premium</th>\n",
       "      <th>is_premium</th>\n",
       "      <th>total_revenue</th>\n",
       "      <th>group</th>\n",
       "      <th>control1</th>\n",
       "      <th>control2</th>\n",
       "      <th>test</th>\n",
       "      <th>is_present</th>\n",
       "    </tr>\n",
       "  </thead>\n",
       "  <tbody>\n",
       "    <tr>\n",
       "      <th>5469</th>\n",
       "      <td>892275462</td>\n",
       "      <td>31</td>\n",
       "      <td>310</td>\n",
       "      <td>NaN</td>\n",
       "      <td>France</td>\n",
       "      <td>1,2,3,4,5,9,13,15,16</td>\n",
       "      <td>1</td>\n",
       "      <td>36</td>\n",
       "      <td>68</td>\n",
       "      <td>58</td>\n",
       "      <td>1.0</td>\n",
       "      <td>1.0</td>\n",
       "      <td>14885</td>\n",
       "      <td>test</td>\n",
       "      <td>370.0</td>\n",
       "      <td>376.0</td>\n",
       "      <td>359.0</td>\n",
       "      <td>yes</td>\n",
       "    </tr>\n",
       "  </tbody>\n",
       "</table>\n",
       "</div>"
      ],
      "text/plain": [
       "            uid  age  attraction_coeff  coins country            visit_days  \\\n",
       "5469  892275462   31               310    NaN  France  1,2,3,4,5,9,13,15,16   \n",
       "\n",
       "      gender  age_filter_start  age_filter_end  views_count  was_premium  \\\n",
       "5469       1                36              68           58          1.0   \n",
       "\n",
       "      is_premium  total_revenue group  control1  control2   test is_present  \n",
       "5469         1.0          14885  test     370.0     376.0  359.0        yes  "
      ]
     },
     "execution_count": 66,
     "metadata": {},
     "output_type": "execute_result"
    }
   ],
   "source": [
    "users_info_filtered_df.query('uid ==892275462')"
   ]
  },
  {
   "cell_type": "markdown",
   "metadata": {},
   "source": [
    "у данного пользователя был один платеж до регистрации, тк мы не знаем наверняка, возможно ли это чисто технически, будем считать, что это баг (т.к. и в данных о юзерах мы видим как раз ту сумму, которая по второму платежу), и либо дата регистрации указана неверно, либо это платеж другого юзера, поэтому эту запись мы удалим из нашего дф по транзакциям"
   ]
  },
  {
   "cell_type": "code",
   "execution_count": 67,
   "metadata": {},
   "outputs": [
    {
     "data": {
      "text/html": [
       "<div>\n",
       "<style scoped>\n",
       "    .dataframe tbody tr th:only-of-type {\n",
       "        vertical-align: middle;\n",
       "    }\n",
       "\n",
       "    .dataframe tbody tr th {\n",
       "        vertical-align: top;\n",
       "    }\n",
       "\n",
       "    .dataframe thead th {\n",
       "        text-align: right;\n",
       "    }\n",
       "</style>\n",
       "<table border=\"1\" class=\"dataframe\">\n",
       "  <thead>\n",
       "    <tr style=\"text-align: right;\">\n",
       "      <th></th>\n",
       "      <th>uid</th>\n",
       "      <th>country</th>\n",
       "      <th>joined_at</th>\n",
       "      <th>paid_at</th>\n",
       "      <th>revenue</th>\n",
       "      <th>payment_id</th>\n",
       "      <th>from_page</th>\n",
       "      <th>product_type</th>\n",
       "      <th>group</th>\n",
       "    </tr>\n",
       "  </thead>\n",
       "  <tbody>\n",
       "    <tr>\n",
       "      <th>303</th>\n",
       "      <td>892355163.0</td>\n",
       "      <td>United States of America</td>\n",
       "      <td>2017-10-15 18:45:00</td>\n",
       "      <td>2017-10-16 09:52:00</td>\n",
       "      <td>30264.0</td>\n",
       "      <td>68.0</td>\n",
       "      <td>super_popup</td>\n",
       "      <td>other_type</td>\n",
       "      <td>control1</td>\n",
       "    </tr>\n",
       "  </tbody>\n",
       "</table>\n",
       "</div>"
      ],
      "text/plain": [
       "             uid                   country           joined_at  \\\n",
       "303  892355163.0  United States of America 2017-10-15 18:45:00   \n",
       "\n",
       "                paid_at  revenue  payment_id    from_page product_type  \\\n",
       "303 2017-10-16 09:52:00  30264.0        68.0  super_popup   other_type   \n",
       "\n",
       "        group  \n",
       "303  control1  "
      ]
     },
     "execution_count": 67,
     "metadata": {},
     "output_type": "execute_result"
    }
   ],
   "source": [
    "#пользователь 892355163.0\n",
    "#в транзакциях есть оплата, а в файле о юзерах суммы выручки нет\n",
    "\n",
    "transactions_full_df.query('uid ==892355163')"
   ]
  },
  {
   "cell_type": "code",
   "execution_count": 68,
   "metadata": {},
   "outputs": [
    {
     "data": {
      "text/html": [
       "<div>\n",
       "<style scoped>\n",
       "    .dataframe tbody tr th:only-of-type {\n",
       "        vertical-align: middle;\n",
       "    }\n",
       "\n",
       "    .dataframe tbody tr th {\n",
       "        vertical-align: top;\n",
       "    }\n",
       "\n",
       "    .dataframe thead th {\n",
       "        text-align: right;\n",
       "    }\n",
       "</style>\n",
       "<table border=\"1\" class=\"dataframe\">\n",
       "  <thead>\n",
       "    <tr style=\"text-align: right;\">\n",
       "      <th></th>\n",
       "      <th>uid</th>\n",
       "      <th>country</th>\n",
       "      <th>joined_at</th>\n",
       "      <th>paid_at</th>\n",
       "      <th>revenue</th>\n",
       "      <th>payment_id</th>\n",
       "      <th>from_page</th>\n",
       "      <th>product_type</th>\n",
       "      <th>group</th>\n",
       "    </tr>\n",
       "  </thead>\n",
       "  <tbody>\n",
       "    <tr>\n",
       "      <th>609</th>\n",
       "      <td>892355163.0</td>\n",
       "      <td>United States of America</td>\n",
       "      <td>2017-10-15 18:45:00</td>\n",
       "      <td>2017-10-16 09:52:00</td>\n",
       "      <td>30264.0</td>\n",
       "      <td>68.0</td>\n",
       "      <td>super_popup</td>\n",
       "      <td>other_type</td>\n",
       "      <td>control1</td>\n",
       "    </tr>\n",
       "  </tbody>\n",
       "</table>\n",
       "</div>"
      ],
      "text/plain": [
       "             uid                   country           joined_at  \\\n",
       "609  892355163.0  United States of America 2017-10-15 18:45:00   \n",
       "\n",
       "                paid_at  revenue  payment_id    from_page product_type  \\\n",
       "609 2017-10-16 09:52:00  30264.0        68.0  super_popup   other_type   \n",
       "\n",
       "        group  \n",
       "609  control1  "
      ]
     },
     "execution_count": 68,
     "metadata": {},
     "output_type": "execute_result"
    }
   ],
   "source": [
    "transactions_filtered_df.query('uid ==892355163')"
   ]
  },
  {
   "cell_type": "code",
   "execution_count": 69,
   "metadata": {},
   "outputs": [
    {
     "data": {
      "text/html": [
       "<div>\n",
       "<style scoped>\n",
       "    .dataframe tbody tr th:only-of-type {\n",
       "        vertical-align: middle;\n",
       "    }\n",
       "\n",
       "    .dataframe tbody tr th {\n",
       "        vertical-align: top;\n",
       "    }\n",
       "\n",
       "    .dataframe thead th {\n",
       "        text-align: right;\n",
       "    }\n",
       "</style>\n",
       "<table border=\"1\" class=\"dataframe\">\n",
       "  <thead>\n",
       "    <tr style=\"text-align: right;\">\n",
       "      <th></th>\n",
       "      <th>uid</th>\n",
       "      <th>age</th>\n",
       "      <th>attraction_coeff</th>\n",
       "      <th>coins</th>\n",
       "      <th>country</th>\n",
       "      <th>visit_days</th>\n",
       "      <th>gender</th>\n",
       "      <th>age_filter_start</th>\n",
       "      <th>age_filter_end</th>\n",
       "      <th>views_count</th>\n",
       "      <th>was_premium</th>\n",
       "      <th>is_premium</th>\n",
       "      <th>total_revenue</th>\n",
       "      <th>group</th>\n",
       "    </tr>\n",
       "  </thead>\n",
       "  <tbody>\n",
       "    <tr>\n",
       "      <th>3370</th>\n",
       "      <td>892355163</td>\n",
       "      <td>40</td>\n",
       "      <td>640</td>\n",
       "      <td>NaN</td>\n",
       "      <td>United States of America</td>\n",
       "      <td>1,2,3,4,5,6,7,8,9,10,11,12,13,14,15,16,17,18,1...</td>\n",
       "      <td>1</td>\n",
       "      <td>25</td>\n",
       "      <td>60</td>\n",
       "      <td>700</td>\n",
       "      <td>1.0</td>\n",
       "      <td>NaN</td>\n",
       "      <td>0</td>\n",
       "      <td>control1</td>\n",
       "    </tr>\n",
       "  </tbody>\n",
       "</table>\n",
       "</div>"
      ],
      "text/plain": [
       "            uid  age  attraction_coeff  coins                   country  \\\n",
       "3370  892355163   40               640    NaN  United States of America   \n",
       "\n",
       "                                             visit_days  gender  \\\n",
       "3370  1,2,3,4,5,6,7,8,9,10,11,12,13,14,15,16,17,18,1...       1   \n",
       "\n",
       "      age_filter_start  age_filter_end  views_count  was_premium  is_premium  \\\n",
       "3370                25              60          700          1.0         NaN   \n",
       "\n",
       "      total_revenue     group  \n",
       "3370              0  control1  "
      ]
     },
     "execution_count": 69,
     "metadata": {},
     "output_type": "execute_result"
    }
   ],
   "source": [
    "users_info_full_df.query('uid ==892355163')"
   ]
  },
  {
   "cell_type": "code",
   "execution_count": 70,
   "metadata": {},
   "outputs": [
    {
     "data": {
      "text/html": [
       "<div>\n",
       "<style scoped>\n",
       "    .dataframe tbody tr th:only-of-type {\n",
       "        vertical-align: middle;\n",
       "    }\n",
       "\n",
       "    .dataframe tbody tr th {\n",
       "        vertical-align: top;\n",
       "    }\n",
       "\n",
       "    .dataframe thead th {\n",
       "        text-align: right;\n",
       "    }\n",
       "</style>\n",
       "<table border=\"1\" class=\"dataframe\">\n",
       "  <thead>\n",
       "    <tr style=\"text-align: right;\">\n",
       "      <th></th>\n",
       "      <th>uid</th>\n",
       "      <th>age</th>\n",
       "      <th>attraction_coeff</th>\n",
       "      <th>coins</th>\n",
       "      <th>country</th>\n",
       "      <th>visit_days</th>\n",
       "      <th>gender</th>\n",
       "      <th>age_filter_start</th>\n",
       "      <th>age_filter_end</th>\n",
       "      <th>views_count</th>\n",
       "      <th>was_premium</th>\n",
       "      <th>is_premium</th>\n",
       "      <th>total_revenue</th>\n",
       "      <th>group</th>\n",
       "      <th>control1</th>\n",
       "      <th>control2</th>\n",
       "      <th>test</th>\n",
       "      <th>is_present</th>\n",
       "    </tr>\n",
       "  </thead>\n",
       "  <tbody>\n",
       "    <tr>\n",
       "      <th>2582</th>\n",
       "      <td>892355163</td>\n",
       "      <td>40</td>\n",
       "      <td>640</td>\n",
       "      <td>NaN</td>\n",
       "      <td>United States of America</td>\n",
       "      <td>1,2,3,4,5,6,7,8,9,10,11,12,13,14,15,16,17,18,1...</td>\n",
       "      <td>1</td>\n",
       "      <td>25</td>\n",
       "      <td>60</td>\n",
       "      <td>700</td>\n",
       "      <td>1.0</td>\n",
       "      <td>NaN</td>\n",
       "      <td>0</td>\n",
       "      <td>control1</td>\n",
       "      <td>1471.0</td>\n",
       "      <td>1486.0</td>\n",
       "      <td>1450.0</td>\n",
       "      <td>yes</td>\n",
       "    </tr>\n",
       "  </tbody>\n",
       "</table>\n",
       "</div>"
      ],
      "text/plain": [
       "            uid  age  attraction_coeff  coins                   country  \\\n",
       "2582  892355163   40               640    NaN  United States of America   \n",
       "\n",
       "                                             visit_days  gender  \\\n",
       "2582  1,2,3,4,5,6,7,8,9,10,11,12,13,14,15,16,17,18,1...       1   \n",
       "\n",
       "      age_filter_start  age_filter_end  views_count  was_premium  is_premium  \\\n",
       "2582                25              60          700          1.0         NaN   \n",
       "\n",
       "      total_revenue     group  control1  control2    test is_present  \n",
       "2582              0  control1    1471.0    1486.0  1450.0        yes  "
      ]
     },
     "execution_count": 70,
     "metadata": {},
     "output_type": "execute_result"
    }
   ],
   "source": [
    "users_info_filtered_df.query('uid ==892355163')"
   ]
  },
  {
   "cell_type": "markdown",
   "metadata": {},
   "source": [
    "у данного юзера оплата была после регистрации и на второй день, то есть скорее всего в данном случае баг в файле с данными о юзерах, тк если бы это был пробный период (сумма ноль), то первая оплата была бы через месяц (т.к. чаще всего пробный период месяц). если бы у нас был полный доступ ко всем данным (в тч логам), мы бы могли в точности сказать ,это был пробный период или нет, была ли действительно оплата, записались ли верно даты, но тк у нас нет такой возможности, мы вручную исправим сумму выручки для этого пользователя в дф о юзерах для того, чтобы наши таблицы сосотвествовали друг другу."
   ]
  },
  {
   "cell_type": "code",
   "execution_count": 71,
   "metadata": {},
   "outputs": [
    {
     "data": {
      "text/html": [
       "<div>\n",
       "<style scoped>\n",
       "    .dataframe tbody tr th:only-of-type {\n",
       "        vertical-align: middle;\n",
       "    }\n",
       "\n",
       "    .dataframe tbody tr th {\n",
       "        vertical-align: top;\n",
       "    }\n",
       "\n",
       "    .dataframe thead th {\n",
       "        text-align: right;\n",
       "    }\n",
       "</style>\n",
       "<table border=\"1\" class=\"dataframe\">\n",
       "  <thead>\n",
       "    <tr style=\"text-align: right;\">\n",
       "      <th></th>\n",
       "      <th>uid</th>\n",
       "      <th>country</th>\n",
       "      <th>joined_at</th>\n",
       "      <th>paid_at</th>\n",
       "      <th>revenue</th>\n",
       "      <th>payment_id</th>\n",
       "      <th>from_page</th>\n",
       "      <th>product_type</th>\n",
       "      <th>group</th>\n",
       "    </tr>\n",
       "  </thead>\n",
       "  <tbody>\n",
       "    <tr>\n",
       "      <th>65</th>\n",
       "      <td>960936960.0</td>\n",
       "      <td>Russian Federation</td>\n",
       "      <td>2015-01-19 11:49:00</td>\n",
       "      <td>2016-12-14 17:30:00</td>\n",
       "      <td>26.0</td>\n",
       "      <td>0.0</td>\n",
       "      <td>refund_VP</td>\n",
       "      <td>other_type</td>\n",
       "      <td>control1</td>\n",
       "    </tr>\n",
       "    <tr>\n",
       "      <th>101</th>\n",
       "      <td>960936960.0</td>\n",
       "      <td>Russian Federation</td>\n",
       "      <td>2015-01-19 11:49:00</td>\n",
       "      <td>2016-12-14 17:35:00</td>\n",
       "      <td>637.0</td>\n",
       "      <td>0.0</td>\n",
       "      <td>refung_AP</td>\n",
       "      <td>other_type</td>\n",
       "      <td>control1</td>\n",
       "    </tr>\n",
       "    <tr>\n",
       "      <th>224</th>\n",
       "      <td>960936960.0</td>\n",
       "      <td>Russian Federation</td>\n",
       "      <td>2015-01-19 11:49:00</td>\n",
       "      <td>2016-12-14 16:16:00</td>\n",
       "      <td>143.0</td>\n",
       "      <td>0.0</td>\n",
       "      <td>refund_WP</td>\n",
       "      <td>other_type</td>\n",
       "      <td>control1</td>\n",
       "    </tr>\n",
       "  </tbody>\n",
       "</table>\n",
       "</div>"
      ],
      "text/plain": [
       "             uid             country           joined_at             paid_at  \\\n",
       "65   960936960.0  Russian Federation 2015-01-19 11:49:00 2016-12-14 17:30:00   \n",
       "101  960936960.0  Russian Federation 2015-01-19 11:49:00 2016-12-14 17:35:00   \n",
       "224  960936960.0  Russian Federation 2015-01-19 11:49:00 2016-12-14 16:16:00   \n",
       "\n",
       "     revenue  payment_id  from_page product_type     group  \n",
       "65      26.0         0.0  refund_VP   other_type  control1  \n",
       "101    637.0         0.0  refung_AP   other_type  control1  \n",
       "224    143.0         0.0  refund_WP   other_type  control1  "
      ]
     },
     "execution_count": 71,
     "metadata": {},
     "output_type": "execute_result"
    }
   ],
   "source": [
    "#пользователь 960936960.0 \n",
    "#в транзакциях нет оплаты,но в файле о юзерах суммы есть\n",
    "\n",
    "transactions_full_df.query('uid ==960936960')"
   ]
  },
  {
   "cell_type": "code",
   "execution_count": 72,
   "metadata": {},
   "outputs": [
    {
     "data": {
      "text/html": [
       "<div>\n",
       "<style scoped>\n",
       "    .dataframe tbody tr th:only-of-type {\n",
       "        vertical-align: middle;\n",
       "    }\n",
       "\n",
       "    .dataframe tbody tr th {\n",
       "        vertical-align: top;\n",
       "    }\n",
       "\n",
       "    .dataframe thead th {\n",
       "        text-align: right;\n",
       "    }\n",
       "</style>\n",
       "<table border=\"1\" class=\"dataframe\">\n",
       "  <thead>\n",
       "    <tr style=\"text-align: right;\">\n",
       "      <th></th>\n",
       "      <th>uid</th>\n",
       "      <th>country</th>\n",
       "      <th>joined_at</th>\n",
       "      <th>paid_at</th>\n",
       "      <th>revenue</th>\n",
       "      <th>payment_id</th>\n",
       "      <th>from_page</th>\n",
       "      <th>product_type</th>\n",
       "      <th>group</th>\n",
       "    </tr>\n",
       "  </thead>\n",
       "  <tbody>\n",
       "  </tbody>\n",
       "</table>\n",
       "</div>"
      ],
      "text/plain": [
       "Empty DataFrame\n",
       "Columns: [uid, country, joined_at, paid_at, revenue, payment_id, from_page, product_type, group]\n",
       "Index: []"
      ]
     },
     "execution_count": 72,
     "metadata": {},
     "output_type": "execute_result"
    }
   ],
   "source": [
    "transactions_filtered_df.query('uid ==960936960')"
   ]
  },
  {
   "cell_type": "code",
   "execution_count": 73,
   "metadata": {},
   "outputs": [
    {
     "data": {
      "text/html": [
       "<div>\n",
       "<style scoped>\n",
       "    .dataframe tbody tr th:only-of-type {\n",
       "        vertical-align: middle;\n",
       "    }\n",
       "\n",
       "    .dataframe tbody tr th {\n",
       "        vertical-align: top;\n",
       "    }\n",
       "\n",
       "    .dataframe thead th {\n",
       "        text-align: right;\n",
       "    }\n",
       "</style>\n",
       "<table border=\"1\" class=\"dataframe\">\n",
       "  <thead>\n",
       "    <tr style=\"text-align: right;\">\n",
       "      <th></th>\n",
       "      <th>uid</th>\n",
       "      <th>age</th>\n",
       "      <th>attraction_coeff</th>\n",
       "      <th>coins</th>\n",
       "      <th>country</th>\n",
       "      <th>visit_days</th>\n",
       "      <th>gender</th>\n",
       "      <th>age_filter_start</th>\n",
       "      <th>age_filter_end</th>\n",
       "      <th>views_count</th>\n",
       "      <th>was_premium</th>\n",
       "      <th>is_premium</th>\n",
       "      <th>total_revenue</th>\n",
       "      <th>group</th>\n",
       "    </tr>\n",
       "  </thead>\n",
       "  <tbody>\n",
       "    <tr>\n",
       "      <th>510</th>\n",
       "      <td>960936960</td>\n",
       "      <td>30</td>\n",
       "      <td>4</td>\n",
       "      <td>99958.0</td>\n",
       "      <td>Russian Federation</td>\n",
       "      <td>1,2,3,4,7,8,9,10,11,14,15,16,17,18,21,22,23,24...</td>\n",
       "      <td>1</td>\n",
       "      <td>26</td>\n",
       "      <td>62</td>\n",
       "      <td>4262</td>\n",
       "      <td>1.0</td>\n",
       "      <td>1.0</td>\n",
       "      <td>26</td>\n",
       "      <td>control1</td>\n",
       "    </tr>\n",
       "  </tbody>\n",
       "</table>\n",
       "</div>"
      ],
      "text/plain": [
       "           uid  age  attraction_coeff    coins             country  \\\n",
       "510  960936960   30                 4  99958.0  Russian Federation   \n",
       "\n",
       "                                            visit_days  gender  \\\n",
       "510  1,2,3,4,7,8,9,10,11,14,15,16,17,18,21,22,23,24...       1   \n",
       "\n",
       "     age_filter_start  age_filter_end  views_count  was_premium  is_premium  \\\n",
       "510                26              62         4262          1.0         1.0   \n",
       "\n",
       "     total_revenue     group  \n",
       "510             26  control1  "
      ]
     },
     "execution_count": 73,
     "metadata": {},
     "output_type": "execute_result"
    }
   ],
   "source": [
    "users_info_full_df.query('uid ==960936960')"
   ]
  },
  {
   "cell_type": "code",
   "execution_count": 74,
   "metadata": {},
   "outputs": [
    {
     "data": {
      "text/html": [
       "<div>\n",
       "<style scoped>\n",
       "    .dataframe tbody tr th:only-of-type {\n",
       "        vertical-align: middle;\n",
       "    }\n",
       "\n",
       "    .dataframe tbody tr th {\n",
       "        vertical-align: top;\n",
       "    }\n",
       "\n",
       "    .dataframe thead th {\n",
       "        text-align: right;\n",
       "    }\n",
       "</style>\n",
       "<table border=\"1\" class=\"dataframe\">\n",
       "  <thead>\n",
       "    <tr style=\"text-align: right;\">\n",
       "      <th></th>\n",
       "      <th>uid</th>\n",
       "      <th>age</th>\n",
       "      <th>attraction_coeff</th>\n",
       "      <th>coins</th>\n",
       "      <th>country</th>\n",
       "      <th>visit_days</th>\n",
       "      <th>gender</th>\n",
       "      <th>age_filter_start</th>\n",
       "      <th>age_filter_end</th>\n",
       "      <th>views_count</th>\n",
       "      <th>was_premium</th>\n",
       "      <th>is_premium</th>\n",
       "      <th>total_revenue</th>\n",
       "      <th>group</th>\n",
       "      <th>control1</th>\n",
       "      <th>control2</th>\n",
       "      <th>test</th>\n",
       "      <th>is_present</th>\n",
       "    </tr>\n",
       "  </thead>\n",
       "  <tbody>\n",
       "    <tr>\n",
       "      <th>12803</th>\n",
       "      <td>960936960</td>\n",
       "      <td>30</td>\n",
       "      <td>4</td>\n",
       "      <td>99958.0</td>\n",
       "      <td>Russian Federation</td>\n",
       "      <td>1,2,3,4,7,8,9,10,11,14,15,16,17,18,21,22,23,24...</td>\n",
       "      <td>1</td>\n",
       "      <td>26</td>\n",
       "      <td>62</td>\n",
       "      <td>4262</td>\n",
       "      <td>1.0</td>\n",
       "      <td>1.0</td>\n",
       "      <td>26</td>\n",
       "      <td>control1</td>\n",
       "      <td>6.0</td>\n",
       "      <td>8.0</td>\n",
       "      <td>7.0</td>\n",
       "      <td>yes</td>\n",
       "    </tr>\n",
       "  </tbody>\n",
       "</table>\n",
       "</div>"
      ],
      "text/plain": [
       "             uid  age  attraction_coeff    coins             country  \\\n",
       "12803  960936960   30                 4  99958.0  Russian Federation   \n",
       "\n",
       "                                              visit_days  gender  \\\n",
       "12803  1,2,3,4,7,8,9,10,11,14,15,16,17,18,21,22,23,24...       1   \n",
       "\n",
       "       age_filter_start  age_filter_end  views_count  was_premium  is_premium  \\\n",
       "12803                26              62         4262          1.0         1.0   \n",
       "\n",
       "       total_revenue     group  control1  control2  test is_present  \n",
       "12803             26  control1       6.0       8.0   7.0        yes  "
      ]
     },
     "execution_count": 74,
     "metadata": {},
     "output_type": "execute_result"
    }
   ],
   "source": [
    "users_info_filtered_df.query('uid ==960936960')"
   ]
  },
  {
   "cell_type": "markdown",
   "metadata": {},
   "source": [
    "это юзер, у которого дата регистрации до начала теста. для чистоты эскперимента, уберем этого юзера и из датафрейма по юзерам"
   ]
  },
  {
   "cell_type": "markdown",
   "metadata": {},
   "source": [
    "итак нам нужно:\n",
    "    для 892275462 юзера удалить запись об оплате до даты регистрации (payment_id=19)\n",
    "    для 892355163 юзера исправить сумму выручки в файле с юзерами (заменить 0 на 30264)\n",
    "    для 960936960 юзера удалить запись из дф по юзерам"
   ]
  },
  {
   "cell_type": "code",
   "execution_count": 75,
   "metadata": {},
   "outputs": [
    {
     "data": {
      "text/plain": [
       "(965, 9)"
      ]
     },
     "execution_count": 75,
     "metadata": {},
     "output_type": "execute_result"
    }
   ],
   "source": [
    "#сделаем финальный датафрейм по транзакциям, удалив одну запись по её индексу\n",
    "final_transaction_df = \\\n",
    "    transactions_filtered_df.drop(transactions_filtered_df.loc[transactions_filtered_df['uid'] == 892275462] \\\n",
    " .loc[transactions_filtered_df['payment_id'] == 19.0].index)\n",
    "final_transaction_df.shape"
   ]
  },
  {
   "cell_type": "code",
   "execution_count": 76,
   "metadata": {},
   "outputs": [
    {
     "data": {
      "text/plain": [
       "(966, 9)"
      ]
     },
     "execution_count": 76,
     "metadata": {},
     "output_type": "execute_result"
    }
   ],
   "source": [
    "transactions_filtered_df.shape"
   ]
  },
  {
   "cell_type": "code",
   "execution_count": 77,
   "metadata": {},
   "outputs": [
    {
     "data": {
      "text/html": [
       "<div>\n",
       "<style scoped>\n",
       "    .dataframe tbody tr th:only-of-type {\n",
       "        vertical-align: middle;\n",
       "    }\n",
       "\n",
       "    .dataframe tbody tr th {\n",
       "        vertical-align: top;\n",
       "    }\n",
       "\n",
       "    .dataframe thead th {\n",
       "        text-align: right;\n",
       "    }\n",
       "</style>\n",
       "<table border=\"1\" class=\"dataframe\">\n",
       "  <thead>\n",
       "    <tr style=\"text-align: right;\">\n",
       "      <th></th>\n",
       "      <th>uid</th>\n",
       "      <th>country</th>\n",
       "      <th>joined_at</th>\n",
       "      <th>paid_at</th>\n",
       "      <th>revenue</th>\n",
       "      <th>payment_id</th>\n",
       "      <th>from_page</th>\n",
       "      <th>product_type</th>\n",
       "      <th>group</th>\n",
       "    </tr>\n",
       "  </thead>\n",
       "  <tbody>\n",
       "    <tr>\n",
       "      <th>133</th>\n",
       "      <td>892275462.0</td>\n",
       "      <td>France</td>\n",
       "      <td>2017-10-17 05:56:00</td>\n",
       "      <td>2017-10-20 17:00:00</td>\n",
       "      <td>14885.0</td>\n",
       "      <td>68.0</td>\n",
       "      <td>super_popup</td>\n",
       "      <td>other_type</td>\n",
       "      <td>test</td>\n",
       "    </tr>\n",
       "  </tbody>\n",
       "</table>\n",
       "</div>"
      ],
      "text/plain": [
       "             uid country           joined_at             paid_at  revenue  \\\n",
       "133  892275462.0  France 2017-10-17 05:56:00 2017-10-20 17:00:00  14885.0   \n",
       "\n",
       "     payment_id    from_page product_type group  \n",
       "133        68.0  super_popup   other_type  test  "
      ]
     },
     "execution_count": 77,
     "metadata": {},
     "output_type": "execute_result"
    }
   ],
   "source": [
    "final_transaction_df.query('uid ==892275462')"
   ]
  },
  {
   "cell_type": "markdown",
   "metadata": {},
   "source": [
    "да, действительно, теперь только одна запись по данному юзеру"
   ]
  },
  {
   "cell_type": "code",
   "execution_count": 78,
   "metadata": {},
   "outputs": [
    {
     "data": {
      "text/plain": [
       "(12868, 18)"
      ]
     },
     "execution_count": 78,
     "metadata": {},
     "output_type": "execute_result"
    }
   ],
   "source": [
    "#теперь сделаем финальный датафрейм по юзерам, исправив сумму выручки по одному юзеру, и удалив одного другого\n",
    "\n",
    "final_users_df = \\\n",
    "users_info_filtered_df.drop(users_info_filtered_df.loc[users_info_filtered_df['uid'] == 960936960].index)\n",
    "final_users_df.shape"
   ]
  },
  {
   "cell_type": "code",
   "execution_count": 79,
   "metadata": {},
   "outputs": [
    {
     "data": {
      "text/plain": [
       "(12869, 18)"
      ]
     },
     "execution_count": 79,
     "metadata": {},
     "output_type": "execute_result"
    }
   ],
   "source": [
    "users_info_filtered_df.shape"
   ]
  },
  {
   "cell_type": "code",
   "execution_count": 80,
   "metadata": {},
   "outputs": [
    {
     "data": {
      "text/html": [
       "<div>\n",
       "<style scoped>\n",
       "    .dataframe tbody tr th:only-of-type {\n",
       "        vertical-align: middle;\n",
       "    }\n",
       "\n",
       "    .dataframe tbody tr th {\n",
       "        vertical-align: top;\n",
       "    }\n",
       "\n",
       "    .dataframe thead th {\n",
       "        text-align: right;\n",
       "    }\n",
       "</style>\n",
       "<table border=\"1\" class=\"dataframe\">\n",
       "  <thead>\n",
       "    <tr style=\"text-align: right;\">\n",
       "      <th></th>\n",
       "      <th>uid</th>\n",
       "      <th>age</th>\n",
       "      <th>attraction_coeff</th>\n",
       "      <th>coins</th>\n",
       "      <th>country</th>\n",
       "      <th>visit_days</th>\n",
       "      <th>gender</th>\n",
       "      <th>age_filter_start</th>\n",
       "      <th>age_filter_end</th>\n",
       "      <th>views_count</th>\n",
       "      <th>was_premium</th>\n",
       "      <th>is_premium</th>\n",
       "      <th>total_revenue</th>\n",
       "      <th>group</th>\n",
       "      <th>control1</th>\n",
       "      <th>control2</th>\n",
       "      <th>test</th>\n",
       "      <th>is_present</th>\n",
       "    </tr>\n",
       "  </thead>\n",
       "  <tbody>\n",
       "    <tr>\n",
       "      <th>2582</th>\n",
       "      <td>892355163</td>\n",
       "      <td>40</td>\n",
       "      <td>640</td>\n",
       "      <td>NaN</td>\n",
       "      <td>United States of America</td>\n",
       "      <td>1,2,3,4,5,6,7,8,9,10,11,12,13,14,15,16,17,18,1...</td>\n",
       "      <td>1</td>\n",
       "      <td>25</td>\n",
       "      <td>60</td>\n",
       "      <td>700</td>\n",
       "      <td>1.0</td>\n",
       "      <td>NaN</td>\n",
       "      <td>0</td>\n",
       "      <td>control1</td>\n",
       "      <td>1471.0</td>\n",
       "      <td>1486.0</td>\n",
       "      <td>1450.0</td>\n",
       "      <td>yes</td>\n",
       "    </tr>\n",
       "  </tbody>\n",
       "</table>\n",
       "</div>"
      ],
      "text/plain": [
       "            uid  age  attraction_coeff  coins                   country  \\\n",
       "2582  892355163   40               640    NaN  United States of America   \n",
       "\n",
       "                                             visit_days  gender  \\\n",
       "2582  1,2,3,4,5,6,7,8,9,10,11,12,13,14,15,16,17,18,1...       1   \n",
       "\n",
       "      age_filter_start  age_filter_end  views_count  was_premium  is_premium  \\\n",
       "2582                25              60          700          1.0         NaN   \n",
       "\n",
       "      total_revenue     group  control1  control2    test is_present  \n",
       "2582              0  control1    1471.0    1486.0  1450.0        yes  "
      ]
     },
     "execution_count": 80,
     "metadata": {},
     "output_type": "execute_result"
    }
   ],
   "source": [
    "final_users_df.loc[final_users_df['uid'] ==892355163]"
   ]
  },
  {
   "cell_type": "code",
   "execution_count": 81,
   "metadata": {},
   "outputs": [],
   "source": [
    "final_users_df.loc[2582,'total_revenue']=30264"
   ]
  },
  {
   "cell_type": "code",
   "execution_count": 82,
   "metadata": {},
   "outputs": [
    {
     "data": {
      "text/html": [
       "<div>\n",
       "<style scoped>\n",
       "    .dataframe tbody tr th:only-of-type {\n",
       "        vertical-align: middle;\n",
       "    }\n",
       "\n",
       "    .dataframe tbody tr th {\n",
       "        vertical-align: top;\n",
       "    }\n",
       "\n",
       "    .dataframe thead th {\n",
       "        text-align: right;\n",
       "    }\n",
       "</style>\n",
       "<table border=\"1\" class=\"dataframe\">\n",
       "  <thead>\n",
       "    <tr style=\"text-align: right;\">\n",
       "      <th></th>\n",
       "      <th>uid</th>\n",
       "      <th>age</th>\n",
       "      <th>attraction_coeff</th>\n",
       "      <th>coins</th>\n",
       "      <th>country</th>\n",
       "      <th>visit_days</th>\n",
       "      <th>gender</th>\n",
       "      <th>age_filter_start</th>\n",
       "      <th>age_filter_end</th>\n",
       "      <th>views_count</th>\n",
       "      <th>was_premium</th>\n",
       "      <th>is_premium</th>\n",
       "      <th>total_revenue</th>\n",
       "      <th>group</th>\n",
       "      <th>control1</th>\n",
       "      <th>control2</th>\n",
       "      <th>test</th>\n",
       "      <th>is_present</th>\n",
       "    </tr>\n",
       "  </thead>\n",
       "  <tbody>\n",
       "    <tr>\n",
       "      <th>2582</th>\n",
       "      <td>892355163</td>\n",
       "      <td>40</td>\n",
       "      <td>640</td>\n",
       "      <td>NaN</td>\n",
       "      <td>United States of America</td>\n",
       "      <td>1,2,3,4,5,6,7,8,9,10,11,12,13,14,15,16,17,18,1...</td>\n",
       "      <td>1</td>\n",
       "      <td>25</td>\n",
       "      <td>60</td>\n",
       "      <td>700</td>\n",
       "      <td>1.0</td>\n",
       "      <td>NaN</td>\n",
       "      <td>30264</td>\n",
       "      <td>control1</td>\n",
       "      <td>1471.0</td>\n",
       "      <td>1486.0</td>\n",
       "      <td>1450.0</td>\n",
       "      <td>yes</td>\n",
       "    </tr>\n",
       "  </tbody>\n",
       "</table>\n",
       "</div>"
      ],
      "text/plain": [
       "            uid  age  attraction_coeff  coins                   country  \\\n",
       "2582  892355163   40               640    NaN  United States of America   \n",
       "\n",
       "                                             visit_days  gender  \\\n",
       "2582  1,2,3,4,5,6,7,8,9,10,11,12,13,14,15,16,17,18,1...       1   \n",
       "\n",
       "      age_filter_start  age_filter_end  views_count  was_premium  is_premium  \\\n",
       "2582                25              60          700          1.0         NaN   \n",
       "\n",
       "      total_revenue     group  control1  control2    test is_present  \n",
       "2582          30264  control1    1471.0    1486.0  1450.0        yes  "
      ]
     },
     "execution_count": 82,
     "metadata": {},
     "output_type": "execute_result"
    }
   ],
   "source": [
    "final_users_df.loc[final_users_df['uid'] ==892355163]"
   ]
  },
  {
   "cell_type": "markdown",
   "metadata": {},
   "source": [
    "сумму изменили, лишние строки удалили, теперь убедимся, что выручка у нас одинаковая в файле о транзакциях, и в файле о юзерах"
   ]
  },
  {
   "cell_type": "code",
   "execution_count": 83,
   "metadata": {},
   "outputs": [
    {
     "data": {
      "text/plain": [
       "0.0"
      ]
     },
     "execution_count": 83,
     "metadata": {},
     "output_type": "execute_result"
    }
   ],
   "source": [
    "final_users_df.total_revenue.sum()-final_transaction_df.revenue.sum()"
   ]
  },
  {
   "cell_type": "markdown",
   "metadata": {},
   "source": [
    "теперь расхождений нет и далее мы можем перейти к анализу структуры выручки"
   ]
  },
  {
   "cell_type": "markdown",
   "metadata": {},
   "source": [
    "# 2.2 Анализ структуры выручки"
   ]
  },
  {
   "cell_type": "markdown",
   "metadata": {},
   "source": [
    "для начала посмотрим на распредление пользователей по наличию премиум-подписки, сумме выручки внутри групп "
   ]
  },
  {
   "cell_type": "markdown",
   "metadata": {},
   "source": [
    "was_premium – был ли когда-либо премиум (либо пробный период премиум-статуса, либо купленный за деньги)"
   ]
  },
  {
   "cell_type": "code",
   "execution_count": 84,
   "metadata": {},
   "outputs": [
    {
     "data": {
      "text/plain": [
       "array([nan,  1.])"
      ]
     },
     "execution_count": 84,
     "metadata": {},
     "output_type": "execute_result"
    }
   ],
   "source": [
    "#проверим какие значения есть в колонке was_premium\n",
    "final_users_df.was_premium.unique()"
   ]
  },
  {
   "cell_type": "code",
   "execution_count": 85,
   "metadata": {},
   "outputs": [],
   "source": [
    "#и заменим пустоту на 0,\n",
    "\n",
    "final_users_df['was_premium'] = final_users_df['was_premium'].fillna(0)"
   ]
  },
  {
   "cell_type": "code",
   "execution_count": 86,
   "metadata": {},
   "outputs": [
    {
     "data": {
      "text/html": [
       "<div>\n",
       "<style scoped>\n",
       "    .dataframe tbody tr th:only-of-type {\n",
       "        vertical-align: middle;\n",
       "    }\n",
       "\n",
       "    .dataframe tbody tr th {\n",
       "        vertical-align: top;\n",
       "    }\n",
       "\n",
       "    .dataframe thead th {\n",
       "        text-align: right;\n",
       "    }\n",
       "</style>\n",
       "<table border=\"1\" class=\"dataframe\">\n",
       "  <thead>\n",
       "    <tr style=\"text-align: right;\">\n",
       "      <th></th>\n",
       "      <th>group</th>\n",
       "      <th>was_premium</th>\n",
       "      <th>total_revenue</th>\n",
       "      <th>uid</th>\n",
       "    </tr>\n",
       "  </thead>\n",
       "  <tbody>\n",
       "    <tr>\n",
       "      <th>0</th>\n",
       "      <td>control1</td>\n",
       "      <td>0.0</td>\n",
       "      <td>127634</td>\n",
       "      <td>3894</td>\n",
       "    </tr>\n",
       "    <tr>\n",
       "      <th>1</th>\n",
       "      <td>control1</td>\n",
       "      <td>1.0</td>\n",
       "      <td>2483871</td>\n",
       "      <td>435</td>\n",
       "    </tr>\n",
       "    <tr>\n",
       "      <th>2</th>\n",
       "      <td>control2</td>\n",
       "      <td>0.0</td>\n",
       "      <td>39936</td>\n",
       "      <td>3840</td>\n",
       "    </tr>\n",
       "    <tr>\n",
       "      <th>3</th>\n",
       "      <td>control2</td>\n",
       "      <td>1.0</td>\n",
       "      <td>1855568</td>\n",
       "      <td>409</td>\n",
       "    </tr>\n",
       "    <tr>\n",
       "      <th>4</th>\n",
       "      <td>test</td>\n",
       "      <td>0.0</td>\n",
       "      <td>12363</td>\n",
       "      <td>3883</td>\n",
       "    </tr>\n",
       "    <tr>\n",
       "      <th>5</th>\n",
       "      <td>test</td>\n",
       "      <td>1.0</td>\n",
       "      <td>2278354</td>\n",
       "      <td>407</td>\n",
       "    </tr>\n",
       "  </tbody>\n",
       "</table>\n",
       "</div>"
      ],
      "text/plain": [
       "      group  was_premium  total_revenue   uid\n",
       "0  control1          0.0         127634  3894\n",
       "1  control1          1.0        2483871   435\n",
       "2  control2          0.0          39936  3840\n",
       "3  control2          1.0        1855568   409\n",
       "4      test          0.0          12363  3883\n",
       "5      test          1.0        2278354   407"
      ]
     },
     "execution_count": 86,
     "metadata": {},
     "output_type": "execute_result"
    }
   ],
   "source": [
    "final_users_df.groupby(['group', 'was_premium'], as_index=False).agg({'total_revenue':'sum','uid':'count'})"
   ]
  },
  {
   "cell_type": "markdown",
   "metadata": {},
   "source": [
    "мы видим, что распределение выручки по наличию и отстуствию премиум-подписки одинаковое в группах, но и также видим, что выручка есть и по пользователям, у которых никогда не было премиум-подписки, но бОльшая доля приходится как раз на премиум-подписки."
   ]
  },
  {
   "cell_type": "code",
   "execution_count": 87,
   "metadata": {},
   "outputs": [
    {
     "data": {
      "image/png": "[encoded data removed]",
      "text/plain": [
       "<Figure size 1440x360 with 1 Axes>"
      ]
     },
     "metadata": {
      "needs_background": "light"
     },
     "output_type": "display_data"
    }
   ],
   "source": [
    "#посмотрим на графике этот момент\n",
    "plt.figure(figsize = (20,5))\n",
    "sns.barplot(data = \\\n",
    "    final_users_df.groupby(['group', 'was_premium'], as_index=False).agg({'total_revenue':'sum','uid':'count'}), \n",
    "    x=\"group\", y=\"total_revenue\", hue='was_premium') \n",
    "plt.xticks(rotation=70)\n",
    "plt.show()"
   ]
  },
  {
   "cell_type": "markdown",
   "metadata": {},
   "source": [
    "мы видим, что соотношение выручки между теми, у кого есть премиум подписка, и теми, у кого её нет, выше в тестовой группе"
   ]
  },
  {
   "cell_type": "code",
   "execution_count": 88,
   "metadata": {},
   "outputs": [
    {
     "data": {
      "image/png": "[encoded data removed]",
      "text/plain": [
       "<Figure size 1440x360 with 1 Axes>"
      ]
     },
     "metadata": {
      "needs_background": "light"
     },
     "output_type": "display_data"
    }
   ],
   "source": [
    "#также посмотрим сколько пользователей с подписками и без в группах\n",
    "plt.figure(figsize = (20,5))\n",
    "sns.barplot(data = final_users_df.groupby(['group', 'was_premium'], as_index=False).size(), \n",
    "            x=\"was_premium\", y=\"size\", hue='group') \n",
    "plt.xticks(rotation=70)\n",
    "plt.show()"
   ]
  },
  {
   "cell_type": "markdown",
   "metadata": {},
   "source": [
    "соотношение примерно одинаковое во всех группах"
   ]
  },
  {
   "cell_type": "markdown",
   "metadata": {},
   "source": [
    "теперь посмотрим распределение выручки по \n",
    "product_type – тип продукта (trial_premium – пробная премиум-подписка, premium_no_trial – премиум-подписка без пробной, coins – подписка за внутреннюю валюту, other_type – другое)"
   ]
  },
  {
   "cell_type": "code",
   "execution_count": 89,
   "metadata": {},
   "outputs": [
    {
     "data": {
      "text/plain": [
       "array(['trial_premium', 'other_type', 'coins', 'premium_no_trial'],\n",
       "      dtype=object)"
      ]
     },
     "execution_count": 89,
     "metadata": {},
     "output_type": "execute_result"
    }
   ],
   "source": [
    "final_transaction_df.product_type.unique()"
   ]
  },
  {
   "cell_type": "code",
   "execution_count": 90,
   "metadata": {},
   "outputs": [
    {
     "data": {
      "text/html": [
       "<div>\n",
       "<style scoped>\n",
       "    .dataframe tbody tr th:only-of-type {\n",
       "        vertical-align: middle;\n",
       "    }\n",
       "\n",
       "    .dataframe tbody tr th {\n",
       "        vertical-align: top;\n",
       "    }\n",
       "\n",
       "    .dataframe thead th {\n",
       "        text-align: right;\n",
       "    }\n",
       "</style>\n",
       "<table border=\"1\" class=\"dataframe\">\n",
       "  <thead>\n",
       "    <tr style=\"text-align: right;\">\n",
       "      <th></th>\n",
       "      <th>group</th>\n",
       "      <th>product_type</th>\n",
       "      <th>revenue</th>\n",
       "      <th>uid</th>\n",
       "    </tr>\n",
       "  </thead>\n",
       "  <tbody>\n",
       "    <tr>\n",
       "      <th>0</th>\n",
       "      <td>control1</td>\n",
       "      <td>coins</td>\n",
       "      <td>871910.0</td>\n",
       "      <td>65.0</td>\n",
       "    </tr>\n",
       "    <tr>\n",
       "      <th>1</th>\n",
       "      <td>control1</td>\n",
       "      <td>other_type</td>\n",
       "      <td>187616.0</td>\n",
       "      <td>29.0</td>\n",
       "    </tr>\n",
       "    <tr>\n",
       "      <th>2</th>\n",
       "      <td>control1</td>\n",
       "      <td>premium_no_trial</td>\n",
       "      <td>779259.0</td>\n",
       "      <td>99.0</td>\n",
       "    </tr>\n",
       "    <tr>\n",
       "      <th>3</th>\n",
       "      <td>control1</td>\n",
       "      <td>trial_premium</td>\n",
       "      <td>772720.0</td>\n",
       "      <td>67.0</td>\n",
       "    </tr>\n",
       "    <tr>\n",
       "      <th>4</th>\n",
       "      <td>control2</td>\n",
       "      <td>coins</td>\n",
       "      <td>394797.0</td>\n",
       "      <td>68.0</td>\n",
       "    </tr>\n",
       "    <tr>\n",
       "      <th>5</th>\n",
       "      <td>control2</td>\n",
       "      <td>other_type</td>\n",
       "      <td>128739.0</td>\n",
       "      <td>33.0</td>\n",
       "    </tr>\n",
       "    <tr>\n",
       "      <th>6</th>\n",
       "      <td>control2</td>\n",
       "      <td>premium_no_trial</td>\n",
       "      <td>740753.0</td>\n",
       "      <td>101.0</td>\n",
       "    </tr>\n",
       "    <tr>\n",
       "      <th>7</th>\n",
       "      <td>control2</td>\n",
       "      <td>trial_premium</td>\n",
       "      <td>631215.0</td>\n",
       "      <td>52.0</td>\n",
       "    </tr>\n",
       "    <tr>\n",
       "      <th>8</th>\n",
       "      <td>test</td>\n",
       "      <td>coins</td>\n",
       "      <td>562432.0</td>\n",
       "      <td>51.0</td>\n",
       "    </tr>\n",
       "    <tr>\n",
       "      <th>9</th>\n",
       "      <td>test</td>\n",
       "      <td>other_type</td>\n",
       "      <td>123734.0</td>\n",
       "      <td>19.0</td>\n",
       "    </tr>\n",
       "    <tr>\n",
       "      <th>10</th>\n",
       "      <td>test</td>\n",
       "      <td>premium_no_trial</td>\n",
       "      <td>804349.0</td>\n",
       "      <td>66.0</td>\n",
       "    </tr>\n",
       "    <tr>\n",
       "      <th>11</th>\n",
       "      <td>test</td>\n",
       "      <td>trial_premium</td>\n",
       "      <td>800202.0</td>\n",
       "      <td>61.0</td>\n",
       "    </tr>\n",
       "  </tbody>\n",
       "</table>\n",
       "</div>"
      ],
      "text/plain": [
       "       group      product_type   revenue    uid\n",
       "0   control1             coins  871910.0   65.0\n",
       "1   control1        other_type  187616.0   29.0\n",
       "2   control1  premium_no_trial  779259.0   99.0\n",
       "3   control1     trial_premium  772720.0   67.0\n",
       "4   control2             coins  394797.0   68.0\n",
       "5   control2        other_type  128739.0   33.0\n",
       "6   control2  premium_no_trial  740753.0  101.0\n",
       "7   control2     trial_premium  631215.0   52.0\n",
       "8       test             coins  562432.0   51.0\n",
       "9       test        other_type  123734.0   19.0\n",
       "10      test  premium_no_trial  804349.0   66.0\n",
       "11      test     trial_premium  800202.0   61.0"
      ]
     },
     "execution_count": 90,
     "metadata": {},
     "output_type": "execute_result"
    }
   ],
   "source": [
    "final_transaction_df.groupby(['group', 'product_type'], as_index=False) \\\n",
    ".agg({'revenue':'sum','uid':pd.Series.nunique})"
   ]
  },
  {
   "cell_type": "code",
   "execution_count": 91,
   "metadata": {},
   "outputs": [
    {
     "data": {
      "image/png": "[encoded data removed]",
      "text/plain": [
       "<Figure size 1440x360 with 1 Axes>"
      ]
     },
     "metadata": {
      "needs_background": "light"
     },
     "output_type": "display_data"
    }
   ],
   "source": [
    "#посмотрим на графике\n",
    "plt.figure(figsize = (20,5))\n",
    "sns.barplot(data = \\\n",
    "    final_transaction_df.groupby(['group', 'product_type'], as_index=False).agg({'revenue':'sum','uid':pd.Series.nunique}), \n",
    "    x=\"product_type\", y=\"revenue\", hue='group') \n",
    "plt.xticks(rotation=70)\n",
    "plt.show()"
   ]
  },
  {
   "cell_type": "markdown",
   "metadata": {},
   "source": [
    "здесь мы видим, что в тестовой группе бОльшая часть выручки формируется как раз по премиум подпискам (подписка без пробного периода чуть больше принесла, чем просто пробный), а в контрольных группах по-разному , во второй группе два основных типа такие же, как в тестовой, а в первой контрольной выше всего тип coins"
   ]
  },
  {
   "cell_type": "code",
   "execution_count": 92,
   "metadata": {},
   "outputs": [
    {
     "data": {
      "image/png": "[encoded data removed]",
      "text/plain": [
       "<Figure size 1440x360 with 1 Axes>"
      ]
     },
     "metadata": {
      "needs_background": "light"
     },
     "output_type": "display_data"
    }
   ],
   "source": [
    "#посмотрим на ещё один график\n",
    "plt.figure(figsize = (20,5))\n",
    "sns.barplot(data = \\\n",
    "    final_transaction_df.groupby(['group', 'product_type'], as_index=False) \\\n",
    "            .agg({'revenue':'sum','uid':pd.Series.nunique}), x=\"product_type\", y=\"revenue\", hue='group') \n",
    "plt.xticks(rotation=70)\n",
    "plt.show()"
   ]
  },
  {
   "cell_type": "markdown",
   "metadata": {},
   "source": [
    "туту мы видим, что выше всего выручка в тестовой группе по типу premium_no_trial (который нас интересует больше всего)"
   ]
  },
  {
   "cell_type": "code",
   "execution_count": 93,
   "metadata": {},
   "outputs": [
    {
     "data": {
      "image/png": "[encoded data removed]",
      "text/plain": [
       "<Figure size 1440x360 with 1 Axes>"
      ]
     },
     "metadata": {
      "needs_background": "light"
     },
     "output_type": "display_data"
    }
   ],
   "source": [
    "#посмотрим из каких источников происходит оплата чаще всего\n",
    "plt.figure(figsize = (20,5))\n",
    "sns.barplot(data = \\\n",
    "    final_transaction_df.query('product_type==\"premium_no_trial\"').groupby(['group', 'from_page'], as_index=False) \\\n",
    "            .agg({'revenue':'sum','uid':pd.Series.nunique}), x=\"from_page\", y=\"revenue\", hue='group') \n",
    "plt.xticks(rotation=70)\n",
    "plt.show()"
   ]
  },
  {
   "cell_type": "markdown",
   "metadata": {},
   "source": [
    "чаще всего пользователи переходили из страниц autoreply_message, promo_09 для оплаты премиум-подписки"
   ]
  },
  {
   "cell_type": "markdown",
   "metadata": {},
   "source": [
    "# 3. Расчет метрик и их взаимосвязь с группами"
   ]
  },
  {
   "cell_type": "markdown",
   "metadata": {},
   "source": [
    "В данном блоке нам нужно будет рассчитать метрики и сравнить их, чтобы можно было сделать вывод об успешности проведения теста. \n",
    "\n",
    "Так как мы не знаем настояющих целей данного теста, я предположу, что ожидалось увеличение выручки с платящих пользователей и бОльшее кол-во премиум подписок (бОльшее кол-во платящих пользователей).\n",
    "\n",
    "Поэтому метрики будут следующие:\n",
    "- ARPPU\n",
    "- Conversion into purchase of premium subcrip"
   ]
  },
  {
   "cell_type": "markdown",
   "metadata": {},
   "source": [
    "далее мы будем считать метрики и сравнивать их между собой"
   ]
  },
  {
   "cell_type": "markdown",
   "metadata": {},
   "source": [
    "для начала сравним ARPPU в контрольных группах между собой и убедимся, что различий в них нет, чтобы можно было объединить две контрольные группы в одну для дальнейшего сравнивания с тестовой группой"
   ]
  },
  {
   "cell_type": "code",
   "execution_count": 94,
   "metadata": {},
   "outputs": [
    {
     "data": {
      "text/html": [
       "<div>\n",
       "<style scoped>\n",
       "    .dataframe tbody tr th:only-of-type {\n",
       "        vertical-align: middle;\n",
       "    }\n",
       "\n",
       "    .dataframe tbody tr th {\n",
       "        vertical-align: top;\n",
       "    }\n",
       "\n",
       "    .dataframe thead th {\n",
       "        text-align: right;\n",
       "    }\n",
       "</style>\n",
       "<table border=\"1\" class=\"dataframe\">\n",
       "  <thead>\n",
       "    <tr style=\"text-align: right;\">\n",
       "      <th></th>\n",
       "      <th>group</th>\n",
       "      <th>revenue</th>\n",
       "      <th>uid</th>\n",
       "    </tr>\n",
       "  </thead>\n",
       "  <tbody>\n",
       "    <tr>\n",
       "      <th>0</th>\n",
       "      <td>control1</td>\n",
       "      <td>779259.0</td>\n",
       "      <td>99.0</td>\n",
       "    </tr>\n",
       "    <tr>\n",
       "      <th>1</th>\n",
       "      <td>control2</td>\n",
       "      <td>740753.0</td>\n",
       "      <td>101.0</td>\n",
       "    </tr>\n",
       "    <tr>\n",
       "      <th>2</th>\n",
       "      <td>test</td>\n",
       "      <td>804349.0</td>\n",
       "      <td>66.0</td>\n",
       "    </tr>\n",
       "  </tbody>\n",
       "</table>\n",
       "</div>"
      ],
      "text/plain": [
       "      group   revenue    uid\n",
       "0  control1  779259.0   99.0\n",
       "1  control2  740753.0  101.0\n",
       "2      test  804349.0   66.0"
      ]
     },
     "execution_count": 94,
     "metadata": {},
     "output_type": "execute_result"
    }
   ],
   "source": [
    "final_transaction_df.query('product_type==\"premium_no_trial\"') \\\n",
    ".groupby('group', as_index=False).agg({'revenue':'sum','uid':pd.Series.nunique})"
   ]
  },
  {
   "cell_type": "code",
   "execution_count": 95,
   "metadata": {},
   "outputs": [],
   "source": [
    "control1_df = final_transaction_df.query('group==\"control1\" & product_type==\"premium_no_trial\"') \\\n",
    "            .groupby(['group','uid' ], as_index=False).agg({'revenue':'sum'})\n",
    "control2_df = final_transaction_df.query('group==\"control2\" & product_type==\"premium_no_trial\"') \\\n",
    "            .groupby(['group','uid' ], as_index=False).agg({'revenue':'sum'})"
   ]
  },
  {
   "cell_type": "code",
   "execution_count": 96,
   "metadata": {},
   "outputs": [
    {
     "data": {
      "text/plain": [
       "7871.30303030303"
      ]
     },
     "execution_count": 96,
     "metadata": {},
     "output_type": "execute_result"
    }
   ],
   "source": [
    "control1_df.revenue.mean()"
   ]
  },
  {
   "cell_type": "code",
   "execution_count": 97,
   "metadata": {},
   "outputs": [
    {
     "data": {
      "text/plain": [
       "7334.188118811881"
      ]
     },
     "execution_count": 97,
     "metadata": {},
     "output_type": "execute_result"
    }
   ],
   "source": [
    "control2_df.revenue.mean()"
   ]
  },
  {
   "cell_type": "markdown",
   "metadata": {},
   "source": [
    "теперь посмотрим, стат значимо ли различие между ARPPU в контрольных группах. \n",
    "Н0 - стат значимых различий между контрольными группами нет, ARPPU одинаковое\n",
    "Н1 - ARPPU отличается в контрольных группах стат значимо"
   ]
  },
  {
   "cell_type": "code",
   "execution_count": 98,
   "metadata": {},
   "outputs": [
    {
     "data": {
      "text/plain": [
       "<seaborn.axisgrid.FacetGrid at 0x7fdb9048db70>"
      ]
     },
     "execution_count": 98,
     "metadata": {},
     "output_type": "execute_result"
    },
    {
     "data": {
      "image/png": "[encoded data removed]",
      "text/plain": [
       "<Figure size 436.875x360 with 1 Axes>"
      ]
     },
     "metadata": {
      "needs_background": "light"
     },
     "output_type": "display_data"
    }
   ],
   "source": [
    "#посмотрим на распределения двух выборок\n",
    "sns.displot(data = final_transaction_df.query('group != \"test\" & product_type==\"premium_no_trial\"') \\\n",
    "            .groupby(['group','uid' ], as_index=False).agg({'revenue':'sum'}), x='revenue', hue='group'\n",
    "           )"
   ]
  },
  {
   "cell_type": "markdown",
   "metadata": {},
   "source": [
    "распределения довольно необычны и не похожи на нормальные, в тестовой группе дисперсия и изменчивость выше."
   ]
  },
  {
   "cell_type": "markdown",
   "metadata": {},
   "source": [
    "Так как у нас нет возможности провести эксперимент 1000 раз, чтобы сравнить разные ARRPU и оценить стат значимость, мы воспользуемся методом bootstrap, который фактически это и сделает, только на наших данных.\n",
    "\n",
    "Метод bootstrap, в отличие от классических тестов статистики, которые могут иметь определенные ограничения при их использовании, более свободен от такого рода ограничений и может использоваться более эффективно."
   ]
  },
  {
   "cell_type": "code",
   "execution_count": 99,
   "metadata": {},
   "outputs": [],
   "source": [
    "#посчитаем разницы между средними (ARRPU) в группах и далее построим доверительный интервал для них\n",
    "mean_diff = []\n",
    "\n",
    "for i in range(1000):\n",
    "    sample_data_control1 = control1_df.sample(frac=1, replace=True)\n",
    "    sample_mean_control1 = sample_data_control1.revenue.mean()\n",
    "    \n",
    "    \n",
    "    sample_data_control2 = control2_df.sample(frac=1, replace=True)\n",
    "    sample_mean_control2 = sample_data_control2.revenue.mean()\n",
    "    \n",
    "    sample_mean_diff = sample_mean_control2 -  sample_mean_control1\n",
    "    mean_diff.append(sample_mean_diff)"
   ]
  },
  {
   "cell_type": "code",
   "execution_count": 100,
   "metadata": {},
   "outputs": [
    {
     "data": {
      "text/plain": [
       "2174.108220822082"
      ]
     },
     "execution_count": 100,
     "metadata": {},
     "output_type": "execute_result"
    }
   ],
   "source": [
    "pd.Series(mean_diff).quantile(0.975)"
   ]
  },
  {
   "cell_type": "code",
   "execution_count": 101,
   "metadata": {},
   "outputs": [
    {
     "data": {
      "text/plain": [
       "-3260.974884988498"
      ]
     },
     "execution_count": 101,
     "metadata": {},
     "output_type": "execute_result"
    }
   ],
   "source": [
    "pd.Series(mean_diff).quantile(0.025)"
   ]
  },
  {
   "cell_type": "markdown",
   "metadata": {},
   "source": [
    "С очень высокой вероятностью разница средних между контрольными группами находится в диапазоне от -3 261 до 2 174. Этот диапазон включает в себя 0, таким образом мы не можем отклонить нулевую гипотезу, ARRPU одинаковое в контрольных группах."
   ]
  },
  {
   "cell_type": "markdown",
   "metadata": {},
   "source": [
    "теперь мы можем объединить контрольные группы, чтобы далее сравнить метрику по всей контрольной группе с тестовой группой.\n",
    "для этого создадим новую колонку \"group_upd\" в обоих датафреймах"
   ]
  },
  {
   "cell_type": "code",
   "execution_count": 102,
   "metadata": {},
   "outputs": [
    {
     "data": {
      "text/html": [
       "<div>\n",
       "<style scoped>\n",
       "    .dataframe tbody tr th:only-of-type {\n",
       "        vertical-align: middle;\n",
       "    }\n",
       "\n",
       "    .dataframe tbody tr th {\n",
       "        vertical-align: top;\n",
       "    }\n",
       "\n",
       "    .dataframe thead th {\n",
       "        text-align: right;\n",
       "    }\n",
       "</style>\n",
       "<table border=\"1\" class=\"dataframe\">\n",
       "  <thead>\n",
       "    <tr style=\"text-align: right;\">\n",
       "      <th></th>\n",
       "      <th>uid</th>\n",
       "      <th>country</th>\n",
       "      <th>joined_at</th>\n",
       "      <th>paid_at</th>\n",
       "      <th>revenue</th>\n",
       "      <th>payment_id</th>\n",
       "      <th>from_page</th>\n",
       "      <th>product_type</th>\n",
       "      <th>group</th>\n",
       "      <th>group_upd</th>\n",
       "    </tr>\n",
       "  </thead>\n",
       "  <tbody>\n",
       "    <tr>\n",
       "      <th>0</th>\n",
       "      <td>891345942.0</td>\n",
       "      <td>Italy</td>\n",
       "      <td>2017-05-11 13:00:00</td>\n",
       "      <td>2017-11-13 15:04:00</td>\n",
       "      <td>12909.0</td>\n",
       "      <td>147.0</td>\n",
       "      <td>trial_vip_popup</td>\n",
       "      <td>trial_premium</td>\n",
       "      <td>test</td>\n",
       "      <td>test</td>\n",
       "    </tr>\n",
       "    <tr>\n",
       "      <th>1</th>\n",
       "      <td>892054251.0</td>\n",
       "      <td>United States of America</td>\n",
       "      <td>2017-10-22 00:33:00</td>\n",
       "      <td>2017-10-30 01:37:00</td>\n",
       "      <td>13923.0</td>\n",
       "      <td>147.0</td>\n",
       "      <td>trial_vip_popup</td>\n",
       "      <td>trial_premium</td>\n",
       "      <td>test</td>\n",
       "      <td>test</td>\n",
       "    </tr>\n",
       "    <tr>\n",
       "      <th>2</th>\n",
       "      <td>892236423.0</td>\n",
       "      <td>United States of America</td>\n",
       "      <td>2017-10-18 01:09:00</td>\n",
       "      <td>2017-10-23 00:15:00</td>\n",
       "      <td>3783.0</td>\n",
       "      <td>67.0</td>\n",
       "      <td>menu</td>\n",
       "      <td>other_type</td>\n",
       "      <td>test</td>\n",
       "      <td>test</td>\n",
       "    </tr>\n",
       "  </tbody>\n",
       "</table>\n",
       "</div>"
      ],
      "text/plain": [
       "           uid                   country           joined_at  \\\n",
       "0  891345942.0                     Italy 2017-05-11 13:00:00   \n",
       "1  892054251.0  United States of America 2017-10-22 00:33:00   \n",
       "2  892236423.0  United States of America 2017-10-18 01:09:00   \n",
       "\n",
       "              paid_at  revenue  payment_id        from_page   product_type  \\\n",
       "0 2017-11-13 15:04:00  12909.0       147.0  trial_vip_popup  trial_premium   \n",
       "1 2017-10-30 01:37:00  13923.0       147.0  trial_vip_popup  trial_premium   \n",
       "2 2017-10-23 00:15:00   3783.0        67.0             menu     other_type   \n",
       "\n",
       "  group group_upd  \n",
       "0  test      test  \n",
       "1  test      test  \n",
       "2  test      test  "
      ]
     },
     "execution_count": 102,
     "metadata": {},
     "output_type": "execute_result"
    }
   ],
   "source": [
    "final_transaction_df['group_upd'] = \\\n",
    "final_transaction_df.group.apply(lambda x: 'test' if x=='test' else 'control')\n",
    "\n",
    "final_transaction_df.head(3)"
   ]
  },
  {
   "cell_type": "code",
   "execution_count": 103,
   "metadata": {},
   "outputs": [
    {
     "data": {
      "text/html": [
       "<div>\n",
       "<style scoped>\n",
       "    .dataframe tbody tr th:only-of-type {\n",
       "        vertical-align: middle;\n",
       "    }\n",
       "\n",
       "    .dataframe tbody tr th {\n",
       "        vertical-align: top;\n",
       "    }\n",
       "\n",
       "    .dataframe thead th {\n",
       "        text-align: right;\n",
       "    }\n",
       "</style>\n",
       "<table border=\"1\" class=\"dataframe\">\n",
       "  <thead>\n",
       "    <tr style=\"text-align: right;\">\n",
       "      <th></th>\n",
       "      <th>uid</th>\n",
       "      <th>age</th>\n",
       "      <th>attraction_coeff</th>\n",
       "      <th>coins</th>\n",
       "      <th>country</th>\n",
       "      <th>visit_days</th>\n",
       "      <th>gender</th>\n",
       "      <th>age_filter_start</th>\n",
       "      <th>age_filter_end</th>\n",
       "      <th>views_count</th>\n",
       "      <th>was_premium</th>\n",
       "      <th>is_premium</th>\n",
       "      <th>total_revenue</th>\n",
       "      <th>group</th>\n",
       "      <th>control1</th>\n",
       "      <th>control2</th>\n",
       "      <th>test</th>\n",
       "      <th>is_present</th>\n",
       "      <th>group_upd</th>\n",
       "    </tr>\n",
       "  </thead>\n",
       "  <tbody>\n",
       "    <tr>\n",
       "      <th>0</th>\n",
       "      <td>892309896</td>\n",
       "      <td>27</td>\n",
       "      <td>685</td>\n",
       "      <td>NaN</td>\n",
       "      <td>United States of America</td>\n",
       "      <td>1,2,3,4,5,6,7,8,9,10,11,12,16,17</td>\n",
       "      <td>1</td>\n",
       "      <td>24</td>\n",
       "      <td>30</td>\n",
       "      <td>89</td>\n",
       "      <td>0.0</td>\n",
       "      <td>NaN</td>\n",
       "      <td>0</td>\n",
       "      <td>test</td>\n",
       "      <td>1471.0</td>\n",
       "      <td>1486.0</td>\n",
       "      <td>1450.0</td>\n",
       "      <td>yes</td>\n",
       "      <td>test</td>\n",
       "    </tr>\n",
       "  </tbody>\n",
       "</table>\n",
       "</div>"
      ],
      "text/plain": [
       "         uid  age  attraction_coeff  coins                   country  \\\n",
       "0  892309896   27               685    NaN  United States of America   \n",
       "\n",
       "                         visit_days  gender  age_filter_start  age_filter_end  \\\n",
       "0  1,2,3,4,5,6,7,8,9,10,11,12,16,17       1                24              30   \n",
       "\n",
       "   views_count  was_premium  is_premium  total_revenue group  control1  \\\n",
       "0           89          0.0         NaN              0  test    1471.0   \n",
       "\n",
       "   control2    test is_present group_upd  \n",
       "0    1486.0  1450.0        yes      test  "
      ]
     },
     "execution_count": 103,
     "metadata": {},
     "output_type": "execute_result"
    }
   ],
   "source": [
    "final_users_df['group_upd'] = \\\n",
    "final_users_df.group.apply(lambda x: 'test' if x=='test' else 'control')\n",
    "\n",
    "final_users_df.head(1)"
   ]
  },
  {
   "cell_type": "markdown",
   "metadata": {},
   "source": [
    "посчитаем ARPPU (средний доход от платящих пользователей)"
   ]
  },
  {
   "cell_type": "code",
   "execution_count": 104,
   "metadata": {},
   "outputs": [
    {
     "data": {
      "text/html": [
       "<div>\n",
       "<style scoped>\n",
       "    .dataframe tbody tr th:only-of-type {\n",
       "        vertical-align: middle;\n",
       "    }\n",
       "\n",
       "    .dataframe tbody tr th {\n",
       "        vertical-align: top;\n",
       "    }\n",
       "\n",
       "    .dataframe thead th {\n",
       "        text-align: right;\n",
       "    }\n",
       "</style>\n",
       "<table border=\"1\" class=\"dataframe\">\n",
       "  <thead>\n",
       "    <tr style=\"text-align: right;\">\n",
       "      <th></th>\n",
       "      <th>group_upd</th>\n",
       "      <th>revenue</th>\n",
       "      <th>uid</th>\n",
       "    </tr>\n",
       "  </thead>\n",
       "  <tbody>\n",
       "    <tr>\n",
       "      <th>0</th>\n",
       "      <td>control</td>\n",
       "      <td>1520012.0</td>\n",
       "      <td>200.0</td>\n",
       "    </tr>\n",
       "    <tr>\n",
       "      <th>1</th>\n",
       "      <td>test</td>\n",
       "      <td>804349.0</td>\n",
       "      <td>66.0</td>\n",
       "    </tr>\n",
       "  </tbody>\n",
       "</table>\n",
       "</div>"
      ],
      "text/plain": [
       "  group_upd    revenue    uid\n",
       "0   control  1520012.0  200.0\n",
       "1      test   804349.0   66.0"
      ]
     },
     "execution_count": 104,
     "metadata": {},
     "output_type": "execute_result"
    }
   ],
   "source": [
    "final_transaction_df.query('product_type==\"premium_no_trial\"') \\\n",
    ".groupby('group_upd', as_index=False).agg({'revenue':'sum','uid':pd.Series.nunique})"
   ]
  },
  {
   "cell_type": "code",
   "execution_count": 105,
   "metadata": {},
   "outputs": [
    {
     "data": {
      "text/plain": [
       "'ARPPU of test group with \"premium_no_trial\" product type is 12187.10606060606'"
      ]
     },
     "execution_count": 105,
     "metadata": {},
     "output_type": "execute_result"
    }
   ],
   "source": [
    "# посчитаем ARRPU пользователей с типом \"premium_no_trial\"\n",
    "ARPPU_test_premium = \\\n",
    "final_transaction_df.query('group_upd==\"test\" & product_type==\"premium_no_trial\"').revenue.sum() \\\n",
    "/ final_transaction_df.query('group_upd==\"test\" & product_type==\"premium_no_trial\"').uid.nunique()     \n",
    "\n",
    "f'ARPPU of test group with \"premium_no_trial\" product type is {ARPPU_test_premium}'"
   ]
  },
  {
   "cell_type": "code",
   "execution_count": 106,
   "metadata": {},
   "outputs": [
    {
     "data": {
      "text/plain": [
       "'ARPPU of control group with \"premium_no_trial\" product type is 7600.06'"
      ]
     },
     "execution_count": 106,
     "metadata": {},
     "output_type": "execute_result"
    }
   ],
   "source": [
    "ARPPU_control_premium = \\\n",
    "final_transaction_df.query('group_upd==\"control\" & product_type==\"premium_no_trial\"').revenue.sum() \\\n",
    "/ final_transaction_df.query('group_upd==\"control\" & product_type==\"premium_no_trial\"').uid.nunique()     \n",
    "\n",
    "f'ARPPU of control group with \"premium_no_trial\" product type is {ARPPU_control_premium}'"
   ]
  },
  {
   "cell_type": "markdown",
   "metadata": {},
   "source": [
    "ARPPU в тестовой группе выше, чем в контрольной."
   ]
  },
  {
   "cell_type": "code",
   "execution_count": null,
   "metadata": {},
   "outputs": [],
   "source": []
  },
  {
   "cell_type": "markdown",
   "metadata": {},
   "source": [
    "теперь посмотрим, стат значимо ли различие между ARPPU в группах (для этого снова будем использовать bootstrap). \n",
    "Н0 - стат значимых различий между контрольной и тестовой группами нет, ARPPU не изменилось\n",
    "Н1 - ARPPU отличается в группах стат значимо после внедрений изменений стоимости подписки"
   ]
  },
  {
   "cell_type": "code",
   "execution_count": 107,
   "metadata": {},
   "outputs": [],
   "source": [
    "control_df = final_transaction_df.query('group_upd==\"control\" & product_type==\"premium_no_trial\"') \\\n",
    "            .groupby(['group_upd','uid' ], as_index=False).agg({'revenue':'sum'})\n",
    "\n",
    "test_df = final_transaction_df.query('group_upd==\"test\" & product_type==\"premium_no_trial\"') \\\n",
    "            .groupby(['group_upd','uid' ], as_index=False).agg({'revenue':'sum'})"
   ]
  },
  {
   "cell_type": "code",
   "execution_count": 108,
   "metadata": {},
   "outputs": [],
   "source": [
    "#посчитаем разницы между средними (ARRPU) в группах и далее построим доверительный интервал для них\n",
    "mean_diff = []\n",
    "\n",
    "for i in range(1000):\n",
    "    sample_data_control = control_df.sample(frac=1, replace=True)\n",
    "    sample_mean_control = sample_data_control.revenue.mean()\n",
    "    \n",
    "    \n",
    "    sample_data_test = test_df.sample(frac=1, replace=True)\n",
    "    sample_mean_test = sample_data_test.revenue.mean()\n",
    "    \n",
    "    sample_mean_diff = sample_mean_test -  sample_mean_control\n",
    "    mean_diff.append(sample_mean_diff)"
   ]
  },
  {
   "cell_type": "markdown",
   "metadata": {},
   "source": [
    "теперь построим доверительный интервал для разницы между средними (ARRPU) в группах, которые мы получали при многократном повторении эксперимента"
   ]
  },
  {
   "cell_type": "code",
   "execution_count": 109,
   "metadata": {},
   "outputs": [
    {
     "data": {
      "text/plain": [
       "9549.76577651515"
      ]
     },
     "execution_count": 109,
     "metadata": {},
     "output_type": "execute_result"
    }
   ],
   "source": [
    "pd.Series(mean_diff).quantile(0.975)"
   ]
  },
  {
   "cell_type": "code",
   "execution_count": 110,
   "metadata": {},
   "outputs": [
    {
     "data": {
      "text/plain": [
       "382.39322727272827"
      ]
     },
     "execution_count": 110,
     "metadata": {},
     "output_type": "execute_result"
    }
   ],
   "source": [
    "pd.Series(mean_diff).quantile(0.025)"
   ]
  },
  {
   "cell_type": "markdown",
   "metadata": {},
   "source": [
    "С очень высокой вероятностью разница средних находится в диапазоне от 382 до 9 550. Этот диапазон не включает в себя 0, таким образом разница между ARRPU в группах стат значима. Поэтому мы можем говорить, что ARRPU стат значимо отличаются в группах."
   ]
  },
  {
   "cell_type": "code",
   "execution_count": null,
   "metadata": {},
   "outputs": [],
   "source": []
  },
  {
   "cell_type": "markdown",
   "metadata": {},
   "source": [
    "далее посчитаем Conversion into purchase of premium subscription, сравним их значения и проверим стат значимость.\n",
    "\n",
    "начнем снова со сравнения метрики между контрольными группами, чтобы убедиться, что они не отличаются и что мы можем их объединять в дальнейшем.\n",
    "Н0 - стат значимых различий между контрольными группами нет, конверсия не изменилась\n",
    "Н1 - стат значимые различия в конверсии между контрольными группами наблюдаются"
   ]
  },
  {
   "cell_type": "code",
   "execution_count": 111,
   "metadata": {},
   "outputs": [
    {
     "data": {
      "text/html": [
       "<div>\n",
       "<style scoped>\n",
       "    .dataframe tbody tr th:only-of-type {\n",
       "        vertical-align: middle;\n",
       "    }\n",
       "\n",
       "    .dataframe tbody tr th {\n",
       "        vertical-align: top;\n",
       "    }\n",
       "\n",
       "    .dataframe thead th {\n",
       "        text-align: right;\n",
       "    }\n",
       "</style>\n",
       "<table border=\"1\" class=\"dataframe\">\n",
       "  <thead>\n",
       "    <tr style=\"text-align: right;\">\n",
       "      <th></th>\n",
       "      <th>paid_users_count</th>\n",
       "      <th>all_users_count</th>\n",
       "    </tr>\n",
       "    <tr>\n",
       "      <th>group</th>\n",
       "      <th></th>\n",
       "      <th></th>\n",
       "    </tr>\n",
       "  </thead>\n",
       "  <tbody>\n",
       "    <tr>\n",
       "      <th>control1</th>\n",
       "      <td>99.0</td>\n",
       "      <td>4329</td>\n",
       "    </tr>\n",
       "    <tr>\n",
       "      <th>control2</th>\n",
       "      <td>101.0</td>\n",
       "      <td>4249</td>\n",
       "    </tr>\n",
       "  </tbody>\n",
       "</table>\n",
       "</div>"
      ],
      "text/plain": [
       "          paid_users_count  all_users_count\n",
       "group                                      \n",
       "control1              99.0             4329\n",
       "control2             101.0             4249"
      ]
     },
     "execution_count": 111,
     "metadata": {},
     "output_type": "execute_result"
    }
   ],
   "source": [
    "CR_controls_df = final_transaction_df.query('group != \"test\" & product_type==\"premium_no_trial\"').groupby('group') \\\n",
    "    .agg({'uid':pd.Series.nunique}).rename(columns={'uid':'paid_users_count'}).merge \\\n",
    "(final_users_df.groupby('group') \\\n",
    "    .agg({'uid':pd.Series.nunique}).rename(columns={'uid':'all_users_count'}), how='inner',on='group')\n",
    "CR_controls_df"
   ]
  },
  {
   "cell_type": "code",
   "execution_count": 112,
   "metadata": {},
   "outputs": [
    {
     "data": {
      "text/html": [
       "<div>\n",
       "<style scoped>\n",
       "    .dataframe tbody tr th:only-of-type {\n",
       "        vertical-align: middle;\n",
       "    }\n",
       "\n",
       "    .dataframe tbody tr th {\n",
       "        vertical-align: top;\n",
       "    }\n",
       "\n",
       "    .dataframe thead th {\n",
       "        text-align: right;\n",
       "    }\n",
       "</style>\n",
       "<table border=\"1\" class=\"dataframe\">\n",
       "  <thead>\n",
       "    <tr style=\"text-align: right;\">\n",
       "      <th></th>\n",
       "      <th>paid_users_count</th>\n",
       "      <th>all_users_count</th>\n",
       "      <th>not_paid_users_count</th>\n",
       "    </tr>\n",
       "    <tr>\n",
       "      <th>group</th>\n",
       "      <th></th>\n",
       "      <th></th>\n",
       "      <th></th>\n",
       "    </tr>\n",
       "  </thead>\n",
       "  <tbody>\n",
       "    <tr>\n",
       "      <th>control1</th>\n",
       "      <td>99.0</td>\n",
       "      <td>4329</td>\n",
       "      <td>4230.0</td>\n",
       "    </tr>\n",
       "    <tr>\n",
       "      <th>control2</th>\n",
       "      <td>101.0</td>\n",
       "      <td>4249</td>\n",
       "      <td>4148.0</td>\n",
       "    </tr>\n",
       "  </tbody>\n",
       "</table>\n",
       "</div>"
      ],
      "text/plain": [
       "          paid_users_count  all_users_count  not_paid_users_count\n",
       "group                                                            \n",
       "control1              99.0             4329                4230.0\n",
       "control2             101.0             4249                4148.0"
      ]
     },
     "execution_count": 112,
     "metadata": {},
     "output_type": "execute_result"
    }
   ],
   "source": [
    "CR_controls_df['not_paid_users_count']= CR_controls_df.all_users_count -CR_controls_df.paid_users_count\n",
    "CR_controls_df"
   ]
  },
  {
   "cell_type": "code",
   "execution_count": 113,
   "metadata": {},
   "outputs": [
    {
     "data": {
      "text/plain": [
       "group\n",
       "control1    0.022869\n",
       "control2    0.023770\n",
       "dtype: float64"
      ]
     },
     "execution_count": 113,
     "metadata": {},
     "output_type": "execute_result"
    }
   ],
   "source": [
    "CR_controls_df.paid_users_count/CR_controls_df.all_users_count"
   ]
  },
  {
   "cell_type": "markdown",
   "metadata": {},
   "source": [
    "конверсия в покупку в контрольных группах очень схожа, проверим стат значимость минимальных различий"
   ]
  },
  {
   "cell_type": "code",
   "execution_count": 114,
   "metadata": {},
   "outputs": [
    {
     "data": {
      "text/html": [
       "<div>\n",
       "<style scoped>\n",
       "    .dataframe tbody tr th:only-of-type {\n",
       "        vertical-align: middle;\n",
       "    }\n",
       "\n",
       "    .dataframe tbody tr th {\n",
       "        vertical-align: top;\n",
       "    }\n",
       "\n",
       "    .dataframe thead th {\n",
       "        text-align: right;\n",
       "    }\n",
       "</style>\n",
       "<table border=\"1\" class=\"dataframe\">\n",
       "  <thead>\n",
       "    <tr style=\"text-align: right;\">\n",
       "      <th>group</th>\n",
       "      <th>control1</th>\n",
       "      <th>control2</th>\n",
       "    </tr>\n",
       "  </thead>\n",
       "  <tbody>\n",
       "    <tr>\n",
       "      <th>paid_users_count</th>\n",
       "      <td>99.0</td>\n",
       "      <td>101.0</td>\n",
       "    </tr>\n",
       "    <tr>\n",
       "      <th>not_paid_users_count</th>\n",
       "      <td>4230.0</td>\n",
       "      <td>4148.0</td>\n",
       "    </tr>\n",
       "  </tbody>\n",
       "</table>\n",
       "</div>"
      ],
      "text/plain": [
       "group                 control1  control2\n",
       "paid_users_count          99.0     101.0\n",
       "not_paid_users_count    4230.0    4148.0"
      ]
     },
     "execution_count": 114,
     "metadata": {},
     "output_type": "execute_result"
    }
   ],
   "source": [
    "CR_controls_df[['paid_users_count','not_paid_users_count']].T"
   ]
  },
  {
   "cell_type": "code",
   "execution_count": 115,
   "metadata": {},
   "outputs": [
    {
     "data": {
      "text/plain": [
       "(0.0420314586344013,\n",
       " 0.8375598179767481,\n",
       " 1,\n",
       " array([[ 100.93261833,   99.06738167],\n",
       "        [4228.06738167, 4149.93261833]]))"
      ]
     },
     "execution_count": 115,
     "metadata": {},
     "output_type": "execute_result"
    }
   ],
   "source": [
    "#проверим стат значимость различий между конверсиями\n",
    "st.chi2_contingency(CR_controls_df[['paid_users_count','not_paid_users_count']].T)"
   ]
  },
  {
   "cell_type": "markdown",
   "metadata": {},
   "source": [
    "мы получили р-value 0.84 выше порога значимости в 0.05, поэтому мы не можем отклонить нулевую гипотезу. конверсия в контрольных группах одинаковая и мы можем объединять эти группы для дальнейшего сравнения с тестовой группой."
   ]
  },
  {
   "cell_type": "code",
   "execution_count": null,
   "metadata": {},
   "outputs": [],
   "source": []
  },
  {
   "cell_type": "markdown",
   "metadata": {},
   "source": [
    "теперь сравним метрику Conversion into purchase of premium subscription в контрольной и тестовой группах,  и проверим стат значимость.\n",
    "\n",
    "Н0 - стат значимых различий между контрольной и тестовой группой нет, конверсия не изменилась\n",
    "Н1 - стат значимые различия в конверсии между группами наблюдаются"
   ]
  },
  {
   "cell_type": "code",
   "execution_count": 116,
   "metadata": {
    "scrolled": true
   },
   "outputs": [
    {
     "data": {
      "text/html": [
       "<div>\n",
       "<style scoped>\n",
       "    .dataframe tbody tr th:only-of-type {\n",
       "        vertical-align: middle;\n",
       "    }\n",
       "\n",
       "    .dataframe tbody tr th {\n",
       "        vertical-align: top;\n",
       "    }\n",
       "\n",
       "    .dataframe thead th {\n",
       "        text-align: right;\n",
       "    }\n",
       "</style>\n",
       "<table border=\"1\" class=\"dataframe\">\n",
       "  <thead>\n",
       "    <tr style=\"text-align: right;\">\n",
       "      <th></th>\n",
       "      <th>group_upd</th>\n",
       "      <th>paid_users_count</th>\n",
       "    </tr>\n",
       "  </thead>\n",
       "  <tbody>\n",
       "    <tr>\n",
       "      <th>0</th>\n",
       "      <td>control</td>\n",
       "      <td>200.0</td>\n",
       "    </tr>\n",
       "    <tr>\n",
       "      <th>1</th>\n",
       "      <td>test</td>\n",
       "      <td>66.0</td>\n",
       "    </tr>\n",
       "  </tbody>\n",
       "</table>\n",
       "</div>"
      ],
      "text/plain": [
       "  group_upd  paid_users_count\n",
       "0   control             200.0\n",
       "1      test              66.0"
      ]
     },
     "execution_count": 116,
     "metadata": {},
     "output_type": "execute_result"
    }
   ],
   "source": [
    "final_transaction_df.query('product_type==\"premium_no_trial\"').groupby('group_upd', as_index=False) \\\n",
    "    .agg({'uid':pd.Series.nunique}).rename(columns={'uid':'paid_users_count'})"
   ]
  },
  {
   "cell_type": "code",
   "execution_count": 117,
   "metadata": {},
   "outputs": [
    {
     "data": {
      "text/html": [
       "<div>\n",
       "<style scoped>\n",
       "    .dataframe tbody tr th:only-of-type {\n",
       "        vertical-align: middle;\n",
       "    }\n",
       "\n",
       "    .dataframe tbody tr th {\n",
       "        vertical-align: top;\n",
       "    }\n",
       "\n",
       "    .dataframe thead th {\n",
       "        text-align: right;\n",
       "    }\n",
       "</style>\n",
       "<table border=\"1\" class=\"dataframe\">\n",
       "  <thead>\n",
       "    <tr style=\"text-align: right;\">\n",
       "      <th></th>\n",
       "      <th>group_upd</th>\n",
       "      <th>all_users_count</th>\n",
       "    </tr>\n",
       "  </thead>\n",
       "  <tbody>\n",
       "    <tr>\n",
       "      <th>0</th>\n",
       "      <td>control</td>\n",
       "      <td>8578</td>\n",
       "    </tr>\n",
       "    <tr>\n",
       "      <th>1</th>\n",
       "      <td>test</td>\n",
       "      <td>4290</td>\n",
       "    </tr>\n",
       "  </tbody>\n",
       "</table>\n",
       "</div>"
      ],
      "text/plain": [
       "  group_upd  all_users_count\n",
       "0   control             8578\n",
       "1      test             4290"
      ]
     },
     "execution_count": 117,
     "metadata": {},
     "output_type": "execute_result"
    }
   ],
   "source": [
    "final_users_df.groupby('group_upd', as_index=False) \\\n",
    "    .agg({'uid':pd.Series.nunique}).rename(columns={'uid':'all_users_count'})"
   ]
  },
  {
   "cell_type": "code",
   "execution_count": 118,
   "metadata": {},
   "outputs": [
    {
     "data": {
      "text/html": [
       "<div>\n",
       "<style scoped>\n",
       "    .dataframe tbody tr th:only-of-type {\n",
       "        vertical-align: middle;\n",
       "    }\n",
       "\n",
       "    .dataframe tbody tr th {\n",
       "        vertical-align: top;\n",
       "    }\n",
       "\n",
       "    .dataframe thead th {\n",
       "        text-align: right;\n",
       "    }\n",
       "</style>\n",
       "<table border=\"1\" class=\"dataframe\">\n",
       "  <thead>\n",
       "    <tr style=\"text-align: right;\">\n",
       "      <th></th>\n",
       "      <th>paid_users_count</th>\n",
       "      <th>all_users_count</th>\n",
       "    </tr>\n",
       "    <tr>\n",
       "      <th>group_upd</th>\n",
       "      <th></th>\n",
       "      <th></th>\n",
       "    </tr>\n",
       "  </thead>\n",
       "  <tbody>\n",
       "    <tr>\n",
       "      <th>control</th>\n",
       "      <td>200.0</td>\n",
       "      <td>8578</td>\n",
       "    </tr>\n",
       "    <tr>\n",
       "      <th>test</th>\n",
       "      <td>66.0</td>\n",
       "      <td>4290</td>\n",
       "    </tr>\n",
       "  </tbody>\n",
       "</table>\n",
       "</div>"
      ],
      "text/plain": [
       "           paid_users_count  all_users_count\n",
       "group_upd                                   \n",
       "control               200.0             8578\n",
       "test                   66.0             4290"
      ]
     },
     "execution_count": 118,
     "metadata": {},
     "output_type": "execute_result"
    }
   ],
   "source": [
    "CR_df = final_transaction_df.query('product_type==\"premium_no_trial\"').groupby('group_upd') \\\n",
    "    .agg({'uid':pd.Series.nunique}).rename(columns={'uid':'paid_users_count'}).merge \\\n",
    "(final_users_df.groupby('group_upd') \\\n",
    "    .agg({'uid':pd.Series.nunique}).rename(columns={'uid':'all_users_count'}), how='inner',on='group_upd')\n",
    "\n",
    "CR_df"
   ]
  },
  {
   "cell_type": "code",
   "execution_count": 119,
   "metadata": {},
   "outputs": [
    {
     "data": {
      "text/html": [
       "<div>\n",
       "<style scoped>\n",
       "    .dataframe tbody tr th:only-of-type {\n",
       "        vertical-align: middle;\n",
       "    }\n",
       "\n",
       "    .dataframe tbody tr th {\n",
       "        vertical-align: top;\n",
       "    }\n",
       "\n",
       "    .dataframe thead th {\n",
       "        text-align: right;\n",
       "    }\n",
       "</style>\n",
       "<table border=\"1\" class=\"dataframe\">\n",
       "  <thead>\n",
       "    <tr style=\"text-align: right;\">\n",
       "      <th></th>\n",
       "      <th>paid_users_count</th>\n",
       "      <th>all_users_count</th>\n",
       "      <th>not_paid_users_count</th>\n",
       "    </tr>\n",
       "    <tr>\n",
       "      <th>group_upd</th>\n",
       "      <th></th>\n",
       "      <th></th>\n",
       "      <th></th>\n",
       "    </tr>\n",
       "  </thead>\n",
       "  <tbody>\n",
       "    <tr>\n",
       "      <th>control</th>\n",
       "      <td>200.0</td>\n",
       "      <td>8578</td>\n",
       "      <td>8378.0</td>\n",
       "    </tr>\n",
       "    <tr>\n",
       "      <th>test</th>\n",
       "      <td>66.0</td>\n",
       "      <td>4290</td>\n",
       "      <td>4224.0</td>\n",
       "    </tr>\n",
       "  </tbody>\n",
       "</table>\n",
       "</div>"
      ],
      "text/plain": [
       "           paid_users_count  all_users_count  not_paid_users_count\n",
       "group_upd                                                         \n",
       "control               200.0             8578                8378.0\n",
       "test                   66.0             4290                4224.0"
      ]
     },
     "execution_count": 119,
     "metadata": {},
     "output_type": "execute_result"
    }
   ],
   "source": [
    "CR_df['not_paid_users_count']= CR_df.all_users_count -CR_df.paid_users_count\n",
    "CR_df"
   ]
  },
  {
   "cell_type": "code",
   "execution_count": 120,
   "metadata": {},
   "outputs": [
    {
     "data": {
      "text/plain": [
       "group_upd\n",
       "control    0.023315\n",
       "test       0.015385\n",
       "dtype: float64"
      ]
     },
     "execution_count": 120,
     "metadata": {},
     "output_type": "execute_result"
    }
   ],
   "source": [
    "CR_df.paid_users_count/CR_df.all_users_count"
   ]
  },
  {
   "cell_type": "markdown",
   "metadata": {},
   "source": [
    "конверсия в покупку премиум-подписки в тестовой группе ниже, чем в контрольной"
   ]
  },
  {
   "cell_type": "code",
   "execution_count": 121,
   "metadata": {},
   "outputs": [
    {
     "data": {
      "text/html": [
       "<div>\n",
       "<style scoped>\n",
       "    .dataframe tbody tr th:only-of-type {\n",
       "        vertical-align: middle;\n",
       "    }\n",
       "\n",
       "    .dataframe tbody tr th {\n",
       "        vertical-align: top;\n",
       "    }\n",
       "\n",
       "    .dataframe thead th {\n",
       "        text-align: right;\n",
       "    }\n",
       "</style>\n",
       "<table border=\"1\" class=\"dataframe\">\n",
       "  <thead>\n",
       "    <tr style=\"text-align: right;\">\n",
       "      <th>group_upd</th>\n",
       "      <th>control</th>\n",
       "      <th>test</th>\n",
       "    </tr>\n",
       "  </thead>\n",
       "  <tbody>\n",
       "    <tr>\n",
       "      <th>paid_users_count</th>\n",
       "      <td>200.0</td>\n",
       "      <td>66.0</td>\n",
       "    </tr>\n",
       "    <tr>\n",
       "      <th>not_paid_users_count</th>\n",
       "      <td>8378.0</td>\n",
       "      <td>4224.0</td>\n",
       "    </tr>\n",
       "  </tbody>\n",
       "</table>\n",
       "</div>"
      ],
      "text/plain": [
       "group_upd             control    test\n",
       "paid_users_count        200.0    66.0\n",
       "not_paid_users_count   8378.0  4224.0"
      ]
     },
     "execution_count": 121,
     "metadata": {},
     "output_type": "execute_result"
    }
   ],
   "source": [
    "CR_df[['paid_users_count','not_paid_users_count']].T "
   ]
  },
  {
   "cell_type": "code",
   "execution_count": 122,
   "metadata": {},
   "outputs": [
    {
     "data": {
      "text/plain": [
       "(8.497855137600583,\n",
       " 0.003555653792574964,\n",
       " 1,\n",
       " array([[ 177.31955238,   88.68044762],\n",
       "        [8400.68044762, 4201.31955238]]))"
      ]
     },
     "execution_count": 122,
     "metadata": {},
     "output_type": "execute_result"
    }
   ],
   "source": [
    "#проверим стат значимость различий между конверсиями\n",
    "st.chi2_contingency(CR_df[['paid_users_count','not_paid_users_count']].T)"
   ]
  },
  {
   "cell_type": "markdown",
   "metadata": {},
   "source": [
    "мы получили р-value 0.0036 меньше порога значимости в 0.05, поэтому можем отклонить нулевую гипотезу и утверждать, что конверсия стала ниже в тестовой группе и это различие стат значимо."
   ]
  },
  {
   "cell_type": "code",
   "execution_count": null,
   "metadata": {},
   "outputs": [],
   "source": []
  },
  {
   "cell_type": "markdown",
   "metadata": {},
   "source": [
    "# Выводы"
   ]
  },
  {
   "cell_type": "markdown",
   "metadata": {},
   "source": [
    "В результате можно сказать, что сплитование в целом было проведено корректно, распределение пользователей по странам, возрасту схожее между группами. При этом есть моменты, которые можно было бы учесть при следующих тестах, такие как диапазон дат (в одной группе были записи за 2015 год), возрасту (есть пользователи с возрастом 90+ лет, что кажется странным на первый взгляд).\n",
    "\n",
    "Т.к. мы не знаем настоящую цель данного теста, предположим, что целью теста было увеличить выручку, в таком случае можно сказать, что тест был успешен, т.к. ARPPU выросло для тестовой группы. Но при этом, конверсия в покупку премиум подписки упала. Возможно также было бы полезно иметь в виду то, что из страниц autoreply_message, promo_09 чаще всего переходили для оплаты премиум-подписки.\n",
    "\n",
    "Для хорошего теста и его анализа очень важно понимать что и для чего мы делаем. Для данного теста были бы очень полезны следующие моменты:\n",
    "    важно понимать, для каких именно стран планировалось изменение;\n",
    "    какие платежные системы были и какие появились новые, сколько их всего;\n",
    "    может ли быть оплата до регистрации;\n",
    "    какая цель теста;\n",
    "    знать точные гипотезы данного теста, например, увеличить такую-то метрику на столько-то и тд.\n",
    "    \n",
    "\n",
    "Поэтому прежде чем выкатывать обновление на всех пользователей (если наше предположение о цели проведения теста верное), лучше узнать все детали и проверить их взаимосвязь."
   ]
  },
  {
   "cell_type": "markdown",
   "metadata": {},
   "source": [
    "# Дополнительное ревью пользователей из стран, в которых был представитель только одной группы (тестовой или контрольной)"
   ]
  },
  {
   "cell_type": "markdown",
   "metadata": {},
   "source": [
    "рассмотрим страны, которые мы исключали из анализа (упоминалось в комментарии после 18 строки кода)"
   ]
  },
  {
   "cell_type": "code",
   "execution_count": 123,
   "metadata": {},
   "outputs": [
    {
     "data": {
      "text/html": [
       "<div>\n",
       "<style scoped>\n",
       "    .dataframe tbody tr th:only-of-type {\n",
       "        vertical-align: middle;\n",
       "    }\n",
       "\n",
       "    .dataframe tbody tr th {\n",
       "        vertical-align: top;\n",
       "    }\n",
       "\n",
       "    .dataframe thead th {\n",
       "        text-align: right;\n",
       "    }\n",
       "</style>\n",
       "<table border=\"1\" class=\"dataframe\">\n",
       "  <thead>\n",
       "    <tr style=\"text-align: right;\">\n",
       "      <th>group</th>\n",
       "      <th>country</th>\n",
       "      <th>control1</th>\n",
       "      <th>control2</th>\n",
       "      <th>test</th>\n",
       "      <th>is_present</th>\n",
       "    </tr>\n",
       "  </thead>\n",
       "  <tbody>\n",
       "    <tr>\n",
       "      <th>20</th>\n",
       "      <td>Indonesia</td>\n",
       "      <td>NaN</td>\n",
       "      <td>NaN</td>\n",
       "      <td>4.0</td>\n",
       "      <td>no</td>\n",
       "    </tr>\n",
       "    <tr>\n",
       "      <th>23</th>\n",
       "      <td>Latvia</td>\n",
       "      <td>NaN</td>\n",
       "      <td>NaN</td>\n",
       "      <td>2.0</td>\n",
       "      <td>no</td>\n",
       "    </tr>\n",
       "    <tr>\n",
       "      <th>29</th>\n",
       "      <td>Singapore</td>\n",
       "      <td>NaN</td>\n",
       "      <td>NaN</td>\n",
       "      <td>1.0</td>\n",
       "      <td>no</td>\n",
       "    </tr>\n",
       "    <tr>\n",
       "      <th>33</th>\n",
       "      <td>Korea, Republic of</td>\n",
       "      <td>NaN</td>\n",
       "      <td>NaN</td>\n",
       "      <td>1.0</td>\n",
       "      <td>no</td>\n",
       "    </tr>\n",
       "    <tr>\n",
       "      <th>34</th>\n",
       "      <td>Nepal</td>\n",
       "      <td>NaN</td>\n",
       "      <td>NaN</td>\n",
       "      <td>1.0</td>\n",
       "      <td>no</td>\n",
       "    </tr>\n",
       "  </tbody>\n",
       "</table>\n",
       "</div>"
      ],
      "text/plain": [
       "group             country  control1  control2  test is_present\n",
       "20              Indonesia       NaN       NaN   4.0         no\n",
       "23                 Latvia       NaN       NaN   2.0         no\n",
       "29              Singapore       NaN       NaN   1.0         no\n",
       "33     Korea, Republic of       NaN       NaN   1.0         no\n",
       "34                  Nepal       NaN       NaN   1.0         no"
      ]
     },
     "execution_count": 123,
     "metadata": {},
     "output_type": "execute_result"
    }
   ],
   "source": [
    "countries_pivot.query('is_present==\"no\"').head()"
   ]
  },
  {
   "cell_type": "code",
   "execution_count": 124,
   "metadata": {},
   "outputs": [
    {
     "data": {
      "text/plain": [
       "(43, 14)"
      ]
     },
     "execution_count": 124,
     "metadata": {},
     "output_type": "execute_result"
    }
   ],
   "source": [
    "users_info_full_df.merge(countries_pivot.query('is_present==\"no\"')['country'], how='inner',on='country').shape"
   ]
  },
  {
   "cell_type": "markdown",
   "metadata": {},
   "source": [
    "всего оказалось 43 юзера, которые есть либо в тестовой, либо в одной из контрольных групп"
   ]
  },
  {
   "cell_type": "code",
   "execution_count": 125,
   "metadata": {},
   "outputs": [
    {
     "data": {
      "text/html": [
       "<div>\n",
       "<style scoped>\n",
       "    .dataframe tbody tr th:only-of-type {\n",
       "        vertical-align: middle;\n",
       "    }\n",
       "\n",
       "    .dataframe tbody tr th {\n",
       "        vertical-align: top;\n",
       "    }\n",
       "\n",
       "    .dataframe thead th {\n",
       "        text-align: right;\n",
       "    }\n",
       "</style>\n",
       "<table border=\"1\" class=\"dataframe\">\n",
       "  <thead>\n",
       "    <tr style=\"text-align: right;\">\n",
       "      <th></th>\n",
       "      <th>country</th>\n",
       "      <th>group</th>\n",
       "      <th>size</th>\n",
       "    </tr>\n",
       "  </thead>\n",
       "  <tbody>\n",
       "    <tr>\n",
       "      <th>0</th>\n",
       "      <td>Armenia</td>\n",
       "      <td>control1</td>\n",
       "      <td>1</td>\n",
       "    </tr>\n",
       "    <tr>\n",
       "      <th>1</th>\n",
       "      <td>Austria</td>\n",
       "      <td>control2</td>\n",
       "      <td>2</td>\n",
       "    </tr>\n",
       "    <tr>\n",
       "      <th>2</th>\n",
       "      <td>Azerbaijan</td>\n",
       "      <td>test</td>\n",
       "      <td>1</td>\n",
       "    </tr>\n",
       "    <tr>\n",
       "      <th>3</th>\n",
       "      <td>Belarus</td>\n",
       "      <td>control2</td>\n",
       "      <td>1</td>\n",
       "    </tr>\n",
       "    <tr>\n",
       "      <th>4</th>\n",
       "      <td>Bolivia</td>\n",
       "      <td>test</td>\n",
       "      <td>1</td>\n",
       "    </tr>\n",
       "    <tr>\n",
       "      <th>5</th>\n",
       "      <td>Brazil</td>\n",
       "      <td>test</td>\n",
       "      <td>1</td>\n",
       "    </tr>\n",
       "    <tr>\n",
       "      <th>6</th>\n",
       "      <td>Burkina Faso</td>\n",
       "      <td>control1</td>\n",
       "      <td>1</td>\n",
       "    </tr>\n",
       "    <tr>\n",
       "      <th>7</th>\n",
       "      <td>China</td>\n",
       "      <td>control1</td>\n",
       "      <td>1</td>\n",
       "    </tr>\n",
       "    <tr>\n",
       "      <th>8</th>\n",
       "      <td>China</td>\n",
       "      <td>control2</td>\n",
       "      <td>1</td>\n",
       "    </tr>\n",
       "    <tr>\n",
       "      <th>9</th>\n",
       "      <td>Czech Republic</td>\n",
       "      <td>control2</td>\n",
       "      <td>1</td>\n",
       "    </tr>\n",
       "    <tr>\n",
       "      <th>10</th>\n",
       "      <td>Gambia</td>\n",
       "      <td>test</td>\n",
       "      <td>1</td>\n",
       "    </tr>\n",
       "    <tr>\n",
       "      <th>11</th>\n",
       "      <td>Guatemala</td>\n",
       "      <td>test</td>\n",
       "      <td>1</td>\n",
       "    </tr>\n",
       "    <tr>\n",
       "      <th>12</th>\n",
       "      <td>Indonesia</td>\n",
       "      <td>test</td>\n",
       "      <td>4</td>\n",
       "    </tr>\n",
       "    <tr>\n",
       "      <th>13</th>\n",
       "      <td>Iraq</td>\n",
       "      <td>test</td>\n",
       "      <td>1</td>\n",
       "    </tr>\n",
       "    <tr>\n",
       "      <th>14</th>\n",
       "      <td>Islamic Republic of Iran</td>\n",
       "      <td>test</td>\n",
       "      <td>1</td>\n",
       "    </tr>\n",
       "    <tr>\n",
       "      <th>15</th>\n",
       "      <td>Jamaica</td>\n",
       "      <td>control1</td>\n",
       "      <td>1</td>\n",
       "    </tr>\n",
       "    <tr>\n",
       "      <th>16</th>\n",
       "      <td>Korea, Republic of</td>\n",
       "      <td>test</td>\n",
       "      <td>1</td>\n",
       "    </tr>\n",
       "    <tr>\n",
       "      <th>17</th>\n",
       "      <td>Kuwait</td>\n",
       "      <td>control2</td>\n",
       "      <td>1</td>\n",
       "    </tr>\n",
       "    <tr>\n",
       "      <th>18</th>\n",
       "      <td>Latvia</td>\n",
       "      <td>test</td>\n",
       "      <td>2</td>\n",
       "    </tr>\n",
       "    <tr>\n",
       "      <th>19</th>\n",
       "      <td>Lithuania</td>\n",
       "      <td>control2</td>\n",
       "      <td>1</td>\n",
       "    </tr>\n",
       "  </tbody>\n",
       "</table>\n",
       "</div>"
      ],
      "text/plain": [
       "                     country     group  size\n",
       "0                    Armenia  control1     1\n",
       "1                    Austria  control2     2\n",
       "2                 Azerbaijan      test     1\n",
       "3                    Belarus  control2     1\n",
       "4                    Bolivia      test     1\n",
       "5                     Brazil      test     1\n",
       "6               Burkina Faso  control1     1\n",
       "7                      China  control1     1\n",
       "8                      China  control2     1\n",
       "9             Czech Republic  control2     1\n",
       "10                    Gambia      test     1\n",
       "11                 Guatemala      test     1\n",
       "12                 Indonesia      test     4\n",
       "13                      Iraq      test     1\n",
       "14  Islamic Republic of Iran      test     1\n",
       "15                   Jamaica  control1     1\n",
       "16        Korea, Republic of      test     1\n",
       "17                    Kuwait  control2     1\n",
       "18                    Latvia      test     2\n",
       "19                 Lithuania  control2     1"
      ]
     },
     "execution_count": 125,
     "metadata": {},
     "output_type": "execute_result"
    }
   ],
   "source": [
    "users_info_full_df.merge(countries_pivot.query('is_present==\"no\"')['country'], how='inner',on='country') \\\n",
    ".groupby (['country', 'group' ], as_index=False).size().head(20)"
   ]
  },
  {
   "cell_type": "code",
   "execution_count": 126,
   "metadata": {},
   "outputs": [
    {
     "data": {
      "text/plain": [
       "35035"
      ]
     },
     "execution_count": 126,
     "metadata": {},
     "output_type": "execute_result"
    }
   ],
   "source": [
    "#посмотрим сколько выручки они принесли\n",
    "users_info_full_df.merge(countries_pivot.query('is_present==\"no\"')['country'], how='inner',on='country') \\\n",
    ".total_revenue.sum()"
   ]
  },
  {
   "cell_type": "code",
   "execution_count": 127,
   "metadata": {},
   "outputs": [
    {
     "data": {
      "text/html": [
       "<div>\n",
       "<style scoped>\n",
       "    .dataframe tbody tr th:only-of-type {\n",
       "        vertical-align: middle;\n",
       "    }\n",
       "\n",
       "    .dataframe tbody tr th {\n",
       "        vertical-align: top;\n",
       "    }\n",
       "\n",
       "    .dataframe thead th {\n",
       "        text-align: right;\n",
       "    }\n",
       "</style>\n",
       "<table border=\"1\" class=\"dataframe\">\n",
       "  <thead>\n",
       "    <tr style=\"text-align: right;\">\n",
       "      <th></th>\n",
       "      <th>uid</th>\n",
       "      <th>age</th>\n",
       "      <th>attraction_coeff</th>\n",
       "      <th>coins</th>\n",
       "      <th>country</th>\n",
       "      <th>visit_days</th>\n",
       "      <th>gender</th>\n",
       "      <th>age_filter_start</th>\n",
       "      <th>age_filter_end</th>\n",
       "      <th>views_count</th>\n",
       "      <th>was_premium</th>\n",
       "      <th>is_premium</th>\n",
       "      <th>total_revenue</th>\n",
       "      <th>group</th>\n",
       "    </tr>\n",
       "  </thead>\n",
       "  <tbody>\n",
       "    <tr>\n",
       "      <th>9</th>\n",
       "      <td>891508155</td>\n",
       "      <td>34</td>\n",
       "      <td>101</td>\n",
       "      <td>1.0</td>\n",
       "      <td>Latvia</td>\n",
       "      <td>1,2,3,4,5,6,7,8,9,10,11,12,13</td>\n",
       "      <td>1</td>\n",
       "      <td>20</td>\n",
       "      <td>32</td>\n",
       "      <td>226</td>\n",
       "      <td>1.0</td>\n",
       "      <td>1.0</td>\n",
       "      <td>10101</td>\n",
       "      <td>test</td>\n",
       "    </tr>\n",
       "    <tr>\n",
       "      <th>31</th>\n",
       "      <td>891672225</td>\n",
       "      <td>38</td>\n",
       "      <td>163</td>\n",
       "      <td>11.0</td>\n",
       "      <td>Austria</td>\n",
       "      <td>1,2,8,9,10,11,12,13,15,16</td>\n",
       "      <td>1</td>\n",
       "      <td>35</td>\n",
       "      <td>41</td>\n",
       "      <td>49</td>\n",
       "      <td>1.0</td>\n",
       "      <td>1.0</td>\n",
       "      <td>12168</td>\n",
       "      <td>control2</td>\n",
       "    </tr>\n",
       "    <tr>\n",
       "      <th>42</th>\n",
       "      <td>891791565</td>\n",
       "      <td>42</td>\n",
       "      <td>103</td>\n",
       "      <td>NaN</td>\n",
       "      <td>Lithuania</td>\n",
       "      <td>1,2,3,4,5,6,7,8,9,10,11,12,13,14,15,16,17,18</td>\n",
       "      <td>1</td>\n",
       "      <td>19</td>\n",
       "      <td>39</td>\n",
       "      <td>58</td>\n",
       "      <td>1.0</td>\n",
       "      <td>1.0</td>\n",
       "      <td>12766</td>\n",
       "      <td>control2</td>\n",
       "    </tr>\n",
       "  </tbody>\n",
       "</table>\n",
       "</div>"
      ],
      "text/plain": [
       "          uid  age  attraction_coeff  coins    country  \\\n",
       "9   891508155   34               101    1.0     Latvia   \n",
       "31  891672225   38               163   11.0    Austria   \n",
       "42  891791565   42               103    NaN  Lithuania   \n",
       "\n",
       "                                      visit_days  gender  age_filter_start  \\\n",
       "9                  1,2,3,4,5,6,7,8,9,10,11,12,13       1                20   \n",
       "31                     1,2,8,9,10,11,12,13,15,16       1                35   \n",
       "42  1,2,3,4,5,6,7,8,9,10,11,12,13,14,15,16,17,18       1                19   \n",
       "\n",
       "    age_filter_end  views_count  was_premium  is_premium  total_revenue  \\\n",
       "9               32          226          1.0         1.0          10101   \n",
       "31              41           49          1.0         1.0          12168   \n",
       "42              39           58          1.0         1.0          12766   \n",
       "\n",
       "       group  \n",
       "9       test  \n",
       "31  control2  \n",
       "42  control2  "
      ]
     },
     "execution_count": 127,
     "metadata": {},
     "output_type": "execute_result"
    }
   ],
   "source": [
    "#посмотрим сколько юзеров сформировало эту выручку\n",
    "users_info_full_df.merge(countries_pivot.query('is_present==\"no\"')['country'], how='inner',on='country') \\\n",
    "                            .query('total_revenue>0')"
   ]
  },
  {
   "cell_type": "code",
   "execution_count": 128,
   "metadata": {},
   "outputs": [
    {
     "data": {
      "text/html": [
       "<div>\n",
       "<style scoped>\n",
       "    .dataframe tbody tr th:only-of-type {\n",
       "        vertical-align: middle;\n",
       "    }\n",
       "\n",
       "    .dataframe tbody tr th {\n",
       "        vertical-align: top;\n",
       "    }\n",
       "\n",
       "    .dataframe thead th {\n",
       "        text-align: right;\n",
       "    }\n",
       "</style>\n",
       "<table border=\"1\" class=\"dataframe\">\n",
       "  <thead>\n",
       "    <tr style=\"text-align: right;\">\n",
       "      <th></th>\n",
       "      <th>uid</th>\n",
       "      <th>country</th>\n",
       "      <th>joined_at</th>\n",
       "      <th>paid_at</th>\n",
       "      <th>revenue</th>\n",
       "      <th>payment_id</th>\n",
       "      <th>from_page</th>\n",
       "      <th>product_type</th>\n",
       "      <th>group</th>\n",
       "    </tr>\n",
       "  </thead>\n",
       "  <tbody>\n",
       "    <tr>\n",
       "      <th>15</th>\n",
       "      <td>891508155.0</td>\n",
       "      <td>Latvia</td>\n",
       "      <td>2017-02-11 09:46:00</td>\n",
       "      <td>2017-03-11 22:06:00</td>\n",
       "      <td>936.0</td>\n",
       "      <td>19.0</td>\n",
       "      <td>empty_likes</td>\n",
       "      <td>coins</td>\n",
       "      <td>test</td>\n",
       "    </tr>\n",
       "    <tr>\n",
       "      <th>90</th>\n",
       "      <td>891508155.0</td>\n",
       "      <td>Latvia</td>\n",
       "      <td>2017-02-11 09:46:00</td>\n",
       "      <td>2017-05-11 23:59:00</td>\n",
       "      <td>936.0</td>\n",
       "      <td>19.0</td>\n",
       "      <td>menu</td>\n",
       "      <td>coins</td>\n",
       "      <td>test</td>\n",
       "    </tr>\n",
       "    <tr>\n",
       "      <th>147</th>\n",
       "      <td>891508155.0</td>\n",
       "      <td>Latvia</td>\n",
       "      <td>2017-02-11 09:46:00</td>\n",
       "      <td>2017-02-11 17:34:00</td>\n",
       "      <td>936.0</td>\n",
       "      <td>146.0</td>\n",
       "      <td>gifts</td>\n",
       "      <td>coins</td>\n",
       "      <td>test</td>\n",
       "    </tr>\n",
       "    <tr>\n",
       "      <th>158</th>\n",
       "      <td>891508155.0</td>\n",
       "      <td>Latvia</td>\n",
       "      <td>2017-02-11 09:46:00</td>\n",
       "      <td>2017-03-11 22:06:00</td>\n",
       "      <td>936.0</td>\n",
       "      <td>19.0</td>\n",
       "      <td>empty_likes</td>\n",
       "      <td>coins</td>\n",
       "      <td>test</td>\n",
       "    </tr>\n",
       "    <tr>\n",
       "      <th>230</th>\n",
       "      <td>891508155.0</td>\n",
       "      <td>Latvia</td>\n",
       "      <td>2017-02-11 09:46:00</td>\n",
       "      <td>2017-11-11 20:38:00</td>\n",
       "      <td>6357.0</td>\n",
       "      <td>147.0</td>\n",
       "      <td>promo_09</td>\n",
       "      <td>premium_no_trial</td>\n",
       "      <td>test</td>\n",
       "    </tr>\n",
       "    <tr>\n",
       "      <th>116</th>\n",
       "      <td>891791565.0</td>\n",
       "      <td>Lithuania</td>\n",
       "      <td>2017-10-27 16:03:00</td>\n",
       "      <td>2017-03-11 21:54:00</td>\n",
       "      <td>12766.0</td>\n",
       "      <td>147.0</td>\n",
       "      <td>trial_vip_popup</td>\n",
       "      <td>trial_premium</td>\n",
       "      <td>control2</td>\n",
       "    </tr>\n",
       "    <tr>\n",
       "      <th>227</th>\n",
       "      <td>891672225.0</td>\n",
       "      <td>Austria</td>\n",
       "      <td>2017-10-29 21:59:00</td>\n",
       "      <td>2017-08-11 13:54:00</td>\n",
       "      <td>4056.0</td>\n",
       "      <td>19.0</td>\n",
       "      <td>none</td>\n",
       "      <td>coins</td>\n",
       "      <td>control2</td>\n",
       "    </tr>\n",
       "    <tr>\n",
       "      <th>232</th>\n",
       "      <td>891672225.0</td>\n",
       "      <td>Austria</td>\n",
       "      <td>2017-10-29 21:59:00</td>\n",
       "      <td>2017-06-11 23:58:00</td>\n",
       "      <td>4056.0</td>\n",
       "      <td>68.0</td>\n",
       "      <td>none</td>\n",
       "      <td>premium_no_trial</td>\n",
       "      <td>control2</td>\n",
       "    </tr>\n",
       "    <tr>\n",
       "      <th>290</th>\n",
       "      <td>891672225.0</td>\n",
       "      <td>Austria</td>\n",
       "      <td>2017-10-29 21:59:00</td>\n",
       "      <td>2017-07-11 11:26:00</td>\n",
       "      <td>4056.0</td>\n",
       "      <td>19.0</td>\n",
       "      <td>none</td>\n",
       "      <td>coins</td>\n",
       "      <td>control2</td>\n",
       "    </tr>\n",
       "  </tbody>\n",
       "</table>\n",
       "</div>"
      ],
      "text/plain": [
       "             uid    country           joined_at             paid_at  revenue  \\\n",
       "15   891508155.0     Latvia 2017-02-11 09:46:00 2017-03-11 22:06:00    936.0   \n",
       "90   891508155.0     Latvia 2017-02-11 09:46:00 2017-05-11 23:59:00    936.0   \n",
       "147  891508155.0     Latvia 2017-02-11 09:46:00 2017-02-11 17:34:00    936.0   \n",
       "158  891508155.0     Latvia 2017-02-11 09:46:00 2017-03-11 22:06:00    936.0   \n",
       "230  891508155.0     Latvia 2017-02-11 09:46:00 2017-11-11 20:38:00   6357.0   \n",
       "116  891791565.0  Lithuania 2017-10-27 16:03:00 2017-03-11 21:54:00  12766.0   \n",
       "227  891672225.0    Austria 2017-10-29 21:59:00 2017-08-11 13:54:00   4056.0   \n",
       "232  891672225.0    Austria 2017-10-29 21:59:00 2017-06-11 23:58:00   4056.0   \n",
       "290  891672225.0    Austria 2017-10-29 21:59:00 2017-07-11 11:26:00   4056.0   \n",
       "\n",
       "     payment_id        from_page      product_type     group  \n",
       "15         19.0      empty_likes             coins      test  \n",
       "90         19.0             menu             coins      test  \n",
       "147       146.0            gifts             coins      test  \n",
       "158        19.0      empty_likes             coins      test  \n",
       "230       147.0         promo_09  premium_no_trial      test  \n",
       "116       147.0  trial_vip_popup     trial_premium  control2  \n",
       "227        19.0             none             coins  control2  \n",
       "232        68.0             none  premium_no_trial  control2  \n",
       "290        19.0             none             coins  control2  "
      ]
     },
     "execution_count": 128,
     "metadata": {},
     "output_type": "execute_result"
    }
   ],
   "source": [
    "#посмотрим транзакции по этим юзерам\n",
    "transactions_full_df.query('uid == 891508155 | uid == 891672225 | uid == 891791565')"
   ]
  },
  {
   "cell_type": "markdown",
   "metadata": {},
   "source": [
    "Какие можно сделать выводы и инсайты: \n",
    "Так как выручка по данным пользователям составила всего около 0,5%  от общей выручки и пользователей всего 43 (и только 3 из них сформировали выручку), можно сказать, что это обычная статистическая погрешность и особо полезной информации из анализа этих пользователей мы не вынесем. "
   ]
  }
 ],
 "metadata": {
  "kernelspec": {
   "display_name": "Python 3",
   "language": "python",
   "name": "python3"
  },
  "language_info": {
   "codemirror_mode": {
    "name": "ipython",
    "version": 3
   },
   "file_extension": ".py",
   "mimetype": "text/x-python",
   "name": "python",
   "nbconvert_exporter": "python",
   "pygments_lexer": "ipython3",
   "version": "3.7.3"
  }
 },
 "nbformat": 4,
 "nbformat_minor": 4
}
